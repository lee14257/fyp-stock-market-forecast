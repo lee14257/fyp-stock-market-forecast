{
  "nbformat": 4,
  "nbformat_minor": 0,
  "metadata": {
    "colab": {
      "name": "Copy of Bidirectional LSTM.ipynb",
      "version": "0.3.2",
      "provenance": [],
      "collapsed_sections": []
    },
    "kernelspec": {
      "name": "python3",
      "display_name": "Python 3"
    },
    "accelerator": "TPU"
  },
  "cells": [
    {
      "metadata": {
        "id": "8q05dTt9ECDE",
        "colab_type": "text"
      },
      "cell_type": "markdown",
      "source": [
        "# Import Libraries"
      ]
    },
    {
      "metadata": {
        "id": "1zfq58dqt_n-",
        "colab_type": "code",
        "colab": {}
      },
      "cell_type": "code",
      "source": [
        "import os\n",
        "import time\n",
        "import numpy as np\n",
        "import pandas as pd\n",
        "import matplotlib.pyplot as plt\n",
        "from tensorflow.keras.models import Sequential, Model\n",
        "from tensorflow.keras.layers import Dense, Dropout, Flatten, Input, Bidirectional, LSTM\n",
        "from tensorflow.keras import backend as K\n",
        "import tensorflow as tf\n",
        "from sklearn.utils import shuffle\n",
        "from sklearn.preprocessing import StandardScaler\n",
        "import warnings\n",
        "warnings.filterwarnings(\"ignore\")"
      ],
      "execution_count": 0,
      "outputs": []
    },
    {
      "metadata": {
        "id": "UgCQNB86EIxH",
        "colab_type": "text"
      },
      "cell_type": "markdown",
      "source": [
        "# Check for TPU"
      ]
    },
    {
      "metadata": {
        "id": "cOKh31fKD9bP",
        "colab_type": "code",
        "outputId": "3f42b7a0-90a7-4b91-9d4f-433e639fade1",
        "colab": {
          "base_uri": "https://localhost:8080/",
          "height": 34
        }
      },
      "cell_type": "code",
      "source": [
        "try:\n",
        "  device_name = os.environ['COLAB_TPU_ADDR']\n",
        "  TPU_ADDRESS = 'grpc://' + device_name\n",
        "  print('Found TPU at: {}'.format(TPU_ADDRESS))\n",
        "\n",
        "except KeyError:\n",
        "  print('TPU not found')"
      ],
      "execution_count": 0,
      "outputs": [
        {
          "output_type": "stream",
          "text": [
            "Found TPU at: grpc://10.7.246.18:8470\n"
          ],
          "name": "stdout"
        }
      ]
    },
    {
      "metadata": {
        "id": "8Fa7nngVENQ-",
        "colab_type": "text"
      },
      "cell_type": "markdown",
      "source": [
        "# Load Data\n",
        "\n",
        "Download Data from Google Drive"
      ]
    },
    {
      "metadata": {
        "id": "a5hehlz5utei",
        "colab_type": "code",
        "outputId": "c67f56d9-1736-40ca-a0f5-a84d94ce89a2",
        "colab": {
          "base_uri": "https://localhost:8080/",
          "height": 51
        }
      },
      "cell_type": "code",
      "source": [
        "!pip install -U -q PyDrive\n",
        "import os\n",
        "from pydrive.auth import GoogleAuth\n",
        "from pydrive.drive import GoogleDrive\n",
        "from google.colab import auth\n",
        "from oauth2client.client import GoogleCredentials\n",
        "\n",
        "# 1. Authenticate and create the PyDrive client.\n",
        "auth.authenticate_user()\n",
        "gauth = GoogleAuth()\n",
        "gauth.credentials = GoogleCredentials.get_application_default()\n",
        "drive = GoogleDrive(gauth)\n",
        "\n",
        "# choose a local (colab) directory to store the data.\n",
        "local_download_path = os.path.expanduser('~/data')\n",
        "try:\n",
        "  os.makedirs(local_download_path)\n",
        "except: pass\n",
        "\n",
        "# 2. Auto-iterate using the query syntax\n",
        "#    https://developers.google.com/drive/v2/web/search-parameters\n",
        "file_list = drive.ListFile(\n",
        "    {'q': \"'1l6EHtc6hy2VrwLZGX0APpV09L11y2B4q' in parents\"}).GetList()\n",
        "\n",
        "for f in file_list:\n",
        "  # 3. Create & download by id.\n",
        "  print('title: %s, id: %s' % (f['title'], f['id']))\n",
        "  fname = os.path.join(local_download_path, f['title'])\n",
        "  print('downloading to {}'.format(fname))\n",
        "  f_ = drive.CreateFile({'id': f['id']})\n",
        "  f_.GetContentFile(fname)"
      ],
      "execution_count": 0,
      "outputs": [
        {
          "output_type": "stream",
          "text": [
            "title: @NQ_Daily.txt, id: 1lNJ2Axp0utKI8d0lvWpKAaRptqjX5WNq\n",
            "downloading to /root/data/@NQ_Daily.txt\n"
          ],
          "name": "stdout"
        }
      ]
    },
    {
      "metadata": {
        "id": "8lxvF0YK7lb9",
        "colab_type": "code",
        "colab": {}
      },
      "cell_type": "code",
      "source": [
        "def load_data(data, seq_len, all_data):\n",
        "    sequence_length = seq_len + 1\n",
        "    result = []\n",
        "    \n",
        "    # Turn dataset into time-series\n",
        "    for index in range(len(data) - sequence_length + 1):\n",
        "        result.append(data[index: index + sequence_length, :])\n",
        "    \n",
        "    result = np.array(result)\n",
        "    # Pre-standardized Data\n",
        "    original_data = result.copy()\n",
        "    \n",
        "    # Standardize Data\n",
        "    result, scalars = standardize_windows(result)\n",
        "    result = np.array(result)\n",
        "    \n",
        "    # Split into Training and Test Sets\n",
        "    row = round(0.8 * result.shape[0])\n",
        "    train_result = shuffle(result[:int(row),:,:])\n",
        "    x_train = train_result[:, :-1, :]\n",
        "    y_train = train_result[:, -1, 3]\n",
        "    x_test = result[int(row):, :-1, :]\n",
        "    y_test = result[int(row):, -1, 3]\n",
        "    original_data = original_data[int(row):, -1, 3]\n",
        "    dates = all_data['Date'].values[int(row)+seq_len:]\n",
        "    \n",
        "    return [x_train, y_train, x_test, y_test, scalars, original_data, dates]"
      ],
      "execution_count": 0,
      "outputs": []
    },
    {
      "metadata": {
        "id": "mkvJWCaosPsB",
        "colab_type": "text"
      },
      "cell_type": "markdown",
      "source": [
        "## Standaradize Data"
      ]
    },
    {
      "metadata": {
        "id": "4P00MFvo7mHN",
        "colab_type": "code",
        "colab": {}
      },
      "cell_type": "code",
      "source": [
        "def standardize_windows(window_data):\n",
        "    standardized_data = []\n",
        "    scalar = []\n",
        "    i = 0\n",
        "    for window in window_data:\n",
        "        scalar.append(StandardScaler())\n",
        "        scalar[i].fit(window[:-1])\n",
        "        standardized_window = scalar[i].transform(window)\n",
        "        standardized_data.append(standardized_window)\n",
        "        i += 1\n",
        "    return standardized_data, scalar"
      ],
      "execution_count": 0,
      "outputs": []
    },
    {
      "metadata": {
        "id": "5TqLVaT0svA7",
        "colab_type": "text"
      },
      "cell_type": "markdown",
      "source": [
        "# Helper Functions\n",
        "\n",
        "## Create Model"
      ]
    },
    {
      "metadata": {
        "id": "5ivinNdgbgnW",
        "colab_type": "code",
        "colab": {}
      },
      "cell_type": "code",
      "source": [
        "def create_model(data):\n",
        "  \n",
        "  input_data = tf.keras.Input(shape=(data.shape[1], data.shape[2]))\n",
        "\n",
        "  x = Bidirectional(LSTM(32, return_sequences=True))(input_data)\n",
        "\n",
        "  x = Bidirectional(LSTM(32, return_sequences=True))(x)\n",
        "\n",
        "  x = Bidirectional(LSTM(32, return_sequences=True))(x)\n",
        "\n",
        "  x = Bidirectional(LSTM(32, return_sequences=True))(x)\n",
        "\n",
        "  x = Bidirectional(LSTM(32, return_sequences=False))(x)\n",
        "\n",
        "  x = Dense(1, activation='linear')(x)\n",
        "\n",
        "  model = tf.keras.Model(input_data, x)\n",
        "\n",
        "  opt = tf.train.AdamOptimizer()\n",
        "\n",
        "  model.compile(loss='mse', optimizer=opt)\n",
        "  \n",
        "  model = tf.contrib.tpu.keras_to_tpu_model(\n",
        "    model,\n",
        "    strategy=tf.contrib.tpu.TPUDistributionStrategy(\n",
        "        tf.contrib.cluster_resolver.TPUClusterResolver(TPU_ADDRESS)))\n",
        "\n",
        "  model.summary()\n",
        "  \n",
        "  return model"
      ],
      "execution_count": 0,
      "outputs": []
    },
    {
      "metadata": {
        "id": "asJumfaCjZTN",
        "colab_type": "text"
      },
      "cell_type": "markdown",
      "source": [
        "## Plot Loss"
      ]
    },
    {
      "metadata": {
        "id": "uIPqR6RQjcnn",
        "colab_type": "code",
        "colab": {}
      },
      "cell_type": "code",
      "source": [
        "def plot_loss(history):\n",
        "  # Plot training & validation loss values\n",
        "  plt.plot(history.history['loss'])\n",
        "  plt.plot(history.history['val_loss'])\n",
        "  plt.title('Model loss')\n",
        "  plt.ylabel('Loss')\n",
        "  plt.xlabel('Epoch')\n",
        "  plt.legend(['Train', 'Validation'], loc='upper left')\n",
        "  plt.show()"
      ],
      "execution_count": 0,
      "outputs": []
    },
    {
      "metadata": {
        "id": "61GXhXMwvuXQ",
        "colab_type": "text"
      },
      "cell_type": "markdown",
      "source": [
        "## Transform Values into Directional Data"
      ]
    },
    {
      "metadata": {
        "colab_type": "code",
        "id": "02vX6IRTa04J",
        "colab": {}
      },
      "cell_type": "code",
      "source": [
        "def directional_data(data, original_data):\n",
        "    result = []\n",
        "    x = 0\n",
        "    y = 0\n",
        "    z = 0\n",
        "    for j in range(1,len(data)):\n",
        "        i = j\n",
        "        if abs(data[i]-original_data[i-1]) < (0.3/100*original_data[i-1]):\n",
        "            result.append([0,1,0])\n",
        "            x = x+1\n",
        "        elif data[i] > original_data[i-1]:\n",
        "            result.append([0,0,1])\n",
        "            y = y+1\n",
        "        else:\n",
        "            result.append([1,0,0])\n",
        "            z = z+1\n",
        "    print(\"No change: \" + str(x))\n",
        "    print(\"Up: \" + str(y))\n",
        "    print(\"Down: \" + str(z))\n",
        "    result = np.array(result)\n",
        "    return result"
      ],
      "execution_count": 0,
      "outputs": []
    },
    {
      "metadata": {
        "id": "YBh_VoIPtDDG",
        "colab_type": "text"
      },
      "cell_type": "markdown",
      "source": [
        "## Plot Results"
      ]
    },
    {
      "metadata": {
        "id": "jfi70YgX_JCX",
        "colab_type": "code",
        "colab": {}
      },
      "cell_type": "code",
      "source": [
        "def plot_results(predicted_data, true_data):\n",
        "    fig = plt.figure(num=None, figsize=(16, 12), dpi=80, facecolor='w', edgecolor='k')\n",
        "    ax = fig.add_subplot(111)\n",
        "    ax.plot(true_data, label='True Data')\n",
        "    plt.plot(predicted_data, label='Prediction')\n",
        "    plt.legend()\n",
        "    plt.show()"
      ],
      "execution_count": 0,
      "outputs": []
    },
    {
      "metadata": {
        "id": "JQhfrE-qwZk0",
        "colab_type": "text"
      },
      "cell_type": "markdown",
      "source": [
        "## Plot Confusion Matrix"
      ]
    },
    {
      "metadata": {
        "colab_type": "code",
        "id": "XvwxnEpUa04X",
        "colab": {}
      },
      "cell_type": "code",
      "source": [
        "from sklearn.metrics import confusion_matrix\n",
        "\n",
        "def plot_confusion_matrix(y_true, y_pred,\n",
        "                          normalize=False,\n",
        "                          title=None,\n",
        "                          cmap=plt.cm.Blues):\n",
        "    \"\"\"\n",
        "    This function prints and plots the confusion matrix.\n",
        "    Normalization can be applied by setting `normalize=True`.\n",
        "    \"\"\"\n",
        "    if not title:\n",
        "        if normalize:\n",
        "            title = 'Normalized confusion matrix'\n",
        "        else:\n",
        "            title = 'Confusion matrix, without normalization'\n",
        "\n",
        "    # Compute confusion matrix\n",
        "    cm = confusion_matrix(y_true, y_pred)\n",
        "    # Only use the labels that appear in the data\n",
        "    classes = [\"Down\", \"No Change\", \"Up\"]\n",
        "    if normalize:\n",
        "        cm = cm.astype('float') / cm.sum(axis=1)[:, np.newaxis]\n",
        "        print(\"Normalized confusion matrix\")\n",
        "    else:\n",
        "        print('Confusion matrix, without normalization')\n",
        "\n",
        "    print(cm)\n",
        "    \n",
        "    mpl.rcParams['axes.grid'] = False\n",
        "    fig, ax = plt.subplots(1,1, figsize=(12, 8), dpi=80, facecolor='w', edgecolor='k')\n",
        "    \n",
        "    im = ax.imshow(cm, interpolation='nearest', cmap=cmap)\n",
        "    ax.figure.colorbar(im, ax=ax)\n",
        "    # We want to show all ticks...\n",
        "    ax.set(xticks=np.arange(cm.shape[1]),\n",
        "           yticks=np.arange(cm.shape[0]),\n",
        "           # ... and label them with the respective list entries\n",
        "           xticklabels=classes, yticklabels=classes,\n",
        "           title=title,\n",
        "           ylabel='True label',\n",
        "           xlabel='Predicted label')\n",
        "\n",
        "    # Rotate the tick labels and set their alignment.\n",
        "    plt.setp(ax.get_xticklabels(), rotation=45, ha=\"right\",\n",
        "             rotation_mode=\"anchor\")\n",
        "\n",
        "    # Loop over data dimensions and create text annotations.\n",
        "    fmt = '.2f' if normalize else 'd'\n",
        "    thresh = cm.max() / 2.\n",
        "    for i in range(cm.shape[0]):\n",
        "        for j in range(cm.shape[1]):\n",
        "            ax.text(j, i, format(cm[i, j], fmt),\n",
        "                    ha=\"center\", va=\"center\",\n",
        "                    color=\"white\" if cm[i, j] > thresh else \"black\")\n",
        "    fig.tight_layout()\n",
        "    fig.show\n",
        "    return ax"
      ],
      "execution_count": 0,
      "outputs": []
    },
    {
      "metadata": {
        "id": "qjyd_BApuMY9",
        "colab_type": "text"
      },
      "cell_type": "markdown",
      "source": [
        "# Experiments\n"
      ]
    },
    {
      "metadata": {
        "id": "5JF7SLR-uXm8",
        "colab_type": "text"
      },
      "cell_type": "markdown",
      "source": [
        "## Define Constants and Load Data"
      ]
    },
    {
      "metadata": {
        "id": "1tLvtocpuWXT",
        "colab_type": "code",
        "colab": {}
      },
      "cell_type": "code",
      "source": [
        "epochs  = 100\n",
        "seq_len = 30\n",
        "\n",
        "with open(fname, 'r') as f:\n",
        "  all_data = pd.read_csv(f, sep=',')\n",
        "df = all_data.drop([\"Date\",\"Time\", \"OpenBar\", \"FLS\"], axis=1)"
      ],
      "execution_count": 0,
      "outputs": []
    },
    {
      "metadata": {
        "id": "zdVFZiSmubCd",
        "colab_type": "text"
      },
      "cell_type": "markdown",
      "source": [
        "## First Half\n",
        "\n",
        "### Load Data"
      ]
    },
    {
      "metadata": {
        "id": "YMAyiYlXuvTl",
        "colab_type": "code",
        "outputId": "07295eee-65e4-4e10-84eb-97cce2f9415f",
        "colab": {
          "base_uri": "https://localhost:8080/",
          "height": 51
        }
      },
      "cell_type": "code",
      "source": [
        "x_train, y_train, x_test, y_test, scalars, original_data, dates = load_data(df.values[:int(len(df)/2)], seq_len, all_data[:int(len(df)/2)])\n",
        "\n",
        "TPU = 8\n",
        "\n",
        "index = int(x_test.shape[0]/TPU)*TPU\n",
        "x_test = x_test[:index,:,:]\n",
        "y_test = y_test[:index]\n",
        "original_data = original_data[:index]\n",
        "dates = dates[:index]\n",
        "\n",
        "print(x_train.shape)\n",
        "print(y_train.shape)"
      ],
      "execution_count": 0,
      "outputs": [
        {
          "output_type": "stream",
          "text": [
            "(1827, 30, 16)\n",
            "(1827,)\n"
          ],
          "name": "stdout"
        }
      ]
    },
    {
      "metadata": {
        "id": "MjzeMJI3ut_G",
        "colab_type": "text"
      },
      "cell_type": "markdown",
      "source": [
        "### Create Model"
      ]
    },
    {
      "metadata": {
        "id": "egJ89aDSuyDt",
        "colab_type": "code",
        "outputId": "e3d2d59b-c720-4680-9dd9-3a3a62fe57cd",
        "colab": {
          "base_uri": "https://localhost:8080/",
          "height": 663
        }
      },
      "cell_type": "code",
      "source": [
        "model = create_model(x_train)"
      ],
      "execution_count": 0,
      "outputs": [
        {
          "output_type": "stream",
          "text": [
            "INFO:tensorflow:Querying Tensorflow master (grpc://10.7.246.18:8470) for TPU system metadata.\n",
            "INFO:tensorflow:Found TPU system:\n",
            "INFO:tensorflow:*** Num TPU Cores: 8\n",
            "INFO:tensorflow:*** Num TPU Workers: 1\n",
            "INFO:tensorflow:*** Num TPU Cores Per Worker: 8\n",
            "INFO:tensorflow:*** Available Device: _DeviceAttributes(/job:worker/replica:0/task:0/device:CPU:0, CPU, -1, 7456853519070713707)\n",
            "INFO:tensorflow:*** Available Device: _DeviceAttributes(/job:worker/replica:0/task:0/device:XLA_CPU:0, XLA_CPU, 17179869184, 14558934335835245626)\n",
            "INFO:tensorflow:*** Available Device: _DeviceAttributes(/job:worker/replica:0/task:0/device:TPU:0, TPU, 17179869184, 7541544238226734802)\n",
            "INFO:tensorflow:*** Available Device: _DeviceAttributes(/job:worker/replica:0/task:0/device:TPU:1, TPU, 17179869184, 15440706205147677990)\n",
            "INFO:tensorflow:*** Available Device: _DeviceAttributes(/job:worker/replica:0/task:0/device:TPU:2, TPU, 17179869184, 17528447551500237016)\n",
            "INFO:tensorflow:*** Available Device: _DeviceAttributes(/job:worker/replica:0/task:0/device:TPU:3, TPU, 17179869184, 422321217594073292)\n",
            "INFO:tensorflow:*** Available Device: _DeviceAttributes(/job:worker/replica:0/task:0/device:TPU:4, TPU, 17179869184, 2898351518484845619)\n",
            "INFO:tensorflow:*** Available Device: _DeviceAttributes(/job:worker/replica:0/task:0/device:TPU:5, TPU, 17179869184, 6379521446803040898)\n",
            "INFO:tensorflow:*** Available Device: _DeviceAttributes(/job:worker/replica:0/task:0/device:TPU:6, TPU, 17179869184, 16485429095622715691)\n",
            "INFO:tensorflow:*** Available Device: _DeviceAttributes(/job:worker/replica:0/task:0/device:TPU:7, TPU, 17179869184, 8792189691642193555)\n",
            "INFO:tensorflow:*** Available Device: _DeviceAttributes(/job:worker/replica:0/task:0/device:TPU_SYSTEM:0, TPU_SYSTEM, 17179869184, 13529535552764683159)\n",
            "WARNING:tensorflow:tpu_model (from tensorflow.contrib.tpu.python.tpu.keras_support) is experimental and may change or be removed at any time, and without warning.\n",
            "_________________________________________________________________\n",
            "Layer (type)                 Output Shape              Param #   \n",
            "=================================================================\n",
            "input_4 (InputLayer)         (None, 30, 16)            0         \n",
            "_________________________________________________________________\n",
            "bidirectional_15 (Bidirectio (None, 30, 64)            12544     \n",
            "_________________________________________________________________\n",
            "bidirectional_16 (Bidirectio (None, 30, 64)            24832     \n",
            "_________________________________________________________________\n",
            "bidirectional_17 (Bidirectio (None, 30, 64)            24832     \n",
            "_________________________________________________________________\n",
            "bidirectional_18 (Bidirectio (None, 30, 64)            24832     \n",
            "_________________________________________________________________\n",
            "bidirectional_19 (Bidirectio (None, 64)                24832     \n",
            "_________________________________________________________________\n",
            "dense_3 (Dense)              (None, 1)                 65        \n",
            "=================================================================\n",
            "Total params: 111,937\n",
            "Trainable params: 111,937\n",
            "Non-trainable params: 0\n",
            "_________________________________________________________________\n"
          ],
          "name": "stdout"
        }
      ]
    },
    {
      "metadata": {
        "id": "FlommJtBu16F",
        "colab_type": "text"
      },
      "cell_type": "markdown",
      "source": [
        "### Train Model"
      ]
    },
    {
      "metadata": {
        "id": "KeB2Syisc4GH",
        "colab_type": "code",
        "outputId": "fb86e0e8-10bb-43d7-eeb5-e0edf1a0be20",
        "colab": {
          "base_uri": "https://localhost:8080/",
          "height": 15422
        }
      },
      "cell_type": "code",
      "source": [
        "callbacks_list = [\n",
        "  tf.keras.callbacks.EarlyStopping(monitor='val_loss', patience=30)\n",
        "]\n",
        "\n",
        "history = model.fit(x_train,\n",
        "                    y_train,\n",
        "                    batch_size=60*TPU,\n",
        "                    epochs=5000,\n",
        "                    shuffle=True,\n",
        "                    callbacks=callbacks_list,\n",
        "                    validation_split=0.1,\n",
        "                    verbose=1)\n",
        "\n",
        "model.save('bi_lstm_first_half.h5')"
      ],
      "execution_count": 0,
      "outputs": [
        {
          "output_type": "stream",
          "text": [
            "Train on 1827 samples, validate on 183 samples\n",
            "Epoch 1/5000\n",
            "INFO:tensorflow:New input shapes; (re-)compiling: mode=train (# of cores 8), [TensorSpec(shape=(60,), dtype=tf.int32, name='core_id_60'), TensorSpec(shape=(60, 30, 16), dtype=tf.float32, name='input_4_10'), TensorSpec(shape=(60, 1), dtype=tf.float32, name='dense_3_target_30')]\n",
            "INFO:tensorflow:Overriding default placeholder.\n",
            "INFO:tensorflow:Remapping placeholder for input_4\n",
            "INFO:tensorflow:Started compiling\n",
            "INFO:tensorflow:Finished compiling. Time elapsed: 158.80647921562195 secs\n",
            "INFO:tensorflow:Setting weights on TPU model.\n",
            " 960/1827 [==============>...............] - ETA: 4:31 - loss: 2.1584 INFO:tensorflow:New input shapes; (re-)compiling: mode=train (# of cores 8), [TensorSpec(shape=(48,), dtype=tf.int32, name='core_id_60'), TensorSpec(shape=(48, 30, 16), dtype=tf.float32, name='input_4_10'), TensorSpec(shape=(48, 1), dtype=tf.float32, name='dense_3_target_30')]\n",
            "INFO:tensorflow:Overriding default placeholder.\n",
            "INFO:tensorflow:Remapping placeholder for input_4\n",
            "INFO:tensorflow:Started compiling\n",
            "INFO:tensorflow:Finished compiling. Time elapsed: 222.34989190101624 secs\n",
            "1440/1827 [======================>.......] - ETA: 2:30 - loss: 2.1176INFO:tensorflow:New input shapes; (re-)compiling: mode=eval (# of cores 8), [TensorSpec(shape=(22,), dtype=tf.int32, name='core_id_70'), TensorSpec(shape=(22, 30, 16), dtype=tf.float32, name='input_4_10'), TensorSpec(shape=(22, 1), dtype=tf.float32, name='dense_3_target_30')]\n",
            "INFO:tensorflow:Overriding default placeholder.\n",
            "INFO:tensorflow:Remapping placeholder for input_4\n",
            "INFO:tensorflow:Started compiling\n",
            "INFO:tensorflow:Finished compiling. Time elapsed: 265.643043756485 secs\n",
            "1827/1827 [==============================] - 868s 475ms/sample - loss: 2.0450 - val_loss: 1.8315\n",
            "Epoch 2/5000\n",
            "1827/1827 [==============================] - 0s 156us/sample - loss: 1.5078 - val_loss: 1.3110\n",
            "Epoch 3/5000\n",
            "1827/1827 [==============================] - 0s 157us/sample - loss: 1.2193 - val_loss: 1.1327\n",
            "Epoch 4/5000\n",
            "1827/1827 [==============================] - 0s 153us/sample - loss: 1.0711 - val_loss: 1.0494\n",
            "Epoch 5/5000\n",
            "1827/1827 [==============================] - 0s 150us/sample - loss: 0.9611 - val_loss: 0.9433\n",
            "Epoch 6/5000\n",
            "1827/1827 [==============================] - 0s 155us/sample - loss: 0.8608 - val_loss: 0.8338\n",
            "Epoch 7/5000\n",
            "1827/1827 [==============================] - 0s 148us/sample - loss: 0.7830 - val_loss: 0.8147\n",
            "Epoch 8/5000\n",
            "1827/1827 [==============================] - 0s 154us/sample - loss: 0.7111 - val_loss: 0.7871\n",
            "Epoch 9/5000\n",
            "1827/1827 [==============================] - 0s 155us/sample - loss: 0.7041 - val_loss: 0.7165\n",
            "Epoch 10/5000\n",
            "1827/1827 [==============================] - 0s 144us/sample - loss: 0.6577 - val_loss: 0.6521\n",
            "Epoch 11/5000\n",
            "1827/1827 [==============================] - 0s 148us/sample - loss: 0.6093 - val_loss: 0.6694\n",
            "Epoch 12/5000\n",
            "1827/1827 [==============================] - 0s 151us/sample - loss: 0.5752 - val_loss: 0.6086\n",
            "Epoch 13/5000\n",
            "1827/1827 [==============================] - 0s 153us/sample - loss: 0.5452 - val_loss: 0.6231\n",
            "Epoch 14/5000\n",
            "1827/1827 [==============================] - 0s 147us/sample - loss: 0.5337 - val_loss: 0.5545\n",
            "Epoch 15/5000\n",
            "1827/1827 [==============================] - 0s 151us/sample - loss: 0.5181 - val_loss: 0.5490\n",
            "Epoch 16/5000\n",
            "1827/1827 [==============================] - 0s 153us/sample - loss: 0.5078 - val_loss: 0.5491\n",
            "Epoch 17/5000\n",
            "1827/1827 [==============================] - 0s 151us/sample - loss: 0.4923 - val_loss: 0.5038\n",
            "Epoch 18/5000\n",
            "1827/1827 [==============================] - 0s 151us/sample - loss: 0.4836 - val_loss: 0.4967\n",
            "Epoch 19/5000\n",
            "1827/1827 [==============================] - 0s 149us/sample - loss: 0.4664 - val_loss: 0.4730\n",
            "Epoch 20/5000\n",
            "1827/1827 [==============================] - 0s 149us/sample - loss: 0.4723 - val_loss: 0.5184\n",
            "Epoch 21/5000\n",
            "1827/1827 [==============================] - 0s 149us/sample - loss: 0.4560 - val_loss: 0.4680\n",
            "Epoch 22/5000\n",
            "1827/1827 [==============================] - 0s 149us/sample - loss: 0.4523 - val_loss: 0.4876\n",
            "Epoch 23/5000\n",
            "1827/1827 [==============================] - 0s 150us/sample - loss: 0.4498 - val_loss: 0.4515\n",
            "Epoch 24/5000\n",
            "1827/1827 [==============================] - 0s 162us/sample - loss: 0.4337 - val_loss: 0.4306\n",
            "Epoch 25/5000\n",
            "1827/1827 [==============================] - 0s 151us/sample - loss: 0.4178 - val_loss: 0.4295\n",
            "Epoch 26/5000\n",
            "1827/1827 [==============================] - 0s 148us/sample - loss: 0.4005 - val_loss: 0.4095\n",
            "Epoch 27/5000\n",
            "1827/1827 [==============================] - 0s 154us/sample - loss: 0.4078 - val_loss: 0.4338\n",
            "Epoch 28/5000\n",
            "1827/1827 [==============================] - 0s 147us/sample - loss: 0.3942 - val_loss: 0.4130\n",
            "Epoch 29/5000\n",
            "1827/1827 [==============================] - 0s 147us/sample - loss: 0.3844 - val_loss: 0.3973\n",
            "Epoch 30/5000\n",
            "1827/1827 [==============================] - 0s 144us/sample - loss: 0.3805 - val_loss: 0.3621\n",
            "Epoch 31/5000\n",
            "1827/1827 [==============================] - 0s 150us/sample - loss: 0.3759 - val_loss: 0.3768\n",
            "Epoch 32/5000\n",
            "1827/1827 [==============================] - 0s 153us/sample - loss: 0.3796 - val_loss: 0.3619\n",
            "Epoch 33/5000\n",
            "1827/1827 [==============================] - 0s 150us/sample - loss: 0.3770 - val_loss: 0.3882\n",
            "Epoch 34/5000\n",
            "1827/1827 [==============================] - 0s 153us/sample - loss: 0.3842 - val_loss: 0.3586\n",
            "Epoch 35/5000\n",
            "1827/1827 [==============================] - 0s 151us/sample - loss: 0.3705 - val_loss: 0.3478\n",
            "Epoch 36/5000\n",
            "1827/1827 [==============================] - 0s 147us/sample - loss: 0.3677 - val_loss: 0.3407\n",
            "Epoch 37/5000\n",
            "1827/1827 [==============================] - 0s 147us/sample - loss: 0.3617 - val_loss: 0.3660\n",
            "Epoch 38/5000\n",
            "1827/1827 [==============================] - 0s 149us/sample - loss: 0.3542 - val_loss: 0.3446\n",
            "Epoch 39/5000\n",
            "1827/1827 [==============================] - 0s 150us/sample - loss: 0.3380 - val_loss: 0.3400\n",
            "Epoch 40/5000\n",
            "1827/1827 [==============================] - 0s 145us/sample - loss: 0.3459 - val_loss: 0.3468\n",
            "Epoch 41/5000\n",
            "1827/1827 [==============================] - 0s 146us/sample - loss: 0.3408 - val_loss: 0.3378\n",
            "Epoch 42/5000\n",
            "1827/1827 [==============================] - 0s 155us/sample - loss: 0.3431 - val_loss: 0.3244\n",
            "Epoch 43/5000\n",
            "1827/1827 [==============================] - 0s 146us/sample - loss: 0.3403 - val_loss: 0.3263\n",
            "Epoch 44/5000\n",
            "1827/1827 [==============================] - 0s 154us/sample - loss: 0.3433 - val_loss: 0.3023\n",
            "Epoch 45/5000\n",
            "1827/1827 [==============================] - 0s 150us/sample - loss: 0.3351 - val_loss: 0.3288\n",
            "Epoch 46/5000\n",
            "1827/1827 [==============================] - 0s 152us/sample - loss: 0.3328 - val_loss: 0.3128\n",
            "Epoch 47/5000\n",
            "1827/1827 [==============================] - 0s 146us/sample - loss: 0.3345 - val_loss: 0.3124\n",
            "Epoch 48/5000\n",
            "1827/1827 [==============================] - 0s 149us/sample - loss: 0.3326 - val_loss: 0.2982\n",
            "Epoch 49/5000\n",
            "1827/1827 [==============================] - 0s 151us/sample - loss: 0.3286 - val_loss: 0.3190\n",
            "Epoch 50/5000\n",
            "1827/1827 [==============================] - 0s 146us/sample - loss: 0.3279 - val_loss: 0.2980\n",
            "Epoch 51/5000\n",
            "1827/1827 [==============================] - 0s 148us/sample - loss: 0.3273 - val_loss: 0.2902\n",
            "Epoch 52/5000\n",
            "1827/1827 [==============================] - 0s 150us/sample - loss: 0.3376 - val_loss: 0.3226\n",
            "Epoch 53/5000\n",
            "1827/1827 [==============================] - 0s 151us/sample - loss: 0.3366 - val_loss: 0.3072\n",
            "Epoch 54/5000\n",
            "1827/1827 [==============================] - 0s 155us/sample - loss: 0.3252 - val_loss: 0.3572\n",
            "Epoch 55/5000\n",
            "1827/1827 [==============================] - 0s 148us/sample - loss: 0.3283 - val_loss: 0.2936\n",
            "Epoch 56/5000\n",
            "1827/1827 [==============================] - 0s 147us/sample - loss: 0.3182 - val_loss: 0.3289\n",
            "Epoch 57/5000\n",
            "1827/1827 [==============================] - 0s 149us/sample - loss: 0.3221 - val_loss: 0.2757\n",
            "Epoch 58/5000\n",
            "1827/1827 [==============================] - 0s 147us/sample - loss: 0.3070 - val_loss: 0.3072\n",
            "Epoch 59/5000\n",
            "1827/1827 [==============================] - 0s 147us/sample - loss: 0.3043 - val_loss: 0.2881\n",
            "Epoch 60/5000\n",
            "1827/1827 [==============================] - 0s 155us/sample - loss: 0.3064 - val_loss: 0.3042\n",
            "Epoch 61/5000\n",
            "1827/1827 [==============================] - 0s 149us/sample - loss: 0.3087 - val_loss: 0.2983\n",
            "Epoch 62/5000\n",
            "1827/1827 [==============================] - 0s 142us/sample - loss: 0.3146 - val_loss: 0.3170\n",
            "Epoch 63/5000\n",
            "1827/1827 [==============================] - 0s 149us/sample - loss: 0.3164 - val_loss: 0.2897\n",
            "Epoch 64/5000\n",
            "1827/1827 [==============================] - 0s 149us/sample - loss: 0.3124 - val_loss: 0.3052\n",
            "Epoch 65/5000\n",
            "1827/1827 [==============================] - 0s 146us/sample - loss: 0.3113 - val_loss: 0.2819\n",
            "Epoch 66/5000\n",
            "1827/1827 [==============================] - 0s 150us/sample - loss: 0.2994 - val_loss: 0.2928\n",
            "Epoch 67/5000\n",
            "1827/1827 [==============================] - 0s 146us/sample - loss: 0.3021 - val_loss: 0.2651\n",
            "Epoch 68/5000\n",
            "1827/1827 [==============================] - 0s 147us/sample - loss: 0.2988 - val_loss: 0.3112\n",
            "Epoch 69/5000\n",
            "1827/1827 [==============================] - 0s 146us/sample - loss: 0.3031 - val_loss: 0.2782\n",
            "Epoch 70/5000\n",
            "1827/1827 [==============================] - 0s 144us/sample - loss: 0.2960 - val_loss: 0.2927\n",
            "Epoch 71/5000\n",
            "1827/1827 [==============================] - 0s 145us/sample - loss: 0.2934 - val_loss: 0.2837\n",
            "Epoch 72/5000\n",
            "1827/1827 [==============================] - 0s 148us/sample - loss: 0.3043 - val_loss: 0.2747\n",
            "Epoch 73/5000\n",
            "1827/1827 [==============================] - 0s 147us/sample - loss: 0.3012 - val_loss: 0.2564\n",
            "Epoch 74/5000\n",
            "1827/1827 [==============================] - 0s 145us/sample - loss: 0.3037 - val_loss: 0.3045\n",
            "Epoch 75/5000\n",
            "1827/1827 [==============================] - 0s 152us/sample - loss: 0.3058 - val_loss: 0.2741\n",
            "Epoch 76/5000\n",
            "1827/1827 [==============================] - 0s 150us/sample - loss: 0.2973 - val_loss: 0.2848\n",
            "Epoch 77/5000\n",
            "1827/1827 [==============================] - 0s 150us/sample - loss: 0.2992 - val_loss: 0.2796\n",
            "Epoch 78/5000\n",
            "1827/1827 [==============================] - 0s 149us/sample - loss: 0.2912 - val_loss: 0.2558\n",
            "Epoch 79/5000\n",
            "1827/1827 [==============================] - 0s 150us/sample - loss: 0.2989 - val_loss: 0.2835\n",
            "Epoch 80/5000\n",
            "1827/1827 [==============================] - 0s 147us/sample - loss: 0.3125 - val_loss: 0.2696\n",
            "Epoch 81/5000\n",
            "1827/1827 [==============================] - 0s 149us/sample - loss: 0.2973 - val_loss: 0.2578\n",
            "Epoch 82/5000\n",
            "1827/1827 [==============================] - 0s 150us/sample - loss: 0.2945 - val_loss: 0.2966\n",
            "Epoch 83/5000\n",
            "1827/1827 [==============================] - 0s 144us/sample - loss: 0.2980 - val_loss: 0.2542\n",
            "Epoch 84/5000\n",
            "1827/1827 [==============================] - 0s 150us/sample - loss: 0.2892 - val_loss: 0.2725\n",
            "Epoch 85/5000\n",
            "1827/1827 [==============================] - 0s 147us/sample - loss: 0.2880 - val_loss: 0.2695\n",
            "Epoch 86/5000\n",
            "1827/1827 [==============================] - 0s 148us/sample - loss: 0.2846 - val_loss: 0.2626\n",
            "Epoch 87/5000\n",
            "1827/1827 [==============================] - 0s 148us/sample - loss: 0.2794 - val_loss: 0.2813\n",
            "Epoch 88/5000\n",
            "1827/1827 [==============================] - 0s 144us/sample - loss: 0.2868 - val_loss: 0.2808\n",
            "Epoch 89/5000\n",
            "1827/1827 [==============================] - 0s 148us/sample - loss: 0.2888 - val_loss: 0.2654\n",
            "Epoch 90/5000\n",
            "1827/1827 [==============================] - 0s 152us/sample - loss: 0.2819 - val_loss: 0.2449\n",
            "Epoch 91/5000\n",
            "1827/1827 [==============================] - 0s 147us/sample - loss: 0.2783 - val_loss: 0.2634\n",
            "Epoch 92/5000\n",
            "1827/1827 [==============================] - 0s 148us/sample - loss: 0.2758 - val_loss: 0.2348\n",
            "Epoch 93/5000\n",
            "1827/1827 [==============================] - 0s 150us/sample - loss: 0.2681 - val_loss: 0.2829\n",
            "Epoch 94/5000\n",
            "1827/1827 [==============================] - 0s 148us/sample - loss: 0.2669 - val_loss: 0.2349\n",
            "Epoch 95/5000\n",
            "1827/1827 [==============================] - 0s 145us/sample - loss: 0.2638 - val_loss: 0.2555\n",
            "Epoch 96/5000\n",
            "1827/1827 [==============================] - 0s 150us/sample - loss: 0.2718 - val_loss: 0.2427\n",
            "Epoch 97/5000\n",
            "1827/1827 [==============================] - 0s 149us/sample - loss: 0.2612 - val_loss: 0.2580\n",
            "Epoch 98/5000\n",
            "1827/1827 [==============================] - 0s 147us/sample - loss: 0.2648 - val_loss: 0.2344\n",
            "Epoch 99/5000\n",
            "1827/1827 [==============================] - 0s 146us/sample - loss: 0.2641 - val_loss: 0.2300\n",
            "Epoch 100/5000\n",
            "1827/1827 [==============================] - 0s 151us/sample - loss: 0.2643 - val_loss: 0.2340\n",
            "Epoch 101/5000\n",
            "1827/1827 [==============================] - 0s 151us/sample - loss: 0.2596 - val_loss: 0.2477\n",
            "Epoch 102/5000\n",
            "1827/1827 [==============================] - 0s 152us/sample - loss: 0.2563 - val_loss: 0.2320\n",
            "Epoch 103/5000\n",
            "1827/1827 [==============================] - 0s 150us/sample - loss: 0.2618 - val_loss: 0.2486\n",
            "Epoch 104/5000\n",
            "1827/1827 [==============================] - 0s 147us/sample - loss: 0.2620 - val_loss: 0.2296\n",
            "Epoch 105/5000\n",
            "1827/1827 [==============================] - 0s 146us/sample - loss: 0.2595 - val_loss: 0.2250\n",
            "Epoch 106/5000\n",
            "1827/1827 [==============================] - 0s 149us/sample - loss: 0.2613 - val_loss: 0.2370\n",
            "Epoch 107/5000\n",
            "1827/1827 [==============================] - 0s 150us/sample - loss: 0.2611 - val_loss: 0.2437\n",
            "Epoch 108/5000\n",
            "1827/1827 [==============================] - 0s 151us/sample - loss: 0.2568 - val_loss: 0.2457\n",
            "Epoch 109/5000\n",
            "1827/1827 [==============================] - 0s 153us/sample - loss: 0.2640 - val_loss: 0.2332\n",
            "Epoch 110/5000\n",
            "1827/1827 [==============================] - 0s 150us/sample - loss: 0.2633 - val_loss: 0.2379\n",
            "Epoch 111/5000\n",
            "1827/1827 [==============================] - 0s 151us/sample - loss: 0.2561 - val_loss: 0.2507\n",
            "Epoch 112/5000\n",
            "1827/1827 [==============================] - 0s 148us/sample - loss: 0.2635 - val_loss: 0.2337\n",
            "Epoch 113/5000\n",
            "1827/1827 [==============================] - 0s 157us/sample - loss: 0.2558 - val_loss: 0.2296\n",
            "Epoch 114/5000\n",
            "1827/1827 [==============================] - 0s 149us/sample - loss: 0.2632 - val_loss: 0.2565\n",
            "Epoch 115/5000\n",
            "1827/1827 [==============================] - 0s 147us/sample - loss: 0.2644 - val_loss: 0.2262\n",
            "Epoch 116/5000\n",
            "1827/1827 [==============================] - 0s 150us/sample - loss: 0.2610 - val_loss: 0.2454\n",
            "Epoch 117/5000\n",
            "1827/1827 [==============================] - 0s 150us/sample - loss: 0.2697 - val_loss: 0.2373\n",
            "Epoch 118/5000\n",
            "1827/1827 [==============================] - 0s 152us/sample - loss: 0.2685 - val_loss: 0.2817\n",
            "Epoch 119/5000\n",
            "1827/1827 [==============================] - 0s 149us/sample - loss: 0.2724 - val_loss: 0.2273\n",
            "Epoch 120/5000\n",
            "1827/1827 [==============================] - 0s 145us/sample - loss: 0.2570 - val_loss: 0.2417\n",
            "Epoch 121/5000\n",
            "1827/1827 [==============================] - 0s 145us/sample - loss: 0.2601 - val_loss: 0.2237\n",
            "Epoch 122/5000\n",
            "1827/1827 [==============================] - 0s 146us/sample - loss: 0.2586 - val_loss: 0.2443\n",
            "Epoch 123/5000\n",
            "1827/1827 [==============================] - 0s 147us/sample - loss: 0.2576 - val_loss: 0.2413\n",
            "Epoch 124/5000\n",
            "1827/1827 [==============================] - 0s 167us/sample - loss: 0.2456 - val_loss: 0.2320\n",
            "Epoch 125/5000\n",
            "1827/1827 [==============================] - 0s 144us/sample - loss: 0.2484 - val_loss: 0.2151\n",
            "Epoch 126/5000\n",
            "1827/1827 [==============================] - 0s 147us/sample - loss: 0.2469 - val_loss: 0.2228\n",
            "Epoch 127/5000\n",
            "1827/1827 [==============================] - 0s 144us/sample - loss: 0.2563 - val_loss: 0.2338\n",
            "Epoch 128/5000\n",
            "1827/1827 [==============================] - 0s 149us/sample - loss: 0.2525 - val_loss: 0.2477\n",
            "Epoch 129/5000\n",
            "1827/1827 [==============================] - 0s 175us/sample - loss: 0.2499 - val_loss: 0.2538\n",
            "Epoch 130/5000\n",
            "1827/1827 [==============================] - 0s 150us/sample - loss: 0.2578 - val_loss: 0.2422\n",
            "Epoch 131/5000\n",
            "1827/1827 [==============================] - 0s 146us/sample - loss: 0.2579 - val_loss: 0.2257\n",
            "Epoch 132/5000\n",
            "1827/1827 [==============================] - 0s 148us/sample - loss: 0.2610 - val_loss: 0.2612\n",
            "Epoch 133/5000\n",
            "1827/1827 [==============================] - 0s 150us/sample - loss: 0.2560 - val_loss: 0.2585\n",
            "Epoch 134/5000\n",
            "1827/1827 [==============================] - 0s 153us/sample - loss: 0.2624 - val_loss: 0.2765\n",
            "Epoch 135/5000\n",
            "1827/1827 [==============================] - 0s 159us/sample - loss: 0.2574 - val_loss: 0.2406\n",
            "Epoch 136/5000\n",
            "1827/1827 [==============================] - 0s 157us/sample - loss: 0.2508 - val_loss: 0.2414\n",
            "Epoch 137/5000\n",
            "1827/1827 [==============================] - 0s 152us/sample - loss: 0.2468 - val_loss: 0.2300\n",
            "Epoch 138/5000\n",
            "1827/1827 [==============================] - 0s 154us/sample - loss: 0.2404 - val_loss: 0.2297\n",
            "Epoch 139/5000\n",
            "1827/1827 [==============================] - 0s 152us/sample - loss: 0.2423 - val_loss: 0.2239\n",
            "Epoch 140/5000\n",
            "1827/1827 [==============================] - 0s 153us/sample - loss: 0.2337 - val_loss: 0.2140\n",
            "Epoch 141/5000\n",
            "1827/1827 [==============================] - 0s 156us/sample - loss: 0.2312 - val_loss: 0.2303\n",
            "Epoch 142/5000\n",
            "1827/1827 [==============================] - 0s 152us/sample - loss: 0.2363 - val_loss: 0.2151\n",
            "Epoch 143/5000\n",
            "1827/1827 [==============================] - 0s 153us/sample - loss: 0.2321 - val_loss: 0.2236\n",
            "Epoch 144/5000\n",
            "1827/1827 [==============================] - 0s 152us/sample - loss: 0.2263 - val_loss: 0.2117\n",
            "Epoch 145/5000\n",
            "1827/1827 [==============================] - 0s 153us/sample - loss: 0.2250 - val_loss: 0.2237\n",
            "Epoch 146/5000\n",
            "1827/1827 [==============================] - 0s 148us/sample - loss: 0.2271 - val_loss: 0.2068\n",
            "Epoch 147/5000\n",
            "1827/1827 [==============================] - 0s 149us/sample - loss: 0.2282 - val_loss: 0.2219\n",
            "Epoch 148/5000\n",
            "1827/1827 [==============================] - 0s 148us/sample - loss: 0.2291 - val_loss: 0.2084\n",
            "Epoch 149/5000\n",
            "1827/1827 [==============================] - 0s 151us/sample - loss: 0.2308 - val_loss: 0.2250\n",
            "Epoch 150/5000\n",
            "1827/1827 [==============================] - 0s 154us/sample - loss: 0.2252 - val_loss: 0.2118\n",
            "Epoch 151/5000\n",
            "1827/1827 [==============================] - 0s 156us/sample - loss: 0.2279 - val_loss: 0.2213\n",
            "Epoch 152/5000\n",
            "1827/1827 [==============================] - 0s 151us/sample - loss: 0.2315 - val_loss: 0.2459\n",
            "Epoch 153/5000\n",
            "1827/1827 [==============================] - 0s 148us/sample - loss: 0.2308 - val_loss: 0.2440\n",
            "Epoch 154/5000\n",
            "1827/1827 [==============================] - 0s 157us/sample - loss: 0.2306 - val_loss: 0.2170\n",
            "Epoch 155/5000\n",
            "1827/1827 [==============================] - 0s 159us/sample - loss: 0.2297 - val_loss: 0.1964\n",
            "Epoch 156/5000\n",
            "1827/1827 [==============================] - 0s 149us/sample - loss: 0.2246 - val_loss: 0.2121\n",
            "Epoch 157/5000\n",
            "1827/1827 [==============================] - 0s 152us/sample - loss: 0.2261 - val_loss: 0.2079\n",
            "Epoch 158/5000\n",
            "1827/1827 [==============================] - 0s 161us/sample - loss: 0.2233 - val_loss: 0.2089\n",
            "Epoch 159/5000\n",
            "1827/1827 [==============================] - 0s 156us/sample - loss: 0.2222 - val_loss: 0.1994\n",
            "Epoch 160/5000\n",
            "1827/1827 [==============================] - 0s 152us/sample - loss: 0.2275 - val_loss: 0.1974\n",
            "Epoch 161/5000\n",
            "1827/1827 [==============================] - 0s 152us/sample - loss: 0.2267 - val_loss: 0.2226\n",
            "Epoch 162/5000\n",
            "1827/1827 [==============================] - 0s 151us/sample - loss: 0.2219 - val_loss: 0.2069\n",
            "Epoch 163/5000\n",
            "1827/1827 [==============================] - 0s 150us/sample - loss: 0.2227 - val_loss: 0.2249\n",
            "Epoch 164/5000\n",
            "1827/1827 [==============================] - 0s 152us/sample - loss: 0.2285 - val_loss: 0.1976\n",
            "Epoch 165/5000\n",
            "1827/1827 [==============================] - 0s 154us/sample - loss: 0.2162 - val_loss: 0.2174\n",
            "Epoch 166/5000\n",
            "1827/1827 [==============================] - 0s 150us/sample - loss: 0.2272 - val_loss: 0.1968\n",
            "Epoch 167/5000\n",
            "1827/1827 [==============================] - 0s 152us/sample - loss: 0.2260 - val_loss: 0.2001\n",
            "Epoch 168/5000\n",
            "1827/1827 [==============================] - 0s 157us/sample - loss: 0.2226 - val_loss: 0.1941\n",
            "Epoch 169/5000\n",
            "1827/1827 [==============================] - 0s 148us/sample - loss: 0.2174 - val_loss: 0.2221\n",
            "Epoch 170/5000\n",
            "1827/1827 [==============================] - 0s 149us/sample - loss: 0.2275 - val_loss: 0.2171\n",
            "Epoch 171/5000\n",
            "1827/1827 [==============================] - 0s 148us/sample - loss: 0.2240 - val_loss: 0.2258\n",
            "Epoch 172/5000\n",
            "1827/1827 [==============================] - 0s 153us/sample - loss: 0.2278 - val_loss: 0.1954\n",
            "Epoch 173/5000\n",
            "1827/1827 [==============================] - 0s 155us/sample - loss: 0.2300 - val_loss: 0.1961\n",
            "Epoch 174/5000\n",
            "1827/1827 [==============================] - 0s 152us/sample - loss: 0.2154 - val_loss: 0.1989\n",
            "Epoch 175/5000\n",
            "1827/1827 [==============================] - 0s 148us/sample - loss: 0.2136 - val_loss: 0.1794\n",
            "Epoch 176/5000\n",
            "1827/1827 [==============================] - 0s 153us/sample - loss: 0.2077 - val_loss: 0.1982\n",
            "Epoch 177/5000\n",
            "1827/1827 [==============================] - 0s 148us/sample - loss: 0.2036 - val_loss: 0.1876\n",
            "Epoch 178/5000\n",
            "1827/1827 [==============================] - 0s 146us/sample - loss: 0.2017 - val_loss: 0.2333\n",
            "Epoch 179/5000\n",
            "1827/1827 [==============================] - 0s 150us/sample - loss: 0.2211 - val_loss: 0.1912\n",
            "Epoch 180/5000\n",
            "1827/1827 [==============================] - 0s 150us/sample - loss: 0.2146 - val_loss: 0.2344\n",
            "Epoch 181/5000\n",
            "1827/1827 [==============================] - 0s 150us/sample - loss: 0.2236 - val_loss: 0.1804\n",
            "Epoch 182/5000\n",
            "1827/1827 [==============================] - 0s 152us/sample - loss: 0.2136 - val_loss: 0.1930\n",
            "Epoch 183/5000\n",
            "1827/1827 [==============================] - 0s 153us/sample - loss: 0.2154 - val_loss: 0.1860\n",
            "Epoch 184/5000\n",
            "1827/1827 [==============================] - 0s 145us/sample - loss: 0.2189 - val_loss: 0.1974\n",
            "Epoch 185/5000\n",
            "1827/1827 [==============================] - 0s 151us/sample - loss: 0.2153 - val_loss: 0.2044\n",
            "Epoch 186/5000\n",
            "1827/1827 [==============================] - 0s 152us/sample - loss: 0.2168 - val_loss: 0.1766\n",
            "Epoch 187/5000\n",
            "1827/1827 [==============================] - 0s 153us/sample - loss: 0.2137 - val_loss: 0.1910\n",
            "Epoch 188/5000\n",
            "1827/1827 [==============================] - 0s 148us/sample - loss: 0.2059 - val_loss: 0.1855\n",
            "Epoch 189/5000\n",
            "1827/1827 [==============================] - 0s 150us/sample - loss: 0.2066 - val_loss: 0.2085\n",
            "Epoch 190/5000\n",
            "1827/1827 [==============================] - 0s 156us/sample - loss: 0.2170 - val_loss: 0.1812\n",
            "Epoch 191/5000\n",
            "1827/1827 [==============================] - 0s 153us/sample - loss: 0.2116 - val_loss: 0.2084\n",
            "Epoch 192/5000\n",
            "1827/1827 [==============================] - 0s 153us/sample - loss: 0.2134 - val_loss: 0.1723\n",
            "Epoch 193/5000\n",
            "1827/1827 [==============================] - 0s 149us/sample - loss: 0.2151 - val_loss: 0.2164\n",
            "Epoch 194/5000\n",
            "1827/1827 [==============================] - 0s 154us/sample - loss: 0.2127 - val_loss: 0.1957\n",
            "Epoch 195/5000\n",
            "1827/1827 [==============================] - 0s 151us/sample - loss: 0.2059 - val_loss: 0.2163\n",
            "Epoch 196/5000\n",
            "1827/1827 [==============================] - 0s 153us/sample - loss: 0.2168 - val_loss: 0.1919\n",
            "Epoch 197/5000\n",
            "1827/1827 [==============================] - 0s 151us/sample - loss: 0.2198 - val_loss: 0.2135\n",
            "Epoch 198/5000\n",
            "1827/1827 [==============================] - 0s 150us/sample - loss: 0.2071 - val_loss: 0.1945\n",
            "Epoch 199/5000\n",
            "1827/1827 [==============================] - 0s 147us/sample - loss: 0.2080 - val_loss: 0.2098\n",
            "Epoch 200/5000\n",
            "1827/1827 [==============================] - 0s 153us/sample - loss: 0.2060 - val_loss: 0.1924\n",
            "Epoch 201/5000\n",
            "1827/1827 [==============================] - 0s 155us/sample - loss: 0.2072 - val_loss: 0.2000\n",
            "Epoch 202/5000\n",
            "1827/1827 [==============================] - 0s 148us/sample - loss: 0.1998 - val_loss: 0.1764\n",
            "Epoch 203/5000\n",
            "1827/1827 [==============================] - 0s 157us/sample - loss: 0.1974 - val_loss: 0.1886\n",
            "Epoch 204/5000\n",
            "1827/1827 [==============================] - 0s 150us/sample - loss: 0.1971 - val_loss: 0.1602\n",
            "Epoch 205/5000\n",
            "1827/1827 [==============================] - 0s 151us/sample - loss: 0.2011 - val_loss: 0.1792\n",
            "Epoch 206/5000\n",
            "1827/1827 [==============================] - 0s 149us/sample - loss: 0.2045 - val_loss: 0.1712\n",
            "Epoch 207/5000\n",
            "1827/1827 [==============================] - 0s 152us/sample - loss: 0.1958 - val_loss: 0.1902\n",
            "Epoch 208/5000\n",
            "1827/1827 [==============================] - 0s 151us/sample - loss: 0.1985 - val_loss: 0.1705\n",
            "Epoch 209/5000\n",
            "1827/1827 [==============================] - 0s 146us/sample - loss: 0.1982 - val_loss: 0.1726\n",
            "Epoch 210/5000\n",
            "1827/1827 [==============================] - 0s 146us/sample - loss: 0.1922 - val_loss: 0.1709\n",
            "Epoch 211/5000\n",
            "1827/1827 [==============================] - 0s 153us/sample - loss: 0.1946 - val_loss: 0.1802\n",
            "Epoch 212/5000\n",
            "1827/1827 [==============================] - 0s 146us/sample - loss: 0.1928 - val_loss: 0.1553\n",
            "Epoch 213/5000\n",
            "1827/1827 [==============================] - 0s 145us/sample - loss: 0.1947 - val_loss: 0.1753\n",
            "Epoch 214/5000\n",
            "1827/1827 [==============================] - 0s 147us/sample - loss: 0.1853 - val_loss: 0.1551\n",
            "Epoch 215/5000\n",
            "1827/1827 [==============================] - 0s 152us/sample - loss: 0.1969 - val_loss: 0.1667\n",
            "Epoch 216/5000\n",
            "1827/1827 [==============================] - 0s 150us/sample - loss: 0.1861 - val_loss: 0.1457\n",
            "Epoch 217/5000\n",
            "1827/1827 [==============================] - 0s 147us/sample - loss: 0.1819 - val_loss: 0.1740\n",
            "Epoch 218/5000\n",
            "1827/1827 [==============================] - 0s 148us/sample - loss: 0.1813 - val_loss: 0.1603\n",
            "Epoch 219/5000\n",
            "1827/1827 [==============================] - 0s 146us/sample - loss: 0.1850 - val_loss: 0.1636\n",
            "Epoch 220/5000\n",
            "1827/1827 [==============================] - 0s 151us/sample - loss: 0.1813 - val_loss: 0.1474\n",
            "Epoch 221/5000\n",
            "1827/1827 [==============================] - 0s 149us/sample - loss: 0.1800 - val_loss: 0.1794\n",
            "Epoch 222/5000\n",
            "1827/1827 [==============================] - 0s 154us/sample - loss: 0.1826 - val_loss: 0.1546\n",
            "Epoch 223/5000\n",
            "1827/1827 [==============================] - 0s 148us/sample - loss: 0.1917 - val_loss: 0.1779\n",
            "Epoch 224/5000\n",
            "1827/1827 [==============================] - 0s 144us/sample - loss: 0.1960 - val_loss: 0.1605\n",
            "Epoch 225/5000\n",
            "1827/1827 [==============================] - 0s 150us/sample - loss: 0.1923 - val_loss: 0.1738\n",
            "Epoch 226/5000\n",
            "1827/1827 [==============================] - 0s 145us/sample - loss: 0.1870 - val_loss: 0.1585\n",
            "Epoch 227/5000\n",
            "1827/1827 [==============================] - 0s 149us/sample - loss: 0.1828 - val_loss: 0.1517\n",
            "Epoch 228/5000\n",
            "1827/1827 [==============================] - 0s 151us/sample - loss: 0.1798 - val_loss: 0.1615\n",
            "Epoch 229/5000\n",
            "1827/1827 [==============================] - 0s 146us/sample - loss: 0.1810 - val_loss: 0.1462\n",
            "Epoch 230/5000\n",
            "1827/1827 [==============================] - 0s 149us/sample - loss: 0.1794 - val_loss: 0.1596\n",
            "Epoch 231/5000\n",
            "1827/1827 [==============================] - 0s 152us/sample - loss: 0.1781 - val_loss: 0.1598\n",
            "Epoch 232/5000\n",
            "1827/1827 [==============================] - 0s 148us/sample - loss: 0.1741 - val_loss: 0.1525\n",
            "Epoch 233/5000\n",
            "1827/1827 [==============================] - 0s 146us/sample - loss: 0.1798 - val_loss: 0.1522\n",
            "Epoch 234/5000\n",
            "1827/1827 [==============================] - 0s 149us/sample - loss: 0.1765 - val_loss: 0.1608\n",
            "Epoch 235/5000\n",
            "1827/1827 [==============================] - 0s 147us/sample - loss: 0.1735 - val_loss: 0.1577\n",
            "Epoch 236/5000\n",
            "1827/1827 [==============================] - 0s 146us/sample - loss: 0.1816 - val_loss: 0.1485\n",
            "Epoch 237/5000\n",
            "1827/1827 [==============================] - 0s 156us/sample - loss: 0.1815 - val_loss: 0.1761\n",
            "Epoch 238/5000\n",
            "1827/1827 [==============================] - 0s 147us/sample - loss: 0.1790 - val_loss: 0.1469\n",
            "Epoch 239/5000\n",
            "1827/1827 [==============================] - 0s 147us/sample - loss: 0.1871 - val_loss: 0.1643\n",
            "Epoch 240/5000\n",
            "1827/1827 [==============================] - 0s 152us/sample - loss: 0.1798 - val_loss: 0.1564\n",
            "Epoch 241/5000\n",
            "1827/1827 [==============================] - 0s 151us/sample - loss: 0.1768 - val_loss: 0.1456\n",
            "Epoch 242/5000\n",
            "1827/1827 [==============================] - 0s 153us/sample - loss: 0.1722 - val_loss: 0.1565\n",
            "Epoch 243/5000\n",
            "1827/1827 [==============================] - 0s 158us/sample - loss: 0.1750 - val_loss: 0.1495\n",
            "Epoch 244/5000\n",
            "1827/1827 [==============================] - 0s 160us/sample - loss: 0.1717 - val_loss: 0.1595\n",
            "Epoch 245/5000\n",
            "1827/1827 [==============================] - 0s 154us/sample - loss: 0.1705 - val_loss: 0.1568\n",
            "Epoch 246/5000\n",
            "1827/1827 [==============================] - 0s 158us/sample - loss: 0.1656 - val_loss: 0.1702\n",
            "Epoch 247/5000\n",
            "1827/1827 [==============================] - 0s 156us/sample - loss: 0.1701 - val_loss: 0.1504\n",
            "Epoch 248/5000\n",
            "1827/1827 [==============================] - 0s 160us/sample - loss: 0.1693 - val_loss: 0.1449\n",
            "Epoch 249/5000\n",
            "1827/1827 [==============================] - 0s 151us/sample - loss: 0.1666 - val_loss: 0.1388\n",
            "Epoch 250/5000\n",
            "1827/1827 [==============================] - 0s 150us/sample - loss: 0.1728 - val_loss: 0.1651\n",
            "Epoch 251/5000\n",
            "1827/1827 [==============================] - 0s 154us/sample - loss: 0.1731 - val_loss: 0.1496\n",
            "Epoch 252/5000\n",
            "1827/1827 [==============================] - 0s 153us/sample - loss: 0.1782 - val_loss: 0.1589\n",
            "Epoch 253/5000\n",
            "1827/1827 [==============================] - 0s 155us/sample - loss: 0.1690 - val_loss: 0.1493\n",
            "Epoch 254/5000\n",
            "1827/1827 [==============================] - 0s 156us/sample - loss: 0.1680 - val_loss: 0.1611\n",
            "Epoch 255/5000\n",
            "1827/1827 [==============================] - 0s 155us/sample - loss: 0.1720 - val_loss: 0.1501\n",
            "Epoch 256/5000\n",
            "1827/1827 [==============================] - 0s 150us/sample - loss: 0.1650 - val_loss: 0.1449\n",
            "Epoch 257/5000\n",
            "1827/1827 [==============================] - 0s 152us/sample - loss: 0.1649 - val_loss: 0.1524\n",
            "Epoch 258/5000\n",
            "1827/1827 [==============================] - 0s 157us/sample - loss: 0.1623 - val_loss: 0.1467\n",
            "Epoch 259/5000\n",
            "1827/1827 [==============================] - 0s 152us/sample - loss: 0.1644 - val_loss: 0.1502\n",
            "Epoch 260/5000\n",
            "1827/1827 [==============================] - 0s 150us/sample - loss: 0.1665 - val_loss: 0.1818\n",
            "Epoch 261/5000\n",
            "1827/1827 [==============================] - 0s 151us/sample - loss: 0.1738 - val_loss: 0.1307\n",
            "Epoch 262/5000\n",
            "1827/1827 [==============================] - 0s 155us/sample - loss: 0.1657 - val_loss: 0.1635\n",
            "Epoch 263/5000\n",
            "1827/1827 [==============================] - 0s 155us/sample - loss: 0.1705 - val_loss: 0.1488\n",
            "Epoch 264/5000\n",
            "1827/1827 [==============================] - 0s 151us/sample - loss: 0.1858 - val_loss: 0.1734\n",
            "Epoch 265/5000\n",
            "1827/1827 [==============================] - 0s 153us/sample - loss: 0.1868 - val_loss: 0.1850\n",
            "Epoch 266/5000\n",
            "1827/1827 [==============================] - 0s 156us/sample - loss: 0.1889 - val_loss: 0.1769\n",
            "Epoch 267/5000\n",
            "1827/1827 [==============================] - 0s 149us/sample - loss: 0.1838 - val_loss: 0.1697\n",
            "Epoch 268/5000\n",
            "1827/1827 [==============================] - 0s 152us/sample - loss: 0.1887 - val_loss: 0.1746\n",
            "Epoch 269/5000\n",
            "1827/1827 [==============================] - 0s 156us/sample - loss: 0.1863 - val_loss: 0.1515\n",
            "Epoch 270/5000\n",
            "1827/1827 [==============================] - 0s 154us/sample - loss: 0.1914 - val_loss: 0.1876\n",
            "Epoch 271/5000\n",
            "1827/1827 [==============================] - 0s 150us/sample - loss: 0.1736 - val_loss: 0.1313\n",
            "Epoch 272/5000\n",
            "1827/1827 [==============================] - 0s 160us/sample - loss: 0.1748 - val_loss: 0.1763\n",
            "Epoch 273/5000\n",
            "1827/1827 [==============================] - 0s 160us/sample - loss: 0.1771 - val_loss: 0.1318\n",
            "Epoch 274/5000\n",
            "1827/1827 [==============================] - 0s 148us/sample - loss: 0.1677 - val_loss: 0.1689\n",
            "Epoch 275/5000\n",
            "1827/1827 [==============================] - 0s 151us/sample - loss: 0.1770 - val_loss: 0.1414\n",
            "Epoch 276/5000\n",
            "1827/1827 [==============================] - 0s 157us/sample - loss: 0.1701 - val_loss: 0.1658\n",
            "Epoch 277/5000\n",
            "1827/1827 [==============================] - 0s 153us/sample - loss: 0.1550 - val_loss: 0.1193\n",
            "Epoch 278/5000\n",
            "1827/1827 [==============================] - 0s 147us/sample - loss: 0.1552 - val_loss: 0.1654\n",
            "Epoch 279/5000\n",
            "1827/1827 [==============================] - 0s 149us/sample - loss: 0.1628 - val_loss: 0.1210\n",
            "Epoch 280/5000\n",
            "1827/1827 [==============================] - 0s 151us/sample - loss: 0.1549 - val_loss: 0.1360\n",
            "Epoch 281/5000\n",
            "1827/1827 [==============================] - 0s 147us/sample - loss: 0.1563 - val_loss: 0.1333\n",
            "Epoch 282/5000\n",
            "1827/1827 [==============================] - 0s 154us/sample - loss: 0.1606 - val_loss: 0.1414\n",
            "Epoch 283/5000\n",
            "1827/1827 [==============================] - 0s 148us/sample - loss: 0.1561 - val_loss: 0.1360\n",
            "Epoch 284/5000\n",
            "1827/1827 [==============================] - 0s 146us/sample - loss: 0.1533 - val_loss: 0.1266\n",
            "Epoch 285/5000\n",
            "1827/1827 [==============================] - 0s 146us/sample - loss: 0.1491 - val_loss: 0.1243\n",
            "Epoch 286/5000\n",
            "1827/1827 [==============================] - 0s 152us/sample - loss: 0.1521 - val_loss: 0.1273\n",
            "Epoch 287/5000\n",
            "1827/1827 [==============================] - 0s 155us/sample - loss: 0.1466 - val_loss: 0.1186\n",
            "Epoch 288/5000\n",
            "1827/1827 [==============================] - 0s 151us/sample - loss: 0.1497 - val_loss: 0.1459\n",
            "Epoch 289/5000\n",
            "1827/1827 [==============================] - 0s 149us/sample - loss: 0.1435 - val_loss: 0.1198\n",
            "Epoch 290/5000\n",
            "1827/1827 [==============================] - 0s 146us/sample - loss: 0.1498 - val_loss: 0.1551\n",
            "Epoch 291/5000\n",
            "1827/1827 [==============================] - 0s 148us/sample - loss: 0.1531 - val_loss: 0.1122\n",
            "Epoch 292/5000\n",
            "1827/1827 [==============================] - 0s 151us/sample - loss: 0.1529 - val_loss: 0.1569\n",
            "Epoch 293/5000\n",
            "1827/1827 [==============================] - 0s 150us/sample - loss: 0.1584 - val_loss: 0.1237\n",
            "Epoch 294/5000\n",
            "1827/1827 [==============================] - 0s 148us/sample - loss: 0.1585 - val_loss: 0.1412\n",
            "Epoch 295/5000\n",
            "1827/1827 [==============================] - 0s 153us/sample - loss: 0.1559 - val_loss: 0.1371\n",
            "Epoch 296/5000\n",
            "1827/1827 [==============================] - 0s 148us/sample - loss: 0.1561 - val_loss: 0.1353\n",
            "Epoch 297/5000\n",
            "1827/1827 [==============================] - 0s 152us/sample - loss: 0.1501 - val_loss: 0.1548\n",
            "Epoch 298/5000\n",
            "1827/1827 [==============================] - 0s 158us/sample - loss: 0.1612 - val_loss: 0.1261\n",
            "Epoch 299/5000\n",
            "1827/1827 [==============================] - 0s 154us/sample - loss: 0.1657 - val_loss: 0.1786\n",
            "Epoch 300/5000\n",
            "1827/1827 [==============================] - 0s 153us/sample - loss: 0.1640 - val_loss: 0.1204\n",
            "Epoch 301/5000\n",
            "1827/1827 [==============================] - 0s 146us/sample - loss: 0.1627 - val_loss: 0.1559\n",
            "Epoch 302/5000\n",
            "1827/1827 [==============================] - 0s 150us/sample - loss: 0.1585 - val_loss: 0.1174\n",
            "Epoch 303/5000\n",
            "1827/1827 [==============================] - 0s 149us/sample - loss: 0.1490 - val_loss: 0.1442\n",
            "Epoch 304/5000\n",
            "1827/1827 [==============================] - 0s 144us/sample - loss: 0.1444 - val_loss: 0.1304\n",
            "Epoch 305/5000\n",
            "1827/1827 [==============================] - 0s 154us/sample - loss: 0.1414 - val_loss: 0.1358\n",
            "Epoch 306/5000\n",
            "1827/1827 [==============================] - 0s 151us/sample - loss: 0.1478 - val_loss: 0.1284\n",
            "Epoch 307/5000\n",
            "1827/1827 [==============================] - 0s 146us/sample - loss: 0.1462 - val_loss: 0.1257\n",
            "Epoch 308/5000\n",
            "1827/1827 [==============================] - 0s 150us/sample - loss: 0.1379 - val_loss: 0.1269\n",
            "Epoch 309/5000\n",
            "1827/1827 [==============================] - 0s 150us/sample - loss: 0.1405 - val_loss: 0.1377\n",
            "Epoch 310/5000\n",
            "1827/1827 [==============================] - 0s 149us/sample - loss: 0.1446 - val_loss: 0.1328\n",
            "Epoch 311/5000\n",
            "1827/1827 [==============================] - 0s 153us/sample - loss: 0.1371 - val_loss: 0.1269\n",
            "Epoch 312/5000\n",
            "1827/1827 [==============================] - 0s 158us/sample - loss: 0.1387 - val_loss: 0.1127\n",
            "Epoch 313/5000\n",
            "1827/1827 [==============================] - 0s 158us/sample - loss: 0.1346 - val_loss: 0.1455\n",
            "Epoch 314/5000\n",
            "1827/1827 [==============================] - 0s 150us/sample - loss: 0.1387 - val_loss: 0.1097\n",
            "Epoch 315/5000\n",
            "1827/1827 [==============================] - 0s 152us/sample - loss: 0.1432 - val_loss: 0.1524\n",
            "Epoch 316/5000\n",
            "1827/1827 [==============================] - 0s 151us/sample - loss: 0.1389 - val_loss: 0.1124\n",
            "Epoch 317/5000\n",
            "1827/1827 [==============================] - 0s 150us/sample - loss: 0.1409 - val_loss: 0.1399\n",
            "Epoch 318/5000\n",
            "1827/1827 [==============================] - 0s 145us/sample - loss: 0.1437 - val_loss: 0.1151\n",
            "Epoch 319/5000\n",
            "1827/1827 [==============================] - 0s 150us/sample - loss: 0.1460 - val_loss: 0.1198\n",
            "Epoch 320/5000\n",
            "1827/1827 [==============================] - 0s 151us/sample - loss: 0.1423 - val_loss: 0.1168\n",
            "Epoch 321/5000\n",
            "1827/1827 [==============================] - 0s 149us/sample - loss: 0.1399 - val_loss: 0.1173\n",
            "Epoch 322/5000\n",
            "1827/1827 [==============================] - 0s 152us/sample - loss: 0.1327 - val_loss: 0.1363\n",
            "Epoch 323/5000\n",
            "1827/1827 [==============================] - 0s 150us/sample - loss: 0.1290 - val_loss: 0.1218\n",
            "Epoch 324/5000\n",
            "1827/1827 [==============================] - 0s 154us/sample - loss: 0.1314 - val_loss: 0.1322\n",
            "Epoch 325/5000\n",
            "1827/1827 [==============================] - 0s 153us/sample - loss: 0.1299 - val_loss: 0.1116\n",
            "Epoch 326/5000\n",
            "1827/1827 [==============================] - 0s 153us/sample - loss: 0.1327 - val_loss: 0.1320\n",
            "Epoch 327/5000\n",
            "1827/1827 [==============================] - 0s 153us/sample - loss: 0.1303 - val_loss: 0.1181\n",
            "Epoch 328/5000\n",
            "1827/1827 [==============================] - 0s 150us/sample - loss: 0.1329 - val_loss: 0.1348\n",
            "Epoch 329/5000\n",
            "1827/1827 [==============================] - 0s 150us/sample - loss: 0.1291 - val_loss: 0.1108\n",
            "Epoch 330/5000\n",
            "1827/1827 [==============================] - 0s 148us/sample - loss: 0.1286 - val_loss: 0.1164\n",
            "Epoch 331/5000\n",
            "1827/1827 [==============================] - 0s 147us/sample - loss: 0.1240 - val_loss: 0.1283\n",
            "Epoch 332/5000\n",
            "1827/1827 [==============================] - 0s 149us/sample - loss: 0.1314 - val_loss: 0.1107\n",
            "Epoch 333/5000\n",
            "1827/1827 [==============================] - 0s 150us/sample - loss: 0.1285 - val_loss: 0.1247\n",
            "Epoch 334/5000\n",
            "1827/1827 [==============================] - 0s 149us/sample - loss: 0.1244 - val_loss: 0.1138\n",
            "Epoch 335/5000\n",
            "1827/1827 [==============================] - 0s 149us/sample - loss: 0.1231 - val_loss: 0.1180\n",
            "Epoch 336/5000\n",
            "1827/1827 [==============================] - 0s 149us/sample - loss: 0.1281 - val_loss: 0.1102\n",
            "Epoch 337/5000\n",
            "1827/1827 [==============================] - 0s 162us/sample - loss: 0.1286 - val_loss: 0.1192\n",
            "Epoch 338/5000\n",
            "1827/1827 [==============================] - 0s 151us/sample - loss: 0.1280 - val_loss: 0.1071\n",
            "Epoch 339/5000\n",
            "1827/1827 [==============================] - 0s 153us/sample - loss: 0.1268 - val_loss: 0.1315\n",
            "Epoch 340/5000\n",
            "1827/1827 [==============================] - 0s 152us/sample - loss: 0.1281 - val_loss: 0.1177\n",
            "Epoch 341/5000\n",
            "1827/1827 [==============================] - 0s 148us/sample - loss: 0.1308 - val_loss: 0.1296\n",
            "Epoch 342/5000\n",
            "1827/1827 [==============================] - 0s 151us/sample - loss: 0.1270 - val_loss: 0.1202\n",
            "Epoch 343/5000\n",
            "1827/1827 [==============================] - 0s 150us/sample - loss: 0.1378 - val_loss: 0.1262\n",
            "Epoch 344/5000\n",
            "1827/1827 [==============================] - 0s 153us/sample - loss: 0.1400 - val_loss: 0.1281\n",
            "Epoch 345/5000\n",
            "1827/1827 [==============================] - 0s 151us/sample - loss: 0.1468 - val_loss: 0.1217\n",
            "Epoch 346/5000\n",
            "1827/1827 [==============================] - 0s 149us/sample - loss: 0.1404 - val_loss: 0.1393\n",
            "Epoch 347/5000\n",
            "1827/1827 [==============================] - 0s 151us/sample - loss: 0.1370 - val_loss: 0.1220\n",
            "Epoch 348/5000\n",
            "1827/1827 [==============================] - 0s 152us/sample - loss: 0.1401 - val_loss: 0.1251\n",
            "Epoch 349/5000\n",
            "1827/1827 [==============================] - 0s 153us/sample - loss: 0.1426 - val_loss: 0.1254\n",
            "Epoch 350/5000\n",
            "1827/1827 [==============================] - 0s 146us/sample - loss: 0.1393 - val_loss: 0.1151\n",
            "Epoch 351/5000\n",
            "1827/1827 [==============================] - 0s 151us/sample - loss: 0.1338 - val_loss: 0.1306\n",
            "Epoch 352/5000\n",
            "1827/1827 [==============================] - 0s 152us/sample - loss: 0.1311 - val_loss: 0.1069\n",
            "Epoch 353/5000\n",
            "1827/1827 [==============================] - 0s 152us/sample - loss: 0.1263 - val_loss: 0.1356\n",
            "Epoch 354/5000\n",
            "1827/1827 [==============================] - 0s 148us/sample - loss: 0.1233 - val_loss: 0.1095\n",
            "Epoch 355/5000\n",
            "1827/1827 [==============================] - 0s 148us/sample - loss: 0.1261 - val_loss: 0.1215\n",
            "Epoch 356/5000\n",
            "1827/1827 [==============================] - 0s 150us/sample - loss: 0.1242 - val_loss: 0.1092\n",
            "Epoch 357/5000\n",
            "1827/1827 [==============================] - 0s 147us/sample - loss: 0.1256 - val_loss: 0.1085\n",
            "Epoch 358/5000\n",
            "1827/1827 [==============================] - 0s 150us/sample - loss: 0.1252 - val_loss: 0.1163\n",
            "Epoch 359/5000\n",
            "1827/1827 [==============================] - 0s 155us/sample - loss: 0.1173 - val_loss: 0.1136\n",
            "Epoch 360/5000\n",
            "1827/1827 [==============================] - 0s 165us/sample - loss: 0.1194 - val_loss: 0.1306\n",
            "Epoch 361/5000\n",
            "1827/1827 [==============================] - 0s 156us/sample - loss: 0.1182 - val_loss: 0.1094\n",
            "Epoch 362/5000\n",
            "1827/1827 [==============================] - 0s 153us/sample - loss: 0.1218 - val_loss: 0.1445\n",
            "Epoch 363/5000\n",
            "1827/1827 [==============================] - 0s 158us/sample - loss: 0.1252 - val_loss: 0.1082\n",
            "Epoch 364/5000\n",
            "1827/1827 [==============================] - 0s 147us/sample - loss: 0.1306 - val_loss: 0.1256\n",
            "Epoch 365/5000\n",
            "1827/1827 [==============================] - 0s 148us/sample - loss: 0.1305 - val_loss: 0.1044\n",
            "Epoch 366/5000\n",
            "1827/1827 [==============================] - 0s 151us/sample - loss: 0.1239 - val_loss: 0.1066\n",
            "Epoch 367/5000\n",
            "1827/1827 [==============================] - 0s 158us/sample - loss: 0.1261 - val_loss: 0.1142\n",
            "Epoch 368/5000\n",
            "1827/1827 [==============================] - 0s 152us/sample - loss: 0.1215 - val_loss: 0.1055\n",
            "Epoch 369/5000\n",
            "1827/1827 [==============================] - 0s 152us/sample - loss: 0.1180 - val_loss: 0.1161\n",
            "Epoch 370/5000\n",
            "1827/1827 [==============================] - 0s 162us/sample - loss: 0.1215 - val_loss: 0.0976\n",
            "Epoch 371/5000\n",
            "1827/1827 [==============================] - 0s 149us/sample - loss: 0.1163 - val_loss: 0.1159\n",
            "Epoch 372/5000\n",
            "1827/1827 [==============================] - 0s 150us/sample - loss: 0.1157 - val_loss: 0.1041\n",
            "Epoch 373/5000\n",
            "1827/1827 [==============================] - 0s 148us/sample - loss: 0.1120 - val_loss: 0.1135\n",
            "Epoch 374/5000\n",
            "1827/1827 [==============================] - 0s 149us/sample - loss: 0.1154 - val_loss: 0.1053\n",
            "Epoch 375/5000\n",
            "1827/1827 [==============================] - 0s 147us/sample - loss: 0.1120 - val_loss: 0.1289\n",
            "Epoch 376/5000\n",
            "1827/1827 [==============================] - 0s 155us/sample - loss: 0.1195 - val_loss: 0.1154\n",
            "Epoch 377/5000\n",
            "1827/1827 [==============================] - 0s 156us/sample - loss: 0.1206 - val_loss: 0.1152\n",
            "Epoch 378/5000\n",
            "1827/1827 [==============================] - 0s 157us/sample - loss: 0.1178 - val_loss: 0.1092\n",
            "Epoch 379/5000\n",
            "1827/1827 [==============================] - 0s 150us/sample - loss: 0.1202 - val_loss: 0.1095\n",
            "Epoch 380/5000\n",
            "1827/1827 [==============================] - 0s 146us/sample - loss: 0.1237 - val_loss: 0.1052\n",
            "Epoch 381/5000\n",
            "1827/1827 [==============================] - 0s 152us/sample - loss: 0.1163 - val_loss: 0.1016\n",
            "Epoch 382/5000\n",
            "1827/1827 [==============================] - 0s 154us/sample - loss: 0.1177 - val_loss: 0.0934\n",
            "Epoch 383/5000\n",
            "1827/1827 [==============================] - 0s 154us/sample - loss: 0.1153 - val_loss: 0.1006\n",
            "Epoch 384/5000\n",
            "1827/1827 [==============================] - 0s 152us/sample - loss: 0.1173 - val_loss: 0.1019\n",
            "Epoch 385/5000\n",
            "1827/1827 [==============================] - 0s 154us/sample - loss: 0.1160 - val_loss: 0.1017\n",
            "Epoch 386/5000\n",
            "1827/1827 [==============================] - 0s 152us/sample - loss: 0.1109 - val_loss: 0.1157\n",
            "Epoch 387/5000\n",
            "1827/1827 [==============================] - 0s 149us/sample - loss: 0.1154 - val_loss: 0.0969\n",
            "Epoch 388/5000\n",
            "1827/1827 [==============================] - 0s 145us/sample - loss: 0.1083 - val_loss: 0.1027\n",
            "Epoch 389/5000\n",
            "1827/1827 [==============================] - 0s 150us/sample - loss: 0.1094 - val_loss: 0.1105\n",
            "Epoch 390/5000\n",
            "1827/1827 [==============================] - 0s 149us/sample - loss: 0.1115 - val_loss: 0.1136\n",
            "Epoch 391/5000\n",
            "1827/1827 [==============================] - 0s 151us/sample - loss: 0.1175 - val_loss: 0.0939\n",
            "Epoch 392/5000\n",
            "1827/1827 [==============================] - 0s 151us/sample - loss: 0.1132 - val_loss: 0.1129\n",
            "Epoch 393/5000\n",
            "1827/1827 [==============================] - 0s 152us/sample - loss: 0.1134 - val_loss: 0.1117\n",
            "Epoch 394/5000\n",
            "1827/1827 [==============================] - 0s 150us/sample - loss: 0.1103 - val_loss: 0.1051\n",
            "Epoch 395/5000\n",
            "1827/1827 [==============================] - 0s 155us/sample - loss: 0.1123 - val_loss: 0.1226\n",
            "Epoch 396/5000\n",
            "1827/1827 [==============================] - 0s 154us/sample - loss: 0.1071 - val_loss: 0.0993\n",
            "Epoch 397/5000\n",
            "1827/1827 [==============================] - 0s 147us/sample - loss: 0.1102 - val_loss: 0.1035\n",
            "Epoch 398/5000\n",
            "1827/1827 [==============================] - 0s 149us/sample - loss: 0.1077 - val_loss: 0.1054\n",
            "Epoch 399/5000\n",
            "1827/1827 [==============================] - 0s 147us/sample - loss: 0.1182 - val_loss: 0.0997\n",
            "Epoch 400/5000\n",
            "1827/1827 [==============================] - 0s 153us/sample - loss: 0.1120 - val_loss: 0.1199\n",
            "Epoch 401/5000\n",
            "1827/1827 [==============================] - 0s 146us/sample - loss: 0.1108 - val_loss: 0.1092\n",
            "Epoch 402/5000\n",
            "1827/1827 [==============================] - 0s 152us/sample - loss: 0.1122 - val_loss: 0.1093\n",
            "Epoch 403/5000\n",
            "1827/1827 [==============================] - 0s 145us/sample - loss: 0.1106 - val_loss: 0.1077\n",
            "Epoch 404/5000\n",
            "1827/1827 [==============================] - 0s 151us/sample - loss: 0.1080 - val_loss: 0.1107\n",
            "Epoch 405/5000\n",
            "1827/1827 [==============================] - 0s 150us/sample - loss: 0.1122 - val_loss: 0.1191\n",
            "Epoch 406/5000\n",
            "1827/1827 [==============================] - 0s 152us/sample - loss: 0.1083 - val_loss: 0.1093\n",
            "Epoch 407/5000\n",
            "1827/1827 [==============================] - 0s 150us/sample - loss: 0.1121 - val_loss: 0.1158\n",
            "Epoch 408/5000\n",
            "1827/1827 [==============================] - 0s 146us/sample - loss: 0.1086 - val_loss: 0.0883\n",
            "Epoch 409/5000\n",
            "1827/1827 [==============================] - 0s 152us/sample - loss: 0.1115 - val_loss: 0.0936\n",
            "Epoch 410/5000\n",
            "1827/1827 [==============================] - 0s 156us/sample - loss: 0.1129 - val_loss: 0.0891\n",
            "Epoch 411/5000\n",
            "1827/1827 [==============================] - 0s 163us/sample - loss: 0.1151 - val_loss: 0.0930\n",
            "Epoch 412/5000\n",
            "1827/1827 [==============================] - 0s 151us/sample - loss: 0.1141 - val_loss: 0.0922\n",
            "Epoch 413/5000\n",
            "1827/1827 [==============================] - 0s 150us/sample - loss: 0.1093 - val_loss: 0.0788\n",
            "Epoch 414/5000\n",
            "1827/1827 [==============================] - 0s 153us/sample - loss: 0.1051 - val_loss: 0.0976\n",
            "Epoch 415/5000\n",
            "1827/1827 [==============================] - 0s 149us/sample - loss: 0.1030 - val_loss: 0.0932\n",
            "Epoch 416/5000\n",
            "1827/1827 [==============================] - 0s 151us/sample - loss: 0.1013 - val_loss: 0.1134\n",
            "Epoch 417/5000\n",
            "1827/1827 [==============================] - 0s 148us/sample - loss: 0.1022 - val_loss: 0.0982\n",
            "Epoch 418/5000\n",
            "1827/1827 [==============================] - 0s 153us/sample - loss: 0.1015 - val_loss: 0.0997\n",
            "Epoch 419/5000\n",
            "1827/1827 [==============================] - 0s 151us/sample - loss: 0.1054 - val_loss: 0.0914\n",
            "Epoch 420/5000\n",
            "1827/1827 [==============================] - 0s 153us/sample - loss: 0.1048 - val_loss: 0.0981\n",
            "Epoch 421/5000\n",
            "1827/1827 [==============================] - 0s 148us/sample - loss: 0.1096 - val_loss: 0.0924\n",
            "Epoch 422/5000\n",
            "1827/1827 [==============================] - 0s 144us/sample - loss: 0.1108 - val_loss: 0.0948\n",
            "Epoch 423/5000\n",
            "1827/1827 [==============================] - 0s 148us/sample - loss: 0.1152 - val_loss: 0.0997\n",
            "Epoch 424/5000\n",
            "1827/1827 [==============================] - 0s 147us/sample - loss: 0.1108 - val_loss: 0.0935\n",
            "Epoch 425/5000\n",
            "1827/1827 [==============================] - 0s 153us/sample - loss: 0.1034 - val_loss: 0.0976\n",
            "Epoch 426/5000\n",
            "1827/1827 [==============================] - 0s 151us/sample - loss: 0.1022 - val_loss: 0.0945\n",
            "Epoch 427/5000\n",
            "1827/1827 [==============================] - 0s 147us/sample - loss: 0.1016 - val_loss: 0.0896\n",
            "Epoch 428/5000\n",
            "1827/1827 [==============================] - 0s 157us/sample - loss: 0.1015 - val_loss: 0.0860\n",
            "Epoch 429/5000\n",
            "1827/1827 [==============================] - 0s 151us/sample - loss: 0.0996 - val_loss: 0.0835\n",
            "Epoch 430/5000\n",
            "1827/1827 [==============================] - 0s 158us/sample - loss: 0.0953 - val_loss: 0.0799\n",
            "Epoch 431/5000\n",
            "1827/1827 [==============================] - 0s 159us/sample - loss: 0.0957 - val_loss: 0.0789\n",
            "Epoch 432/5000\n",
            "1827/1827 [==============================] - 0s 164us/sample - loss: 0.1035 - val_loss: 0.0959\n",
            "Epoch 433/5000\n",
            "1827/1827 [==============================] - 0s 147us/sample - loss: 0.0972 - val_loss: 0.0821\n",
            "Epoch 434/5000\n",
            "1827/1827 [==============================] - 0s 148us/sample - loss: 0.0954 - val_loss: 0.0853\n",
            "Epoch 435/5000\n",
            "1827/1827 [==============================] - 0s 151us/sample - loss: 0.0973 - val_loss: 0.0888\n",
            "Epoch 436/5000\n",
            "1827/1827 [==============================] - 0s 146us/sample - loss: 0.0973 - val_loss: 0.0983\n",
            "Epoch 437/5000\n",
            "1827/1827 [==============================] - 0s 147us/sample - loss: 0.0918 - val_loss: 0.0842\n",
            "Epoch 438/5000\n",
            "1827/1827 [==============================] - 0s 151us/sample - loss: 0.0923 - val_loss: 0.0875\n",
            "Epoch 439/5000\n",
            "1827/1827 [==============================] - 0s 143us/sample - loss: 0.0966 - val_loss: 0.0832\n",
            "Epoch 440/5000\n",
            "1827/1827 [==============================] - 0s 146us/sample - loss: 0.0969 - val_loss: 0.0907\n",
            "Epoch 441/5000\n",
            "1827/1827 [==============================] - 0s 148us/sample - loss: 0.0983 - val_loss: 0.0879\n",
            "Epoch 442/5000\n",
            "1827/1827 [==============================] - 0s 149us/sample - loss: 0.0927 - val_loss: 0.0953\n",
            "Epoch 443/5000\n",
            "1827/1827 [==============================] - 0s 142us/sample - loss: 0.0897 - val_loss: 0.0827\n",
            "INFO:tensorflow:Copying TPU weights to the CPU\n",
            "WARNING:tensorflow:TensorFlow optimizers do not make it possible to access optimizer attributes or optimizer state after instantiation. As a result, we cannot save the optimizer as part of the model save file.You will have to compile your model again after loading it. Prefer using a Keras optimizer instead (see keras.io/optimizers).\n"
          ],
          "name": "stdout"
        }
      ]
    },
    {
      "metadata": {
        "id": "KCuudwzFjkbr",
        "colab_type": "code",
        "outputId": "69b8b5b3-5115-43b8-f12c-ec1b14d35d66",
        "colab": {
          "base_uri": "https://localhost:8080/",
          "height": 295
        }
      },
      "cell_type": "code",
      "source": [
        "plot_loss(history)"
      ],
      "execution_count": 0,
      "outputs": [
        {
          "output_type": "display_data",
          "data": {
            "image/png": "[encoded data removed]",
            "text/plain": [
              "<Figure size 432x288 with 1 Axes>"
            ]
          },
          "metadata": {
            "tags": []
          }
        }
      ]
    },
    {
      "metadata": {
        "id": "SEqtgxNku5hR",
        "colab_type": "text"
      },
      "cell_type": "markdown",
      "source": [
        "### Predict for Test Set"
      ]
    },
    {
      "metadata": {
        "id": "FzDXzffmhL6P",
        "colab_type": "code",
        "outputId": "4300573c-e0fd-4038-84d3-3da72e9ce165",
        "colab": {
          "base_uri": "https://localhost:8080/",
          "height": 187
        }
      },
      "cell_type": "code",
      "source": [
        "predicted = model.predict(x_test)"
      ],
      "execution_count": 0,
      "outputs": [
        {
          "output_type": "stream",
          "text": [
            "INFO:tensorflow:New input shapes; (re-)compiling: mode=infer (# of cores 8), [TensorSpec(shape=(4, 30, 16), dtype=tf.float32, name='input_4_10')]\n",
            "INFO:tensorflow:Overriding default placeholder.\n",
            "INFO:tensorflow:Remapping placeholder for input_4\n",
            "INFO:tensorflow:Started compiling\n",
            "INFO:tensorflow:Finished compiling. Time elapsed: 350.3678889274597 secs\n",
            "INFO:tensorflow:New input shapes; (re-)compiling: mode=infer (# of cores 8), [TensorSpec(shape=(1, 30, 16), dtype=tf.float32, name='input_4_10')]\n",
            "INFO:tensorflow:Overriding default placeholder.\n",
            "INFO:tensorflow:Remapping placeholder for input_4\n",
            "INFO:tensorflow:Started compiling\n",
            "INFO:tensorflow:Finished compiling. Time elapsed: 195.2763864994049 secs\n"
          ],
          "name": "stdout"
        }
      ]
    },
    {
      "metadata": {
        "id": "U6TPpw-_vMpl",
        "colab_type": "text"
      },
      "cell_type": "markdown",
      "source": [
        "### Rescale Data"
      ]
    },
    {
      "metadata": {
        "id": "yafhqQlXeRc6",
        "colab_type": "code",
        "colab": {}
      },
      "cell_type": "code",
      "source": [
        "new_predicted = []\n",
        "\n",
        "for i in range(len(predicted)):\n",
        "  temp = np.zeros((x_train.shape[2],))\n",
        "  # 3 for closing price\n",
        "  temp[3] = predicted[i]\n",
        "  new_predicted.append(scalars[len(x_train)+i].inverse_transform(temp)[3])\n",
        "  \n",
        "predicted = np.array(new_predicted)"
      ],
      "execution_count": 0,
      "outputs": []
    },
    {
      "metadata": {
        "id": "kY_axYqovUwi",
        "colab_type": "text"
      },
      "cell_type": "markdown",
      "source": [
        "### Plot Predictions"
      ]
    },
    {
      "metadata": {
        "id": "0FSNDV8DYqeU",
        "colab_type": "code",
        "outputId": "71a8cda2-8934-46a7-9825-282403566c78",
        "colab": {
          "base_uri": "https://localhost:8080/",
          "height": 779
        }
      },
      "cell_type": "code",
      "source": [
        "plot_results(predicted, original_data)"
      ],
      "execution_count": 0,
      "outputs": [
        {
          "output_type": "display_data",
          "data": {
            "image/png": "[encoded data removed]",
            "text/plain": [
              "<Figure size 1280x960 with 1 Axes>"
            ]
          },
          "metadata": {
            "tags": []
          }
        }
      ]
    },
    {
      "metadata": {
        "id": "10J6TiohvZSD",
        "colab_type": "text"
      },
      "cell_type": "markdown",
      "source": [
        "### Mean Squared Error"
      ]
    },
    {
      "metadata": {
        "colab_type": "code",
        "id": "8mzAHFLaa04C",
        "outputId": "3d9c9b6f-b456-44ef-ba35-30f1dcc877e5",
        "colab": {
          "base_uri": "https://localhost:8080/",
          "height": 34
        }
      },
      "cell_type": "code",
      "source": [
        "from sklearn.metrics import mean_squared_error\n",
        "\n",
        "mean_squared_error(predicted, original_data)"
      ],
      "execution_count": 0,
      "outputs": [
        {
          "output_type": "execute_result",
          "data": {
            "text/plain": [
              "2392.228090154434"
            ]
          },
          "metadata": {
            "tags": []
          },
          "execution_count": 77
        }
      ]
    },
    {
      "metadata": {
        "id": "2smWrDeRvhOS",
        "colab_type": "text"
      },
      "cell_type": "markdown",
      "source": [
        "### Mean Absolute Percentage Error\n",
        "\n"
      ]
    },
    {
      "metadata": {
        "colab_type": "code",
        "id": "fGyoF7N0a04H",
        "outputId": "b85a236d-738d-4af1-e305-7fec57f769df",
        "colab": {
          "base_uri": "https://localhost:8080/",
          "height": 34
        }
      },
      "cell_type": "code",
      "source": [
        "print(np.mean(np.abs((original_data - predicted) / original_data)) * 100)"
      ],
      "execution_count": 0,
      "outputs": [
        {
          "output_type": "stream",
          "text": [
            "2.089310756881415\n"
          ],
          "name": "stdout"
        }
      ]
    },
    {
      "metadata": {
        "id": "YcdkWumjwMeg",
        "colab_type": "text"
      },
      "cell_type": "markdown",
      "source": [
        "### Convert to Directional Data"
      ]
    },
    {
      "metadata": {
        "colab_type": "code",
        "id": "EjkfELAVa04L",
        "outputId": "62971c4f-8549-4448-9802-ac047aed33e4",
        "colab": {
          "base_uri": "https://localhost:8080/",
          "height": 68
        }
      },
      "cell_type": "code",
      "source": [
        "predicted_directions = directional_data(predicted, original_data)"
      ],
      "execution_count": 0,
      "outputs": [
        {
          "output_type": "stream",
          "text": [
            "No change: 84\n",
            "Up: 155\n",
            "Down: 216\n"
          ],
          "name": "stdout"
        }
      ]
    },
    {
      "metadata": {
        "id": "gsIprTVHwKiy",
        "colab_type": "code",
        "outputId": "cef9da53-79cb-466d-dc31-9ce3baa2ec89",
        "colab": {
          "base_uri": "https://localhost:8080/",
          "height": 68
        }
      },
      "cell_type": "code",
      "source": [
        "actual_directions = directional_data(original_data, original_data)"
      ],
      "execution_count": 0,
      "outputs": [
        {
          "output_type": "stream",
          "text": [
            "No change: 126\n",
            "Up: 166\n",
            "Down: 163\n"
          ],
          "name": "stdout"
        }
      ]
    },
    {
      "metadata": {
        "id": "R4hOeR7Awfs6",
        "colab_type": "text"
      },
      "cell_type": "markdown",
      "source": [
        "### Plot Confusion Matrix"
      ]
    },
    {
      "metadata": {
        "colab_type": "code",
        "id": "c_7x8T5la04W",
        "colab": {}
      },
      "cell_type": "code",
      "source": [
        "classes = [\"Down\", \"No Change\", \"Up\"]\n",
        "classes = np.array(classes)\n",
        "\n",
        "indices = predicted_directions.argmax(axis=1)\n",
        "predicted_classes = classes[indices]\n",
        "\n",
        "indices = actual_directions.argmax(axis=1)\n",
        "y_true = classes[indices]"
      ],
      "execution_count": 0,
      "outputs": []
    },
    {
      "metadata": {
        "id": "-C0rhfjOwkhE",
        "colab_type": "text"
      },
      "cell_type": "markdown",
      "source": [
        "By Count"
      ]
    },
    {
      "metadata": {
        "colab_type": "code",
        "id": "f_sIs5FVa04a",
        "outputId": "fd8d9afc-f5bd-4e9a-d196-3e104d36b5f4",
        "colab": {
          "base_uri": "https://localhost:8080/",
          "height": 734
        }
      },
      "cell_type": "code",
      "source": [
        "plot_confusion_matrix(y_true, predicted_classes, normalize=False)"
      ],
      "execution_count": 0,
      "outputs": [
        {
          "output_type": "stream",
          "text": [
            "Confusion matrix, without normalization\n",
            "[[79 29 55]\n",
            " [64 27 35]\n",
            " [73 28 65]]\n"
          ],
          "name": "stdout"
        },
        {
          "output_type": "execute_result",
          "data": {
            "text/plain": [
              "<matplotlib.axes._subplots.AxesSubplot at 0x7f1eadd80f60>"
            ]
          },
          "metadata": {
            "tags": []
          },
          "execution_count": 82
        },
        {
          "output_type": "display_data",
          "data": {
            "image/png": "[encoded data removed]",
            "text/plain": [
              "<Figure size 960x640 with 2 Axes>"
            ]
          },
          "metadata": {
            "tags": []
          }
        }
      ]
    },
    {
      "metadata": {
        "id": "tlEb2CjJwole",
        "colab_type": "text"
      },
      "cell_type": "markdown",
      "source": [
        "Normalized"
      ]
    },
    {
      "metadata": {
        "colab_type": "code",
        "id": "vpBl-Yxla04f",
        "outputId": "60655b89-bbe4-4985-d495-0478de46760a",
        "colab": {
          "base_uri": "https://localhost:8080/",
          "height": 734
        }
      },
      "cell_type": "code",
      "source": [
        "plot_confusion_matrix(y_true, predicted_classes, normalize=True)"
      ],
      "execution_count": 0,
      "outputs": [
        {
          "output_type": "stream",
          "text": [
            "Normalized confusion matrix\n",
            "[[0.48466258 0.17791411 0.33742331]\n",
            " [0.50793651 0.21428571 0.27777778]\n",
            " [0.43975904 0.1686747  0.39156627]]\n"
          ],
          "name": "stdout"
        },
        {
          "output_type": "execute_result",
          "data": {
            "text/plain": [
              "<matplotlib.axes._subplots.AxesSubplot at 0x7f1eadd0e4e0>"
            ]
          },
          "metadata": {
            "tags": []
          },
          "execution_count": 83
        },
        {
          "output_type": "display_data",
          "data": {
            "image/png": "[encoded data removed]",
            "text/plain": [
              "<Figure size 960x640 with 2 Axes>"
            ]
          },
          "metadata": {
            "tags": []
          }
        }
      ]
    },
    {
      "metadata": {
        "id": "NNvMmilvwrxq",
        "colab_type": "text"
      },
      "cell_type": "markdown",
      "source": [
        "### Mean Categorical Accuracy"
      ]
    },
    {
      "metadata": {
        "colab_type": "code",
        "id": "FtitwLm7a04i",
        "outputId": "46a97eeb-5840-40c1-9fd9-8202443ad2ed",
        "colab": {
          "base_uri": "https://localhost:8080/",
          "height": 34
        }
      },
      "cell_type": "code",
      "source": [
        "from sklearn.metrics import accuracy_score\n",
        "\n",
        "accuracy_score(y_true, predicted_classes)"
      ],
      "execution_count": 0,
      "outputs": [
        {
          "output_type": "execute_result",
          "data": {
            "text/plain": [
              "0.3758241758241758"
            ]
          },
          "metadata": {
            "tags": []
          },
          "execution_count": 84
        }
      ]
    },
    {
      "metadata": {
        "id": "m9qyBdIszawy",
        "colab_type": "text"
      },
      "cell_type": "markdown",
      "source": [
        "### Export to CSV"
      ]
    },
    {
      "metadata": {
        "colab_type": "code",
        "id": "x0JftqKZa04l",
        "colab": {}
      },
      "cell_type": "code",
      "source": [
        "y_true = np.insert(y_true, 0, 0)\n",
        "predicted_classes = np.insert(predicted_classes, 0, 0)"
      ],
      "execution_count": 0,
      "outputs": []
    },
    {
      "metadata": {
        "colab_type": "code",
        "id": "zR5MzTWQa04t",
        "colab": {}
      },
      "cell_type": "code",
      "source": [
        "columns = ['Date', 'True Closing Values', 'Predicted Closing Values', 'True Values', 'Predicted Values']\n",
        "data = np.array([dates, original_data, predicted, y_true, predicted_classes]).T"
      ],
      "execution_count": 0,
      "outputs": []
    },
    {
      "metadata": {
        "colab_type": "code",
        "id": "rsLxqGy8a04u",
        "colab": {}
      },
      "cell_type": "code",
      "source": [
        "csv = pd.DataFrame(data, columns=columns)\n",
        "\n",
        "csv.to_csv('bi_lstm_first_half.csv', index=False)"
      ],
      "execution_count": 0,
      "outputs": []
    },
    {
      "metadata": {
        "colab_type": "text",
        "id": "5ds-rxYY0mNk"
      },
      "cell_type": "markdown",
      "source": [
        "## Download Files"
      ]
    },
    {
      "metadata": {
        "colab_type": "code",
        "id": "s0GEwC9R0mNl",
        "colab": {}
      },
      "cell_type": "code",
      "source": [
        "from google.colab import files\n",
        "\n",
        "files.download('bi_lstm_first_half.csv')\n",
        "\n",
        "files.download('bi_lstm_first_half.h5')"
      ],
      "execution_count": 0,
      "outputs": []
    },
    {
      "metadata": {
        "colab_type": "text",
        "id": "nyqiKA1TTmje"
      },
      "cell_type": "markdown",
      "source": [
        "## Second Half\n",
        "\n",
        "### Load Data"
      ]
    },
    {
      "metadata": {
        "colab_type": "code",
        "outputId": "c6ddd49a-ba6f-4b28-eb88-8473053814e8",
        "id": "e8M0qczRTmjf",
        "colab": {
          "base_uri": "https://localhost:8080/",
          "height": 51
        }
      },
      "cell_type": "code",
      "source": [
        "x_train_2, y_train_2, x_test_2, y_test_2, scalars_2, original_data_2, dates_2 = load_data(df.values[int(len(df)/2):], seq_len, all_data[int(len(df)/2):])\n",
        "\n",
        "TPU = 8\n",
        "\n",
        "index = int(x_test_2.shape[0]/TPU)*TPU\n",
        "x_test_2 = x_test_2[:index,:,:]\n",
        "y_test_2 = y_test_2[:index]\n",
        "original_data_2 = original_data_2[:index]\n",
        "dates_2 = dates_2[:index]\n",
        "\n",
        "print(x_train_2.shape)\n",
        "print(y_train_2.shape)"
      ],
      "execution_count": 0,
      "outputs": [
        {
          "output_type": "stream",
          "text": [
            "(1827, 30, 16)\n",
            "(1827,)\n"
          ],
          "name": "stdout"
        }
      ]
    },
    {
      "metadata": {
        "colab_type": "text",
        "id": "qiS14ckFTmji"
      },
      "cell_type": "markdown",
      "source": [
        "### Create Model"
      ]
    },
    {
      "metadata": {
        "colab_type": "code",
        "outputId": "2c4fabe6-bd14-4ad2-c0d5-44f8a9c8949d",
        "id": "TrksPb9pTmjj",
        "colab": {
          "base_uri": "https://localhost:8080/",
          "height": 663
        }
      },
      "cell_type": "code",
      "source": [
        "model_2 = create_model(x_train_2)"
      ],
      "execution_count": 0,
      "outputs": [
        {
          "output_type": "stream",
          "text": [
            "INFO:tensorflow:Querying Tensorflow master (grpc://10.7.246.18:8470) for TPU system metadata.\n",
            "INFO:tensorflow:Found TPU system:\n",
            "INFO:tensorflow:*** Num TPU Cores: 8\n",
            "INFO:tensorflow:*** Num TPU Workers: 1\n",
            "INFO:tensorflow:*** Num TPU Cores Per Worker: 8\n",
            "INFO:tensorflow:*** Available Device: _DeviceAttributes(/job:worker/replica:0/task:0/device:CPU:0, CPU, -1, 7456853519070713707)\n",
            "INFO:tensorflow:*** Available Device: _DeviceAttributes(/job:worker/replica:0/task:0/device:XLA_CPU:0, XLA_CPU, 17179869184, 14558934335835245626)\n",
            "INFO:tensorflow:*** Available Device: _DeviceAttributes(/job:worker/replica:0/task:0/device:TPU:0, TPU, 17179869184, 7541544238226734802)\n",
            "INFO:tensorflow:*** Available Device: _DeviceAttributes(/job:worker/replica:0/task:0/device:TPU:1, TPU, 17179869184, 15440706205147677990)\n",
            "INFO:tensorflow:*** Available Device: _DeviceAttributes(/job:worker/replica:0/task:0/device:TPU:2, TPU, 17179869184, 17528447551500237016)\n",
            "INFO:tensorflow:*** Available Device: _DeviceAttributes(/job:worker/replica:0/task:0/device:TPU:3, TPU, 17179869184, 422321217594073292)\n",
            "INFO:tensorflow:*** Available Device: _DeviceAttributes(/job:worker/replica:0/task:0/device:TPU:4, TPU, 17179869184, 2898351518484845619)\n",
            "INFO:tensorflow:*** Available Device: _DeviceAttributes(/job:worker/replica:0/task:0/device:TPU:5, TPU, 17179869184, 6379521446803040898)\n",
            "INFO:tensorflow:*** Available Device: _DeviceAttributes(/job:worker/replica:0/task:0/device:TPU:6, TPU, 17179869184, 16485429095622715691)\n",
            "INFO:tensorflow:*** Available Device: _DeviceAttributes(/job:worker/replica:0/task:0/device:TPU:7, TPU, 17179869184, 8792189691642193555)\n",
            "INFO:tensorflow:*** Available Device: _DeviceAttributes(/job:worker/replica:0/task:0/device:TPU_SYSTEM:0, TPU_SYSTEM, 17179869184, 13529535552764683159)\n",
            "WARNING:tensorflow:tpu_model (from tensorflow.contrib.tpu.python.tpu.keras_support) is experimental and may change or be removed at any time, and without warning.\n",
            "_________________________________________________________________\n",
            "Layer (type)                 Output Shape              Param #   \n",
            "=================================================================\n",
            "input_5 (InputLayer)         (None, 30, 16)            0         \n",
            "_________________________________________________________________\n",
            "bidirectional_20 (Bidirectio (None, 30, 64)            12544     \n",
            "_________________________________________________________________\n",
            "bidirectional_21 (Bidirectio (None, 30, 64)            24832     \n",
            "_________________________________________________________________\n",
            "bidirectional_22 (Bidirectio (None, 30, 64)            24832     \n",
            "_________________________________________________________________\n",
            "bidirectional_23 (Bidirectio (None, 30, 64)            24832     \n",
            "_________________________________________________________________\n",
            "bidirectional_24 (Bidirectio (None, 64)                24832     \n",
            "_________________________________________________________________\n",
            "dense_4 (Dense)              (None, 1)                 65        \n",
            "=================================================================\n",
            "Total params: 111,937\n",
            "Trainable params: 111,937\n",
            "Non-trainable params: 0\n",
            "_________________________________________________________________\n"
          ],
          "name": "stdout"
        }
      ]
    },
    {
      "metadata": {
        "colab_type": "text",
        "id": "_yFTf22uTmjn"
      },
      "cell_type": "markdown",
      "source": [
        "### Train Model"
      ]
    },
    {
      "metadata": {
        "colab_type": "code",
        "outputId": "8c2386ae-10c5-4149-9298-209ac884e094",
        "id": "IokVrgtFTmjo",
        "colab": {
          "base_uri": "https://localhost:8080/",
          "height": 6242
        }
      },
      "cell_type": "code",
      "source": [
        "callbacks_list = [\n",
        "  tf.keras.callbacks.EarlyStopping(monitor='val_loss', patience=30)\n",
        "]\n",
        "\n",
        "history = model_2.fit(x_train_2,\n",
        "                      y_train_2,\n",
        "                      batch_size=60*TPU,\n",
        "                      epochs=5000,\n",
        "                      shuffle=True,\n",
        "                      callbacks=callbacks_list,\n",
        "                      validation_split=0.1,\n",
        "                      verbose=1)\n",
        "\n",
        "model_2.save('bi_lstm_second_half.h5')"
      ],
      "execution_count": 0,
      "outputs": [
        {
          "output_type": "stream",
          "text": [
            "Train on 1827 samples, validate on 183 samples\n",
            "Epoch 1/5000\n",
            "INFO:tensorflow:New input shapes; (re-)compiling: mode=train (# of cores 8), [TensorSpec(shape=(60,), dtype=tf.int32, name='core_id_90'), TensorSpec(shape=(60, 30, 16), dtype=tf.float32, name='input_5_10'), TensorSpec(shape=(60, 1), dtype=tf.float32, name='dense_4_target_30')]\n",
            "INFO:tensorflow:Overriding default placeholder.\n",
            "INFO:tensorflow:Remapping placeholder for input_5\n",
            "INFO:tensorflow:Started compiling\n",
            "INFO:tensorflow:Finished compiling. Time elapsed: 282.9277882575989 secs\n",
            "INFO:tensorflow:Setting weights on TPU model.\n",
            " 960/1827 [==============>...............] - ETA: 7:29 - loss: 2.2494 INFO:tensorflow:New input shapes; (re-)compiling: mode=train (# of cores 8), [TensorSpec(shape=(48,), dtype=tf.int32, name='core_id_90'), TensorSpec(shape=(48, 30, 16), dtype=tf.float32, name='input_5_10'), TensorSpec(shape=(48, 1), dtype=tf.float32, name='dense_4_target_30')]\n",
            "INFO:tensorflow:Overriding default placeholder.\n",
            "INFO:tensorflow:Remapping placeholder for input_5\n",
            "INFO:tensorflow:Started compiling\n",
            "INFO:tensorflow:Finished compiling. Time elapsed: 369.49734711647034 secs\n",
            "1440/1827 [======================>.......] - ETA: 4:04 - loss: 2.1921INFO:tensorflow:New input shapes; (re-)compiling: mode=eval (# of cores 8), [TensorSpec(shape=(22,), dtype=tf.int32, name='core_id_100'), TensorSpec(shape=(22, 30, 16), dtype=tf.float32, name='input_5_10'), TensorSpec(shape=(22, 1), dtype=tf.float32, name='dense_4_target_30')]\n",
            "INFO:tensorflow:Overriding default placeholder.\n",
            "INFO:tensorflow:Remapping placeholder for input_5\n",
            "INFO:tensorflow:Started compiling\n",
            "INFO:tensorflow:Finished compiling. Time elapsed: 475.3421220779419 secs\n",
            "1827/1827 [==============================] - 1439s 788ms/sample - loss: 2.1435 - val_loss: 1.5514\n",
            "Epoch 2/5000\n",
            "1827/1827 [==============================] - 0s 157us/sample - loss: 1.6309 - val_loss: 1.1431\n",
            "Epoch 3/5000\n",
            "1827/1827 [==============================] - 0s 158us/sample - loss: 1.3630 - val_loss: 1.0263\n",
            "Epoch 4/5000\n",
            "1827/1827 [==============================] - 0s 156us/sample - loss: 1.1991 - val_loss: 0.8966\n",
            "Epoch 5/5000\n",
            "1827/1827 [==============================] - 0s 159us/sample - loss: 1.0837 - val_loss: 0.8610\n",
            "Epoch 6/5000\n",
            "1827/1827 [==============================] - 0s 154us/sample - loss: 1.0176 - val_loss: 0.7742\n",
            "Epoch 7/5000\n",
            "1827/1827 [==============================] - 0s 154us/sample - loss: 0.9250 - val_loss: 0.7013\n",
            "Epoch 8/5000\n",
            "1827/1827 [==============================] - 0s 156us/sample - loss: 0.8532 - val_loss: 0.6521\n",
            "Epoch 9/5000\n",
            "1827/1827 [==============================] - 0s 156us/sample - loss: 0.8296 - val_loss: 0.6192\n",
            "Epoch 10/5000\n",
            "1827/1827 [==============================] - 0s 159us/sample - loss: 0.7335 - val_loss: 0.6140\n",
            "Epoch 11/5000\n",
            "1827/1827 [==============================] - 0s 163us/sample - loss: 0.6939 - val_loss: 0.5482\n",
            "Epoch 12/5000\n",
            "1827/1827 [==============================] - 0s 165us/sample - loss: 0.6604 - val_loss: 0.5204\n",
            "Epoch 13/5000\n",
            "1827/1827 [==============================] - 0s 157us/sample - loss: 0.6414 - val_loss: 0.5498\n",
            "Epoch 14/5000\n",
            "1827/1827 [==============================] - 0s 158us/sample - loss: 0.6182 - val_loss: 0.4892\n",
            "Epoch 15/5000\n",
            "1827/1827 [==============================] - 0s 159us/sample - loss: 0.6001 - val_loss: 0.4919\n",
            "Epoch 16/5000\n",
            "1827/1827 [==============================] - 0s 155us/sample - loss: 0.5936 - val_loss: 0.4688\n",
            "Epoch 17/5000\n",
            "1827/1827 [==============================] - 0s 160us/sample - loss: 0.5596 - val_loss: 0.4448\n",
            "Epoch 18/5000\n",
            "1827/1827 [==============================] - 0s 154us/sample - loss: 0.5397 - val_loss: 0.4459\n",
            "Epoch 19/5000\n",
            "1827/1827 [==============================] - 0s 153us/sample - loss: 0.5344 - val_loss: 0.4972\n",
            "Epoch 20/5000\n",
            "1827/1827 [==============================] - 0s 156us/sample - loss: 0.5328 - val_loss: 0.4525\n",
            "Epoch 21/5000\n",
            "1827/1827 [==============================] - 0s 151us/sample - loss: 0.5258 - val_loss: 0.4160\n",
            "Epoch 22/5000\n",
            "1827/1827 [==============================] - 0s 157us/sample - loss: 0.5012 - val_loss: 0.4531\n",
            "Epoch 23/5000\n",
            "1827/1827 [==============================] - 0s 152us/sample - loss: 0.4981 - val_loss: 0.4173\n",
            "Epoch 24/5000\n",
            "1827/1827 [==============================] - 0s 155us/sample - loss: 0.4780 - val_loss: 0.4542\n",
            "Epoch 25/5000\n",
            "1827/1827 [==============================] - 0s 152us/sample - loss: 0.4830 - val_loss: 0.3917\n",
            "Epoch 26/5000\n",
            "1827/1827 [==============================] - 0s 151us/sample - loss: 0.4763 - val_loss: 0.4074\n",
            "Epoch 27/5000\n",
            "1827/1827 [==============================] - 0s 150us/sample - loss: 0.4650 - val_loss: 0.3881\n",
            "Epoch 28/5000\n",
            "1827/1827 [==============================] - 0s 147us/sample - loss: 0.4554 - val_loss: 0.4119\n",
            "Epoch 29/5000\n",
            "1827/1827 [==============================] - 0s 149us/sample - loss: 0.4523 - val_loss: 0.4003\n",
            "Epoch 30/5000\n",
            "1827/1827 [==============================] - 0s 151us/sample - loss: 0.4648 - val_loss: 0.4066\n",
            "Epoch 31/5000\n",
            "1827/1827 [==============================] - 0s 152us/sample - loss: 0.4306 - val_loss: 0.3827\n",
            "Epoch 32/5000\n",
            "1827/1827 [==============================] - 0s 147us/sample - loss: 0.4456 - val_loss: 0.4143\n",
            "Epoch 33/5000\n",
            "1827/1827 [==============================] - 0s 154us/sample - loss: 0.4363 - val_loss: 0.3949\n",
            "Epoch 34/5000\n",
            "1827/1827 [==============================] - 0s 177us/sample - loss: 0.4302 - val_loss: 0.3860\n",
            "Epoch 35/5000\n",
            "1827/1827 [==============================] - 0s 151us/sample - loss: 0.4308 - val_loss: 0.3700\n",
            "Epoch 36/5000\n",
            "1827/1827 [==============================] - 0s 155us/sample - loss: 0.4165 - val_loss: 0.3973\n",
            "Epoch 37/5000\n",
            "1827/1827 [==============================] - 0s 148us/sample - loss: 0.3928 - val_loss: 0.3682\n",
            "Epoch 38/5000\n",
            "1827/1827 [==============================] - 0s 150us/sample - loss: 0.4117 - val_loss: 0.3722\n",
            "Epoch 39/5000\n",
            "1827/1827 [==============================] - 0s 148us/sample - loss: 0.4044 - val_loss: 0.3497\n",
            "Epoch 40/5000\n",
            "1827/1827 [==============================] - 0s 155us/sample - loss: 0.3984 - val_loss: 0.3736\n",
            "Epoch 41/5000\n",
            "1827/1827 [==============================] - 0s 153us/sample - loss: 0.4002 - val_loss: 0.3680\n",
            "Epoch 42/5000\n",
            "1827/1827 [==============================] - 0s 154us/sample - loss: 0.3962 - val_loss: 0.3845\n",
            "Epoch 43/5000\n",
            "1827/1827 [==============================] - 0s 152us/sample - loss: 0.3885 - val_loss: 0.3504\n",
            "Epoch 44/5000\n",
            "1827/1827 [==============================] - 0s 149us/sample - loss: 0.4101 - val_loss: 0.3658\n",
            "Epoch 45/5000\n",
            "1827/1827 [==============================] - 0s 153us/sample - loss: 0.3859 - val_loss: 0.3512\n",
            "Epoch 46/5000\n",
            "1827/1827 [==============================] - 0s 149us/sample - loss: 0.3855 - val_loss: 0.3623\n",
            "Epoch 47/5000\n",
            "1827/1827 [==============================] - 0s 150us/sample - loss: 0.3823 - val_loss: 0.3473\n",
            "Epoch 48/5000\n",
            "1827/1827 [==============================] - 0s 151us/sample - loss: 0.3916 - val_loss: 0.3503\n",
            "Epoch 49/5000\n",
            "1827/1827 [==============================] - 0s 153us/sample - loss: 0.3741 - val_loss: 0.3507\n",
            "Epoch 50/5000\n",
            "1827/1827 [==============================] - 0s 151us/sample - loss: 0.3656 - val_loss: 0.3227\n",
            "Epoch 51/5000\n",
            "1827/1827 [==============================] - 0s 158us/sample - loss: 0.3636 - val_loss: 0.3008\n",
            "Epoch 52/5000\n",
            "1827/1827 [==============================] - 0s 155us/sample - loss: 0.3641 - val_loss: 0.3062\n",
            "Epoch 53/5000\n",
            "1827/1827 [==============================] - 0s 152us/sample - loss: 0.3649 - val_loss: 0.3121\n",
            "Epoch 54/5000\n",
            "1827/1827 [==============================] - 0s 155us/sample - loss: 0.3550 - val_loss: 0.3057\n",
            "Epoch 55/5000\n",
            "1827/1827 [==============================] - 0s 152us/sample - loss: 0.3579 - val_loss: 0.2978\n",
            "Epoch 56/5000\n",
            "1827/1827 [==============================] - 0s 155us/sample - loss: 0.3634 - val_loss: 0.2987\n",
            "Epoch 57/5000\n",
            "1827/1827 [==============================] - 0s 160us/sample - loss: 0.3616 - val_loss: 0.3432\n",
            "Epoch 58/5000\n",
            "1827/1827 [==============================] - 0s 154us/sample - loss: 0.3694 - val_loss: 0.3203\n",
            "Epoch 59/5000\n",
            "1827/1827 [==============================] - 0s 155us/sample - loss: 0.3619 - val_loss: 0.3078\n",
            "Epoch 60/5000\n",
            "1827/1827 [==============================] - 0s 155us/sample - loss: 0.3614 - val_loss: 0.3160\n",
            "Epoch 61/5000\n",
            "1827/1827 [==============================] - 0s 152us/sample - loss: 0.3598 - val_loss: 0.3109\n",
            "Epoch 62/5000\n",
            "1827/1827 [==============================] - 0s 154us/sample - loss: 0.3619 - val_loss: 0.3140\n",
            "Epoch 63/5000\n",
            "1827/1827 [==============================] - 0s 152us/sample - loss: 0.3520 - val_loss: 0.3236\n",
            "Epoch 64/5000\n",
            "1827/1827 [==============================] - 0s 153us/sample - loss: 0.3684 - val_loss: 0.3074\n",
            "Epoch 65/5000\n",
            "1827/1827 [==============================] - 0s 155us/sample - loss: 0.3528 - val_loss: 0.2957\n",
            "Epoch 66/5000\n",
            "1827/1827 [==============================] - 0s 147us/sample - loss: 0.3417 - val_loss: 0.3051\n",
            "Epoch 67/5000\n",
            "1827/1827 [==============================] - 0s 152us/sample - loss: 0.3594 - val_loss: 0.3141\n",
            "Epoch 68/5000\n",
            "1827/1827 [==============================] - 0s 155us/sample - loss: 0.3384 - val_loss: 0.3089\n",
            "Epoch 69/5000\n",
            "1827/1827 [==============================] - 0s 153us/sample - loss: 0.3507 - val_loss: 0.3130\n",
            "Epoch 70/5000\n",
            "1827/1827 [==============================] - 0s 150us/sample - loss: 0.3449 - val_loss: 0.3094\n",
            "Epoch 71/5000\n",
            "1827/1827 [==============================] - 0s 153us/sample - loss: 0.3552 - val_loss: 0.3010\n",
            "Epoch 72/5000\n",
            "1827/1827 [==============================] - 0s 160us/sample - loss: 0.3411 - val_loss: 0.2828\n",
            "Epoch 73/5000\n",
            "1827/1827 [==============================] - 0s 155us/sample - loss: 0.3179 - val_loss: 0.2993\n",
            "Epoch 74/5000\n",
            "1827/1827 [==============================] - 0s 150us/sample - loss: 0.3229 - val_loss: 0.2933\n",
            "Epoch 75/5000\n",
            "1827/1827 [==============================] - 0s 146us/sample - loss: 0.3322 - val_loss: 0.2958\n",
            "Epoch 76/5000\n",
            "1827/1827 [==============================] - 0s 148us/sample - loss: 0.3434 - val_loss: 0.2911\n",
            "Epoch 77/5000\n",
            "1827/1827 [==============================] - 0s 154us/sample - loss: 0.3239 - val_loss: 0.2680\n",
            "Epoch 78/5000\n",
            "1827/1827 [==============================] - 0s 150us/sample - loss: 0.3246 - val_loss: 0.2809\n",
            "Epoch 79/5000\n",
            "1827/1827 [==============================] - 0s 155us/sample - loss: 0.3327 - val_loss: 0.2756\n",
            "Epoch 80/5000\n",
            "1827/1827 [==============================] - 0s 157us/sample - loss: 0.3294 - val_loss: 0.2687\n",
            "Epoch 81/5000\n",
            "1827/1827 [==============================] - 0s 159us/sample - loss: 0.3102 - val_loss: 0.2704\n",
            "Epoch 82/5000\n",
            "1827/1827 [==============================] - 0s 152us/sample - loss: 0.3024 - val_loss: 0.2722\n",
            "Epoch 83/5000\n",
            "1827/1827 [==============================] - 0s 152us/sample - loss: 0.3013 - val_loss: 0.2712\n",
            "Epoch 84/5000\n",
            "1827/1827 [==============================] - 0s 151us/sample - loss: 0.3088 - val_loss: 0.2860\n",
            "Epoch 85/5000\n",
            "1827/1827 [==============================] - 0s 148us/sample - loss: 0.3014 - val_loss: 0.2775\n",
            "Epoch 86/5000\n",
            "1827/1827 [==============================] - 0s 156us/sample - loss: 0.3082 - val_loss: 0.2783\n",
            "Epoch 87/5000\n",
            "1827/1827 [==============================] - 0s 152us/sample - loss: 0.3032 - val_loss: 0.2800\n",
            "Epoch 88/5000\n",
            "1827/1827 [==============================] - 0s 163us/sample - loss: 0.3065 - val_loss: 0.2734\n",
            "Epoch 89/5000\n",
            "1827/1827 [==============================] - 0s 152us/sample - loss: 0.3197 - val_loss: 0.2993\n",
            "Epoch 90/5000\n",
            "1827/1827 [==============================] - 0s 152us/sample - loss: 0.3207 - val_loss: 0.2955\n",
            "Epoch 91/5000\n",
            "1827/1827 [==============================] - 0s 152us/sample - loss: 0.3086 - val_loss: 0.2959\n",
            "Epoch 92/5000\n",
            "1827/1827 [==============================] - 0s 151us/sample - loss: 0.3105 - val_loss: 0.2851\n",
            "Epoch 93/5000\n",
            "1827/1827 [==============================] - 0s 152us/sample - loss: 0.3032 - val_loss: 0.2975\n",
            "Epoch 94/5000\n",
            "1827/1827 [==============================] - 0s 154us/sample - loss: 0.3266 - val_loss: 0.3163\n",
            "Epoch 95/5000\n",
            "1827/1827 [==============================] - 0s 156us/sample - loss: 0.3197 - val_loss: 0.3208\n",
            "Epoch 96/5000\n",
            "1827/1827 [==============================] - 0s 146us/sample - loss: 0.3262 - val_loss: 0.2986\n",
            "Epoch 97/5000\n",
            "1827/1827 [==============================] - 0s 152us/sample - loss: 0.3141 - val_loss: 0.3315\n",
            "Epoch 98/5000\n",
            "1827/1827 [==============================] - 0s 153us/sample - loss: 0.3021 - val_loss: 0.2792\n",
            "Epoch 99/5000\n",
            "1827/1827 [==============================] - 0s 151us/sample - loss: 0.3139 - val_loss: 0.2771\n",
            "Epoch 100/5000\n",
            "1827/1827 [==============================] - 0s 159us/sample - loss: 0.3100 - val_loss: 0.2749\n",
            "Epoch 101/5000\n",
            "1827/1827 [==============================] - 0s 157us/sample - loss: 0.2976 - val_loss: 0.2757\n",
            "Epoch 102/5000\n",
            "1827/1827 [==============================] - 0s 157us/sample - loss: 0.2888 - val_loss: 0.2850\n",
            "Epoch 103/5000\n",
            "1827/1827 [==============================] - 0s 151us/sample - loss: 0.2846 - val_loss: 0.2906\n",
            "Epoch 104/5000\n",
            "1827/1827 [==============================] - 0s 152us/sample - loss: 0.2922 - val_loss: 0.2742\n",
            "Epoch 105/5000\n",
            "1827/1827 [==============================] - 0s 154us/sample - loss: 0.2943 - val_loss: 0.2710\n",
            "Epoch 106/5000\n",
            "1827/1827 [==============================] - 0s 152us/sample - loss: 0.3002 - val_loss: 0.2629\n",
            "Epoch 107/5000\n",
            "1827/1827 [==============================] - 0s 159us/sample - loss: 0.2850 - val_loss: 0.2645\n",
            "Epoch 108/5000\n",
            "1827/1827 [==============================] - 0s 157us/sample - loss: 0.2878 - val_loss: 0.2645\n",
            "Epoch 109/5000\n",
            "1827/1827 [==============================] - 0s 154us/sample - loss: 0.2827 - val_loss: 0.2701\n",
            "Epoch 110/5000\n",
            "1827/1827 [==============================] - 0s 155us/sample - loss: 0.2835 - val_loss: 0.2608\n",
            "Epoch 111/5000\n",
            "1827/1827 [==============================] - 0s 152us/sample - loss: 0.2949 - val_loss: 0.3027\n",
            "Epoch 112/5000\n",
            "1827/1827 [==============================] - 0s 152us/sample - loss: 0.2927 - val_loss: 0.2763\n",
            "Epoch 113/5000\n",
            "1827/1827 [==============================] - 0s 150us/sample - loss: 0.2873 - val_loss: 0.2957\n",
            "Epoch 114/5000\n",
            "1827/1827 [==============================] - 0s 155us/sample - loss: 0.2897 - val_loss: 0.2664\n",
            "Epoch 115/5000\n",
            "1827/1827 [==============================] - 0s 152us/sample - loss: 0.2798 - val_loss: 0.2710\n",
            "Epoch 116/5000\n",
            "1827/1827 [==============================] - 0s 153us/sample - loss: 0.2788 - val_loss: 0.2623\n",
            "Epoch 117/5000\n",
            "1827/1827 [==============================] - 0s 149us/sample - loss: 0.2676 - val_loss: 0.2678\n",
            "Epoch 118/5000\n",
            "1827/1827 [==============================] - 0s 162us/sample - loss: 0.2761 - val_loss: 0.2525\n",
            "Epoch 119/5000\n",
            "1827/1827 [==============================] - 0s 150us/sample - loss: 0.2775 - val_loss: 0.2598\n",
            "Epoch 120/5000\n",
            "1827/1827 [==============================] - 0s 148us/sample - loss: 0.2831 - val_loss: 0.2482\n",
            "Epoch 121/5000\n",
            "1827/1827 [==============================] - 0s 151us/sample - loss: 0.2681 - val_loss: 0.2444\n",
            "Epoch 122/5000\n",
            "1827/1827 [==============================] - 0s 153us/sample - loss: 0.2693 - val_loss: 0.2428\n",
            "Epoch 123/5000\n",
            "1827/1827 [==============================] - 0s 150us/sample - loss: 0.2690 - val_loss: 0.2518\n",
            "Epoch 124/5000\n",
            "1827/1827 [==============================] - 0s 152us/sample - loss: 0.2691 - val_loss: 0.2558\n",
            "Epoch 125/5000\n",
            "1827/1827 [==============================] - 0s 157us/sample - loss: 0.2627 - val_loss: 0.2595\n",
            "Epoch 126/5000\n",
            "1827/1827 [==============================] - 0s 152us/sample - loss: 0.2600 - val_loss: 0.2486\n",
            "Epoch 127/5000\n",
            "1827/1827 [==============================] - 0s 156us/sample - loss: 0.2490 - val_loss: 0.2407\n",
            "Epoch 128/5000\n",
            "1827/1827 [==============================] - 0s 157us/sample - loss: 0.2583 - val_loss: 0.2404\n",
            "Epoch 129/5000\n",
            "1827/1827 [==============================] - 0s 156us/sample - loss: 0.2611 - val_loss: 0.2495\n",
            "Epoch 130/5000\n",
            "1827/1827 [==============================] - 0s 155us/sample - loss: 0.2627 - val_loss: 0.2428\n",
            "Epoch 131/5000\n",
            "1827/1827 [==============================] - 0s 153us/sample - loss: 0.2566 - val_loss: 0.2430\n",
            "Epoch 132/5000\n",
            "1827/1827 [==============================] - 0s 154us/sample - loss: 0.2565 - val_loss: 0.2559\n",
            "Epoch 133/5000\n",
            "1827/1827 [==============================] - 0s 158us/sample - loss: 0.2505 - val_loss: 0.2423\n",
            "Epoch 134/5000\n",
            "1827/1827 [==============================] - 0s 153us/sample - loss: 0.2477 - val_loss: 0.2494\n",
            "Epoch 135/5000\n",
            "1827/1827 [==============================] - 0s 152us/sample - loss: 0.2499 - val_loss: 0.2327\n",
            "Epoch 136/5000\n",
            "1827/1827 [==============================] - 0s 151us/sample - loss: 0.2481 - val_loss: 0.2784\n",
            "Epoch 137/5000\n",
            "1827/1827 [==============================] - 0s 151us/sample - loss: 0.2604 - val_loss: 0.2659\n",
            "Epoch 138/5000\n",
            "1827/1827 [==============================] - 0s 153us/sample - loss: 0.2571 - val_loss: 0.2762\n",
            "Epoch 139/5000\n",
            "1827/1827 [==============================] - 0s 154us/sample - loss: 0.2598 - val_loss: 0.2691\n",
            "Epoch 140/5000\n",
            "1827/1827 [==============================] - 0s 152us/sample - loss: 0.2513 - val_loss: 0.2676\n",
            "Epoch 141/5000\n",
            "1827/1827 [==============================] - 0s 160us/sample - loss: 0.2510 - val_loss: 0.2354\n",
            "Epoch 142/5000\n",
            "1827/1827 [==============================] - 0s 152us/sample - loss: 0.2482 - val_loss: 0.2509\n",
            "Epoch 143/5000\n",
            "1827/1827 [==============================] - 0s 153us/sample - loss: 0.2440 - val_loss: 0.2207\n",
            "Epoch 144/5000\n",
            "1827/1827 [==============================] - 0s 155us/sample - loss: 0.2430 - val_loss: 0.2559\n",
            "Epoch 145/5000\n",
            "1827/1827 [==============================] - 0s 152us/sample - loss: 0.2466 - val_loss: 0.2403\n",
            "Epoch 146/5000\n",
            "1827/1827 [==============================] - 0s 152us/sample - loss: 0.2446 - val_loss: 0.2489\n",
            "Epoch 147/5000\n",
            "1827/1827 [==============================] - 0s 150us/sample - loss: 0.2668 - val_loss: 0.2553\n",
            "Epoch 148/5000\n",
            "1827/1827 [==============================] - 0s 153us/sample - loss: 0.2554 - val_loss: 0.2399\n",
            "Epoch 149/5000\n",
            "1827/1827 [==============================] - 0s 150us/sample - loss: 0.2541 - val_loss: 0.2420\n",
            "Epoch 150/5000\n",
            "1827/1827 [==============================] - 0s 155us/sample - loss: 0.2766 - val_loss: 0.2582\n",
            "Epoch 151/5000\n",
            "1827/1827 [==============================] - 0s 159us/sample - loss: 0.2632 - val_loss: 0.2487\n",
            "Epoch 152/5000\n",
            "1827/1827 [==============================] - 0s 157us/sample - loss: 0.2564 - val_loss: 0.2605\n",
            "Epoch 153/5000\n",
            "1827/1827 [==============================] - 0s 156us/sample - loss: 0.2519 - val_loss: 0.2814\n",
            "Epoch 154/5000\n",
            "1827/1827 [==============================] - 0s 155us/sample - loss: 0.2516 - val_loss: 0.2348\n",
            "Epoch 155/5000\n",
            "1827/1827 [==============================] - 0s 159us/sample - loss: 0.2465 - val_loss: 0.2488\n",
            "Epoch 156/5000\n",
            "1827/1827 [==============================] - 0s 160us/sample - loss: 0.2598 - val_loss: 0.2368\n",
            "Epoch 157/5000\n",
            "1827/1827 [==============================] - 0s 156us/sample - loss: 0.2409 - val_loss: 0.2321\n",
            "Epoch 158/5000\n",
            "1827/1827 [==============================] - 0s 161us/sample - loss: 0.2341 - val_loss: 0.2216\n",
            "Epoch 159/5000\n",
            "1827/1827 [==============================] - 0s 160us/sample - loss: 0.2272 - val_loss: 0.2412\n",
            "Epoch 160/5000\n",
            "1827/1827 [==============================] - 0s 159us/sample - loss: 0.2351 - val_loss: 0.2494\n",
            "Epoch 161/5000\n",
            "1827/1827 [==============================] - 0s 165us/sample - loss: 0.2445 - val_loss: 0.2535\n",
            "Epoch 162/5000\n",
            "1827/1827 [==============================] - 0s 156us/sample - loss: 0.2361 - val_loss: 0.2709\n",
            "Epoch 163/5000\n",
            "1827/1827 [==============================] - 0s 153us/sample - loss: 0.2321 - val_loss: 0.2607\n",
            "Epoch 164/5000\n",
            "1827/1827 [==============================] - 0s 147us/sample - loss: 0.2328 - val_loss: 0.2534\n",
            "Epoch 165/5000\n",
            "1827/1827 [==============================] - 0s 149us/sample - loss: 0.2398 - val_loss: 0.2673\n",
            "Epoch 166/5000\n",
            "1827/1827 [==============================] - 0s 149us/sample - loss: 0.2378 - val_loss: 0.2660\n",
            "Epoch 167/5000\n",
            "1827/1827 [==============================] - 0s 154us/sample - loss: 0.2255 - val_loss: 0.2373\n",
            "Epoch 168/5000\n",
            "1827/1827 [==============================] - 0s 155us/sample - loss: 0.2326 - val_loss: 0.2550\n",
            "Epoch 169/5000\n",
            "1827/1827 [==============================] - 0s 161us/sample - loss: 0.2329 - val_loss: 0.2382\n",
            "Epoch 170/5000\n",
            "1827/1827 [==============================] - 0s 154us/sample - loss: 0.2223 - val_loss: 0.2264\n",
            "Epoch 171/5000\n",
            "1827/1827 [==============================] - 0s 151us/sample - loss: 0.2253 - val_loss: 0.2347\n",
            "Epoch 172/5000\n",
            "1827/1827 [==============================] - 0s 152us/sample - loss: 0.2232 - val_loss: 0.2254\n",
            "Epoch 173/5000\n",
            "1827/1827 [==============================] - 0s 149us/sample - loss: 0.2173 - val_loss: 0.2228\n",
            "INFO:tensorflow:Copying TPU weights to the CPU\n",
            "WARNING:tensorflow:TensorFlow optimizers do not make it possible to access optimizer attributes or optimizer state after instantiation. As a result, we cannot save the optimizer as part of the model save file.You will have to compile your model again after loading it. Prefer using a Keras optimizer instead (see keras.io/optimizers).\n"
          ],
          "name": "stdout"
        }
      ]
    },
    {
      "metadata": {
        "id": "QZM1QyMojrZy",
        "colab_type": "code",
        "outputId": "6a4c1c12-b6f5-45b3-9797-611ebe0aaf8c",
        "colab": {
          "base_uri": "https://localhost:8080/",
          "height": 295
        }
      },
      "cell_type": "code",
      "source": [
        "plot_loss(history)"
      ],
      "execution_count": 0,
      "outputs": [
        {
          "output_type": "display_data",
          "data": {
            "image/png": "[encoded data removed]",
            "text/plain": [
              "<Figure size 432x288 with 1 Axes>"
            ]
          },
          "metadata": {
            "tags": []
          }
        }
      ]
    },
    {
      "metadata": {
        "colab_type": "text",
        "id": "PXEaYz4OTmjq"
      },
      "cell_type": "markdown",
      "source": [
        "### Predict for Test Set"
      ]
    },
    {
      "metadata": {
        "colab_type": "code",
        "id": "u2DB0NfhTmjr",
        "outputId": "88293b4a-7384-43b9-d7d6-2c8b32087a1e",
        "colab": {
          "base_uri": "https://localhost:8080/",
          "height": 187
        }
      },
      "cell_type": "code",
      "source": [
        "predicted_2 = model_2.predict(x_test_2)"
      ],
      "execution_count": 0,
      "outputs": [
        {
          "output_type": "stream",
          "text": [
            "INFO:tensorflow:New input shapes; (re-)compiling: mode=infer (# of cores 8), [TensorSpec(shape=(4, 30, 16), dtype=tf.float32, name='input_5_10')]\n",
            "INFO:tensorflow:Overriding default placeholder.\n",
            "INFO:tensorflow:Remapping placeholder for input_5\n",
            "INFO:tensorflow:Started compiling\n",
            "INFO:tensorflow:Finished compiling. Time elapsed: 601.1788082122803 secs\n",
            "INFO:tensorflow:New input shapes; (re-)compiling: mode=infer (# of cores 8), [TensorSpec(shape=(1, 30, 16), dtype=tf.float32, name='input_5_10')]\n",
            "INFO:tensorflow:Overriding default placeholder.\n",
            "INFO:tensorflow:Remapping placeholder for input_5\n",
            "INFO:tensorflow:Started compiling\n",
            "INFO:tensorflow:Finished compiling. Time elapsed: 325.9263610839844 secs\n"
          ],
          "name": "stdout"
        }
      ]
    },
    {
      "metadata": {
        "colab_type": "text",
        "id": "Jktws0ngTmju"
      },
      "cell_type": "markdown",
      "source": [
        "### Rescale Data"
      ]
    },
    {
      "metadata": {
        "colab_type": "code",
        "id": "FHRM1txxTmjv",
        "colab": {}
      },
      "cell_type": "code",
      "source": [
        "new_predicted_2 = []\n",
        "\n",
        "for i in range(len(predicted_2)):\n",
        "  temp = np.zeros((x_train_2.shape[2],))\n",
        "  # 3 for closing price\n",
        "  temp[3] = predicted_2[i]\n",
        "  new_predicted_2.append(scalars_2[len(x_train_2)+i].inverse_transform(temp)[3])\n",
        "  \n",
        "predicted_2 = np.array(new_predicted_2)"
      ],
      "execution_count": 0,
      "outputs": []
    },
    {
      "metadata": {
        "colab_type": "text",
        "id": "TDjbTEZwTmjy"
      },
      "cell_type": "markdown",
      "source": [
        "### Plot Predictions"
      ]
    },
    {
      "metadata": {
        "colab_type": "code",
        "id": "FfsuxHjkTmjz",
        "outputId": "cf790a1b-e1e5-4431-806d-df6fb9c62be2",
        "colab": {
          "base_uri": "https://localhost:8080/",
          "height": 779
        }
      },
      "cell_type": "code",
      "source": [
        "plot_results(predicted_2, original_data_2)"
      ],
      "execution_count": 0,
      "outputs": [
        {
          "output_type": "display_data",
          "data": {
            "image/png": "[encoded data removed]",
            "text/plain": [
              "<Figure size 1280x960 with 1 Axes>"
            ]
          },
          "metadata": {
            "tags": []
          }
        }
      ]
    },
    {
      "metadata": {
        "colab_type": "text",
        "id": "DDLmWqRVTmj2"
      },
      "cell_type": "markdown",
      "source": [
        "### Mean Squared Error"
      ]
    },
    {
      "metadata": {
        "colab_type": "code",
        "id": "4oS6XeK_Tmj2",
        "outputId": "84ec3db5-e9a9-4f00-8e66-68650c87c727",
        "colab": {
          "base_uri": "https://localhost:8080/",
          "height": 34
        }
      },
      "cell_type": "code",
      "source": [
        "from sklearn.metrics import mean_squared_error\n",
        "\n",
        "mean_squared_error(predicted_2, original_data_2)"
      ],
      "execution_count": 0,
      "outputs": [
        {
          "output_type": "execute_result",
          "data": {
            "text/plain": [
              "2201.9260853035394"
            ]
          },
          "metadata": {
            "tags": []
          },
          "execution_count": 96
        }
      ]
    },
    {
      "metadata": {
        "colab_type": "text",
        "id": "s02aCTjKTmj4"
      },
      "cell_type": "markdown",
      "source": [
        "### Mean Absolute Percentage Error\n",
        "\n"
      ]
    },
    {
      "metadata": {
        "colab_type": "code",
        "id": "FYE5pNMjTmj4",
        "outputId": "0da591ac-acd7-445f-e014-45b9cce516f7",
        "colab": {
          "base_uri": "https://localhost:8080/",
          "height": 34
        }
      },
      "cell_type": "code",
      "source": [
        "print(np.mean(np.abs((original_data_2 - predicted_2) / original_data_2)) * 100)"
      ],
      "execution_count": 0,
      "outputs": [
        {
          "output_type": "stream",
          "text": [
            "0.6953771998375478\n"
          ],
          "name": "stdout"
        }
      ]
    },
    {
      "metadata": {
        "colab_type": "text",
        "id": "svwXYj6cTmj9"
      },
      "cell_type": "markdown",
      "source": [
        "### Convert to Directional Data"
      ]
    },
    {
      "metadata": {
        "colab_type": "code",
        "id": "sqJ5P6OzTmj9",
        "outputId": "e2f4476e-053f-41f9-c342-b270c43162d1",
        "colab": {
          "base_uri": "https://localhost:8080/",
          "height": 68
        }
      },
      "cell_type": "code",
      "source": [
        "predicted_directions_2 = directional_data(predicted_2, original_data_2)"
      ],
      "execution_count": 0,
      "outputs": [
        {
          "output_type": "stream",
          "text": [
            "No change: 256\n",
            "Up: 114\n",
            "Down: 85\n"
          ],
          "name": "stdout"
        }
      ]
    },
    {
      "metadata": {
        "colab_type": "code",
        "id": "r5hbRYJ3Tmj_",
        "outputId": "01344d7f-332d-4140-9478-ee106e506c6e",
        "colab": {
          "base_uri": "https://localhost:8080/",
          "height": 68
        }
      },
      "cell_type": "code",
      "source": [
        "actual_directions_2 = directional_data(original_data_2, original_data_2)"
      ],
      "execution_count": 0,
      "outputs": [
        {
          "output_type": "stream",
          "text": [
            "No change: 248\n",
            "Up: 124\n",
            "Down: 83\n"
          ],
          "name": "stdout"
        }
      ]
    },
    {
      "metadata": {
        "colab_type": "text",
        "id": "bDhV3nWqTmkA"
      },
      "cell_type": "markdown",
      "source": [
        "### Plot Confusion Matrix"
      ]
    },
    {
      "metadata": {
        "colab_type": "code",
        "id": "xGiVH8nSTmkA",
        "colab": {}
      },
      "cell_type": "code",
      "source": [
        "classes = [\"Down\", \"No Change\", \"Up\"]\n",
        "classes = np.array(classes)\n",
        "\n",
        "indices = predicted_directions_2.argmax(axis=1)\n",
        "predicted_classes_2 = classes[indices]\n",
        "\n",
        "indices = actual_directions_2.argmax(axis=1)\n",
        "y_true_2 = classes[indices]"
      ],
      "execution_count": 0,
      "outputs": []
    },
    {
      "metadata": {
        "colab_type": "text",
        "id": "yNRXzZPJTmkE"
      },
      "cell_type": "markdown",
      "source": [
        "By Count"
      ]
    },
    {
      "metadata": {
        "colab_type": "code",
        "id": "0H6t8Pc-TmkE",
        "outputId": "b5334872-ec59-417e-d1f2-eb92e4ba2951",
        "colab": {
          "base_uri": "https://localhost:8080/",
          "height": 734
        }
      },
      "cell_type": "code",
      "source": [
        "plot_confusion_matrix(y_true_2, predicted_classes_2, normalize=False)"
      ],
      "execution_count": 0,
      "outputs": [
        {
          "output_type": "stream",
          "text": [
            "Confusion matrix, without normalization\n",
            "[[ 15  44  24]\n",
            " [ 50 149  49]\n",
            " [ 20  63  41]]\n"
          ],
          "name": "stdout"
        },
        {
          "output_type": "execute_result",
          "data": {
            "text/plain": [
              "<matplotlib.axes._subplots.AxesSubplot at 0x7f1e9439d160>"
            ]
          },
          "metadata": {
            "tags": []
          },
          "execution_count": 101
        },
        {
          "output_type": "display_data",
          "data": {
            "image/png": "[encoded data removed]",
            "text/plain": [
              "<Figure size 960x640 with 2 Axes>"
            ]
          },
          "metadata": {
            "tags": []
          }
        }
      ]
    },
    {
      "metadata": {
        "colab_type": "text",
        "id": "3s7Q4dlyTmkG"
      },
      "cell_type": "markdown",
      "source": [
        "Normalized"
      ]
    },
    {
      "metadata": {
        "colab_type": "code",
        "id": "DQieKY0_TmkH",
        "outputId": "be17e70e-c2ce-4679-b4b3-21b7891bf588",
        "colab": {
          "base_uri": "https://localhost:8080/",
          "height": 734
        }
      },
      "cell_type": "code",
      "source": [
        "plot_confusion_matrix(y_true_2, predicted_classes_2, normalize=True)"
      ],
      "execution_count": 0,
      "outputs": [
        {
          "output_type": "stream",
          "text": [
            "Normalized confusion matrix\n",
            "[[0.18072289 0.53012048 0.28915663]\n",
            " [0.2016129  0.60080645 0.19758065]\n",
            " [0.16129032 0.50806452 0.33064516]]\n"
          ],
          "name": "stdout"
        },
        {
          "output_type": "execute_result",
          "data": {
            "text/plain": [
              "<matplotlib.axes._subplots.AxesSubplot at 0x7f1e943160f0>"
            ]
          },
          "metadata": {
            "tags": []
          },
          "execution_count": 102
        },
        {
          "output_type": "display_data",
          "data": {
            "image/png": "[encoded data removed]",
            "text/plain": [
              "<Figure size 960x640 with 2 Axes>"
            ]
          },
          "metadata": {
            "tags": []
          }
        }
      ]
    },
    {
      "metadata": {
        "colab_type": "text",
        "id": "4_Zi7OkNTmkK"
      },
      "cell_type": "markdown",
      "source": [
        "### Mean Categorical Accuracy"
      ]
    },
    {
      "metadata": {
        "colab_type": "code",
        "id": "nAIyUbs0TmkL",
        "outputId": "6ce8b6f7-f995-47d6-e456-26ab02207f1a",
        "colab": {
          "base_uri": "https://localhost:8080/",
          "height": 34
        }
      },
      "cell_type": "code",
      "source": [
        "from sklearn.metrics import accuracy_score\n",
        "\n",
        "accuracy_score(y_true_2, predicted_classes_2)"
      ],
      "execution_count": 0,
      "outputs": [
        {
          "output_type": "execute_result",
          "data": {
            "text/plain": [
              "0.45054945054945056"
            ]
          },
          "metadata": {
            "tags": []
          },
          "execution_count": 103
        }
      ]
    },
    {
      "metadata": {
        "colab_type": "text",
        "id": "N3xPSsOrTmkN"
      },
      "cell_type": "markdown",
      "source": [
        "### Export to CSV"
      ]
    },
    {
      "metadata": {
        "colab_type": "code",
        "id": "wk26Fr0oTmkP",
        "colab": {}
      },
      "cell_type": "code",
      "source": [
        "y_true_2 = np.insert(y_true_2, 0, 0)\n",
        "predicted_classes_2 = np.insert(predicted_classes_2, 0, 0)"
      ],
      "execution_count": 0,
      "outputs": []
    },
    {
      "metadata": {
        "colab_type": "code",
        "id": "FLIEvlCKTmkQ",
        "colab": {}
      },
      "cell_type": "code",
      "source": [
        "columns = ['Date', 'True Closing Values', 'Predicted Closing Values', 'True Values', 'Predicted Values']\n",
        "data = np.array([dates_2, original_data_2, predicted_2, y_true_2, predicted_classes_2]).T"
      ],
      "execution_count": 0,
      "outputs": []
    },
    {
      "metadata": {
        "colab_type": "code",
        "id": "A66ZQWi2TmkR",
        "colab": {}
      },
      "cell_type": "code",
      "source": [
        "csv = pd.DataFrame(data, columns=columns)\n",
        "\n",
        "csv.to_csv('bi_lstm_second_half.csv', index=False)"
      ],
      "execution_count": 0,
      "outputs": []
    },
    {
      "metadata": {
        "id": "ihdCUNyETqiT",
        "colab_type": "text"
      },
      "cell_type": "markdown",
      "source": [
        "## Download Files"
      ]
    },
    {
      "metadata": {
        "colab_type": "code",
        "id": "BIphVJHWa04w",
        "colab": {}
      },
      "cell_type": "code",
      "source": [
        "from google.colab import files\n",
        "\n",
        "files.download('bi_lstm_second_half.csv')\n",
        "\n",
        "files.download('bi_lstm_second_half.h5')"
      ],
      "execution_count": 0,
      "outputs": []
    },
    {
      "metadata": {
        "id": "8kPBnfi8VLh1",
        "colab_type": "text"
      },
      "cell_type": "markdown",
      "source": [
        "## Results"
      ]
    },
    {
      "metadata": {
        "id": "zkXp8ALkVmOc",
        "colab_type": "code",
        "colab": {}
      },
      "cell_type": "code",
      "source": [
        "predicted_all = np.concatenate((predicted, predicted_2))\n",
        "\n",
        "original_data_all = np.concatenate((original_data, original_data_2))\n",
        "\n",
        "predicted_directions_all = np.concatenate((predicted_directions, predicted_directions_2))\n",
        "\n",
        "actual_directions_all = np.concatenate((actual_directions, actual_directions_2))"
      ],
      "execution_count": 0,
      "outputs": []
    },
    {
      "metadata": {
        "colab_type": "text",
        "id": "HrsdNCfCViab"
      },
      "cell_type": "markdown",
      "source": [
        "### Mean Squared Error"
      ]
    },
    {
      "metadata": {
        "colab_type": "code",
        "id": "iBUUKwnKViab",
        "outputId": "47c59cf0-8c84-49b1-b6e8-81f7f41bfe39",
        "colab": {
          "base_uri": "https://localhost:8080/",
          "height": 34
        }
      },
      "cell_type": "code",
      "source": [
        "from sklearn.metrics import mean_squared_error\n",
        "\n",
        "mean_squared_error(predicted_all, original_data_all)"
      ],
      "execution_count": 0,
      "outputs": [
        {
          "output_type": "execute_result",
          "data": {
            "text/plain": [
              "2297.077087728987"
            ]
          },
          "metadata": {
            "tags": []
          },
          "execution_count": 109
        }
      ]
    },
    {
      "metadata": {
        "colab_type": "text",
        "id": "n_wb5Q2CViad"
      },
      "cell_type": "markdown",
      "source": [
        "### Mean Absolute Percentage Error\n",
        "\n"
      ]
    },
    {
      "metadata": {
        "colab_type": "code",
        "id": "i5dEMkPeViad",
        "outputId": "d52f010e-b00f-4e27-be92-1efaaeb4edae",
        "colab": {
          "base_uri": "https://localhost:8080/",
          "height": 34
        }
      },
      "cell_type": "code",
      "source": [
        "print(np.mean(np.abs((original_data_all - predicted_all) / original_data_all)) * 100)"
      ],
      "execution_count": 0,
      "outputs": [
        {
          "output_type": "stream",
          "text": [
            "1.3923439783594813\n"
          ],
          "name": "stdout"
        }
      ]
    },
    {
      "metadata": {
        "colab_type": "text",
        "id": "uFnDMWw0Viaq"
      },
      "cell_type": "markdown",
      "source": [
        "### Plot Confusion Matrix"
      ]
    },
    {
      "metadata": {
        "colab_type": "code",
        "id": "-6UzB3w-Viaq",
        "colab": {}
      },
      "cell_type": "code",
      "source": [
        "classes = [\"Down\", \"No Change\", \"Up\"]\n",
        "classes = np.array(classes)\n",
        "\n",
        "indices = predicted_directions_all.argmax(axis=1)\n",
        "predicted_classes_all = classes[indices]\n",
        "\n",
        "indices = actual_directions_all.argmax(axis=1)\n",
        "y_true_all = classes[indices]"
      ],
      "execution_count": 0,
      "outputs": []
    },
    {
      "metadata": {
        "colab_type": "text",
        "id": "DGOilOeBVias"
      },
      "cell_type": "markdown",
      "source": [
        "By Count"
      ]
    },
    {
      "metadata": {
        "colab_type": "code",
        "id": "CpWU1d_SVias",
        "outputId": "04d5a4a3-8c0c-46ab-d782-471c59c460fa",
        "colab": {
          "base_uri": "https://localhost:8080/",
          "height": 734
        }
      },
      "cell_type": "code",
      "source": [
        "plot_confusion_matrix(y_true_all, predicted_classes_all, normalize=False)"
      ],
      "execution_count": 0,
      "outputs": [
        {
          "output_type": "stream",
          "text": [
            "Confusion matrix, without normalization\n",
            "[[ 94  73  79]\n",
            " [114 176  84]\n",
            " [ 93  91 106]]\n"
          ],
          "name": "stdout"
        },
        {
          "output_type": "execute_result",
          "data": {
            "text/plain": [
              "<matplotlib.axes._subplots.AxesSubplot at 0x7f1eadc45908>"
            ]
          },
          "metadata": {
            "tags": []
          },
          "execution_count": 112
        },
        {
          "output_type": "display_data",
          "data": {
            "image/png": "[encoded data removed]",
            "text/plain": [
              "<Figure size 960x640 with 2 Axes>"
            ]
          },
          "metadata": {
            "tags": []
          }
        }
      ]
    },
    {
      "metadata": {
        "colab_type": "text",
        "id": "klgUEJQZViat"
      },
      "cell_type": "markdown",
      "source": [
        "Normalized"
      ]
    },
    {
      "metadata": {
        "colab_type": "code",
        "id": "v_G_6a2aViau",
        "outputId": "7eb2c091-1697-4d21-fcc4-cd2d6a06316a",
        "colab": {
          "base_uri": "https://localhost:8080/",
          "height": 734
        }
      },
      "cell_type": "code",
      "source": [
        "plot_confusion_matrix(y_true_all, predicted_classes_all, normalize=True)"
      ],
      "execution_count": 0,
      "outputs": [
        {
          "output_type": "stream",
          "text": [
            "Normalized confusion matrix\n",
            "[[0.38211382 0.29674797 0.32113821]\n",
            " [0.30481283 0.47058824 0.22459893]\n",
            " [0.32068966 0.3137931  0.36551724]]\n"
          ],
          "name": "stdout"
        },
        {
          "output_type": "execute_result",
          "data": {
            "text/plain": [
              "<matplotlib.axes._subplots.AxesSubplot at 0x7f1e941e2630>"
            ]
          },
          "metadata": {
            "tags": []
          },
          "execution_count": 113
        },
        {
          "output_type": "display_data",
          "data": {
            "image/png": "[encoded data removed]",
            "text/plain": [
              "<Figure size 960x640 with 2 Axes>"
            ]
          },
          "metadata": {
            "tags": []
          }
        }
      ]
    },
    {
      "metadata": {
        "colab_type": "text",
        "id": "muAzaiXmViax"
      },
      "cell_type": "markdown",
      "source": [
        "### Mean Categorical Accuracy"
      ]
    },
    {
      "metadata": {
        "colab_type": "code",
        "id": "WanjzjZXViax",
        "outputId": "ffd533d3-7f59-4c77-cc49-3c8e1099dbee",
        "colab": {
          "base_uri": "https://localhost:8080/",
          "height": 34
        }
      },
      "cell_type": "code",
      "source": [
        "from sklearn.metrics import accuracy_score\n",
        "\n",
        "accuracy_score(y_true_all, predicted_classes_all)"
      ],
      "execution_count": 0,
      "outputs": [
        {
          "output_type": "execute_result",
          "data": {
            "text/plain": [
              "0.41318681318681316"
            ]
          },
          "metadata": {
            "tags": []
          },
          "execution_count": 114
        }
      ]
    },
    {
      "metadata": {
        "colab_type": "code",
        "id": "9OTuC5ILa04y",
        "colab": {}
      },
      "cell_type": "code",
      "source": [
        ""
      ],
      "execution_count": 0,
      "outputs": []
    },
    {
      "metadata": {
        "id": "6tBAKtOZ3all",
        "colab_type": "code",
        "colab": {}
      },
      "cell_type": "code",
      "source": [
        ""
      ],
      "execution_count": 0,
      "outputs": []
    }
  ]
}