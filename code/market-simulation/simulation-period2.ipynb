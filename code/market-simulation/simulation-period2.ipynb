{
 "cells": [
  {
   "cell_type": "code",
   "execution_count": 3,
   "metadata": {},
   "outputs": [],
   "source": [
    "import datetime\n",
    "import numpy as np\n",
    "import pandas as pd\n",
    "import matplotlib.pyplot as plt"
   ]
  },
  {
   "cell_type": "code",
   "execution_count": 1,
   "metadata": {},
   "outputs": [],
   "source": [
    "def preprocess(data):\n",
    "    if 'label' in data.columns:\n",
    "        temp = data[['Date', 'Open', 'Close', 'label']].copy()\n",
    "    else:\n",
    "        temp = data[['Date', 'Open', 'Close']].copy()\n",
    "    temp['Norm_return'] = temp['Close'] / temp.iloc[0]['Close']\n",
    "    temp['Allocation'] = temp['Norm_return'] * 1\n",
    "    temp['Position'] = temp['Allocation'] * 1000 #Assume portfolio size is 10K\n",
    "    temp['Daily_return'] = temp['Position'].pct_change(1)\n",
    "    return temp\n",
    "\n",
    "#If tomorrow is increasing, buy today and sell tomorrow immediately\n",
    "def strategy1(data):\n",
    "    new_rows = list()\n",
    "    for i, row in data.iterrows():\n",
    "        if(row['Predicted Values'] == 1):\n",
    "            new_rows.append(row['Daily Return'])\n",
    "        else:\n",
    "            new_rows.append(None)\n",
    "    new_rows_np = np.array(new_rows, dtype=np.float)\n",
    "    return new_rows, new_rows_np\n",
    "\n",
    "#If tomorrow is increasing, buy today and keep stock until price decreases\n",
    "def strategy2(data):\n",
    "    buy = False\n",
    "    new_rows = list()\n",
    "    for i, row in data.iterrows():\n",
    "        if(row['Predicted Values'] == 1 and buy == False):\n",
    "            buy = True\n",
    "            new_rows.append(None)\n",
    "        elif(buy == True and row['Predicted Values'] == -1):\n",
    "            buy = False\n",
    "            new_rows.append(None)\n",
    "        elif(buy == True):\n",
    "            new_rows.append(row['Daily Return'])\n",
    "        else:\n",
    "            new_rows.append(None)\n",
    "    new_rows_np = np.array(new_rows, dtype=np.float)\n",
    "    return new_rows, new_rows_np\n",
    "\n",
    "def trendStrategy(data):\n",
    "    buy = False\n",
    "    new_rows = list()\n",
    "    for i, row in data.iterrows():\n",
    "        if(row['FGS'] != 0 and buy == False):\n",
    "            buy = True\n",
    "            new_rows.append(None)\n",
    "        elif(buy == True and row['FGS'] == 0):\n",
    "            buy = False\n",
    "            new_rows.append(None)\n",
    "        elif(buy == True):\n",
    "            new_rows.append(row['Daily_return'])\n",
    "        else:\n",
    "            new_rows.append(None)\n",
    "    new_rows_np = np.array(new_rows, dtype=np.float)\n",
    "    return new_rows, new_rows_np\n",
    "\n",
    "#Run strategies above first to get np data\n",
    "def getSharpeRatio(np_data):\n",
    "    #Assume Risk free ratio is 0\n",
    "    sharpeRatio = (np.nanmean(np_data) - 0)/np.nanstd(np_data)\n",
    "    return sharpeRatio\n"
   ]
  },
  {
   "cell_type": "code",
   "execution_count": 4,
   "metadata": {},
   "outputs": [],
   "source": [
    "nq = pd.read_csv('@NQ_Daily.txt', sep=',')"
   ]
  },
  {
   "cell_type": "code",
   "execution_count": 4,
   "metadata": {},
   "outputs": [],
   "source": [
    "## 1st period: 01/10/2007 - 11/03/2008 -> Decreasing close price\n",
    "# nq_1 = nq[1851:2314]\n",
    "# nq_1 = preprocess(nq_1)\n",
    "# nq_1_temp = nq[1856:2312]\n",
    "# nq_1_temp.head()"
   ]
  },
  {
   "cell_type": "code",
   "execution_count": 48,
   "metadata": {},
   "outputs": [],
   "source": [
    "## 2nd period: 03/04/2016 - 01/03/2018 -> Increasing close price\n",
    "nq_2 = nq[4171:4623]\n",
    "nq_2_temp = nq[4171:4624]\n",
    "nq_2_new = nq[4170:4622]\n",
    "nq_2_new = preprocess(nq_2_new)\n",
    "nq_2 = preprocess(nq_2)\n",
    "nq_2_temp = preprocess(nq_2_temp)\n",
    "nq_2.tail()\n",
    "nq_2_test = [nq_2_new, nq['FGS'][4170:4622]]\n",
    "nq_2_test = pd.concat(nq_2_test, axis=1)"
   ]
  },
  {
   "cell_type": "code",
   "execution_count": 50,
   "metadata": {},
   "outputs": [
    {
     "data": {
      "text/plain": [
       "452"
      ]
     },
     "execution_count": 50,
     "metadata": {},
     "output_type": "execute_result"
    }
   ],
   "source": [
    "len(nq_2_test)"
   ]
  },
  {
   "cell_type": "markdown",
   "metadata": {},
   "source": [
    "# Period 1\n",
    "## Buy and Hold Sharpe Ratio"
   ]
  },
  {
   "cell_type": "code",
   "execution_count": 51,
   "metadata": {},
   "outputs": [],
   "source": [
    "buyandholdRows = list()\n",
    "for i, row in nq_2.iterrows():\n",
    "        buyandholdRows.append(row['Daily_return'])"
   ]
  },
  {
   "cell_type": "code",
   "execution_count": 52,
   "metadata": {},
   "outputs": [
    {
     "data": {
      "text/plain": [
       "0.12168870111674589"
      ]
     },
     "execution_count": 52,
     "metadata": {},
     "output_type": "execute_result"
    }
   ],
   "source": [
    "buyandholdRows_np = np.array(buyandholdRows, dtype=np.float)\n",
    "buyandhold_sharpe = np.nanmean(buyandholdRows_np)/np.nanstd(buyandholdRows_np)\n",
    "buyandhold_sharpe"
   ]
  },
  {
   "cell_type": "markdown",
   "metadata": {},
   "source": [
    "## Trend Strategy Sharpe Ratio"
   ]
  },
  {
   "cell_type": "code",
   "execution_count": 53,
   "metadata": {},
   "outputs": [
    {
     "name": "stdout",
     "output_type": "stream",
     "text": [
      "Sharpe Ratio for Trend Strategy is :  0.09376053405584385\n"
     ]
    }
   ],
   "source": [
    "trendRows, trendRows_np = trendStrategy(nq_2_test)\n",
    "\n",
    "\n",
    "print(\"Sharpe Ratio for Trend Strategy is : \", getSharpeRatio(trendRows_np))"
   ]
  },
  {
   "cell_type": "code",
   "execution_count": null,
   "metadata": {},
   "outputs": [],
   "source": []
  },
  {
   "cell_type": "markdown",
   "metadata": {},
   "source": [
    "## Bi-Directional LSTM Sharpe Ratio\n",
    "### Preparation"
   ]
  },
  {
   "cell_type": "code",
   "execution_count": 54,
   "metadata": {},
   "outputs": [
    {
     "data": {
      "text/html": [
       "<div>\n",
       "<style scoped>\n",
       "    .dataframe tbody tr th:only-of-type {\n",
       "        vertical-align: middle;\n",
       "    }\n",
       "\n",
       "    .dataframe tbody tr th {\n",
       "        vertical-align: top;\n",
       "    }\n",
       "\n",
       "    .dataframe thead th {\n",
       "        text-align: right;\n",
       "    }\n",
       "</style>\n",
       "<table border=\"1\" class=\"dataframe\">\n",
       "  <thead>\n",
       "    <tr style=\"text-align: right;\">\n",
       "      <th></th>\n",
       "      <th>Date</th>\n",
       "      <th>True Closing Values</th>\n",
       "      <th>Predicted Closing Values</th>\n",
       "      <th>True Values</th>\n",
       "      <th>Predicted Values</th>\n",
       "    </tr>\n",
       "  </thead>\n",
       "  <tbody>\n",
       "    <tr>\n",
       "      <th>447</th>\n",
       "      <td>12/19/2017</td>\n",
       "      <td>6500.75</td>\n",
       "      <td>6540.357852</td>\n",
       "      <td>Down</td>\n",
       "      <td>No Change</td>\n",
       "    </tr>\n",
       "    <tr>\n",
       "      <th>448</th>\n",
       "      <td>12/20/2017</td>\n",
       "      <td>6489.00</td>\n",
       "      <td>6530.224840</td>\n",
       "      <td>No Change</td>\n",
       "      <td>Up</td>\n",
       "    </tr>\n",
       "    <tr>\n",
       "      <th>449</th>\n",
       "      <td>12/21/2017</td>\n",
       "      <td>6492.25</td>\n",
       "      <td>6509.838271</td>\n",
       "      <td>No Change</td>\n",
       "      <td>No Change</td>\n",
       "    </tr>\n",
       "    <tr>\n",
       "      <th>450</th>\n",
       "      <td>12/22/2017</td>\n",
       "      <td>6483.75</td>\n",
       "      <td>6490.701045</td>\n",
       "      <td>No Change</td>\n",
       "      <td>No Change</td>\n",
       "    </tr>\n",
       "    <tr>\n",
       "      <th>451</th>\n",
       "      <td>12/26/2017</td>\n",
       "      <td>6460.00</td>\n",
       "      <td>6465.707148</td>\n",
       "      <td>No Change</td>\n",
       "      <td>No Change</td>\n",
       "    </tr>\n",
       "  </tbody>\n",
       "</table>\n",
       "</div>"
      ],
      "text/plain": [
       "           Date  True Closing Values  Predicted Closing Values True Values  \\\n",
       "447  12/19/2017              6500.75               6540.357852        Down   \n",
       "448  12/20/2017              6489.00               6530.224840   No Change   \n",
       "449  12/21/2017              6492.25               6509.838271   No Change   \n",
       "450  12/22/2017              6483.75               6490.701045   No Change   \n",
       "451  12/26/2017              6460.00               6465.707148   No Change   \n",
       "\n",
       "    Predicted Values  \n",
       "447        No Change  \n",
       "448               Up  \n",
       "449        No Change  \n",
       "450        No Change  \n",
       "451        No Change  "
      ]
     },
     "execution_count": 54,
     "metadata": {},
     "output_type": "execute_result"
    }
   ],
   "source": [
    "lstm_prediction = pd.read_csv('data/bi_lstm_second_half.csv')\n",
    "lstm_prediction = lstm_prediction[:-4]\n",
    "lstm_prediction.tail()"
   ]
  },
  {
   "cell_type": "code",
   "execution_count": 55,
   "metadata": {},
   "outputs": [],
   "source": [
    "##Change to 1, 0, -1 (Up, Down, No change)\n",
    "lstm_prediction['True Values'] = lstm_prediction['True Values'].map({'No Change': 0, 'Down': -1, 'Up': 1})\n",
    "lstm_prediction['Predicted Values'] = lstm_prediction['Predicted Values'].map({'No Change': 0, 'Down': -1, 'Up': 1})"
   ]
  },
  {
   "cell_type": "code",
   "execution_count": 56,
   "metadata": {},
   "outputs": [
    {
     "data": {
      "text/html": [
       "<div>\n",
       "<style scoped>\n",
       "    .dataframe tbody tr th:only-of-type {\n",
       "        vertical-align: middle;\n",
       "    }\n",
       "\n",
       "    .dataframe tbody tr th {\n",
       "        vertical-align: top;\n",
       "    }\n",
       "\n",
       "    .dataframe thead th {\n",
       "        text-align: right;\n",
       "    }\n",
       "</style>\n",
       "<table border=\"1\" class=\"dataframe\">\n",
       "  <thead>\n",
       "    <tr style=\"text-align: right;\">\n",
       "      <th></th>\n",
       "      <th>Date</th>\n",
       "      <th>True Closing Values</th>\n",
       "      <th>Predicted Closing Values</th>\n",
       "      <th>True Values</th>\n",
       "      <th>Predicted Values</th>\n",
       "    </tr>\n",
       "  </thead>\n",
       "  <tbody>\n",
       "    <tr>\n",
       "      <th>4171</th>\n",
       "      <td>03/14/2016</td>\n",
       "      <td>4381.50</td>\n",
       "      <td>4374.948820</td>\n",
       "      <td>NaN</td>\n",
       "      <td>NaN</td>\n",
       "    </tr>\n",
       "    <tr>\n",
       "      <th>4172</th>\n",
       "      <td>03/15/2016</td>\n",
       "      <td>4380.00</td>\n",
       "      <td>4374.566875</td>\n",
       "      <td>0.0</td>\n",
       "      <td>0.0</td>\n",
       "    </tr>\n",
       "    <tr>\n",
       "      <th>4173</th>\n",
       "      <td>03/16/2016</td>\n",
       "      <td>4412.00</td>\n",
       "      <td>4357.843038</td>\n",
       "      <td>1.0</td>\n",
       "      <td>-1.0</td>\n",
       "    </tr>\n",
       "    <tr>\n",
       "      <th>4174</th>\n",
       "      <td>03/17/2016</td>\n",
       "      <td>4416.75</td>\n",
       "      <td>4370.112240</td>\n",
       "      <td>0.0</td>\n",
       "      <td>-1.0</td>\n",
       "    </tr>\n",
       "    <tr>\n",
       "      <th>4175</th>\n",
       "      <td>03/18/2016</td>\n",
       "      <td>4418.50</td>\n",
       "      <td>4439.349702</td>\n",
       "      <td>0.0</td>\n",
       "      <td>1.0</td>\n",
       "    </tr>\n",
       "  </tbody>\n",
       "</table>\n",
       "</div>"
      ],
      "text/plain": [
       "            Date  True Closing Values  Predicted Closing Values  True Values  \\\n",
       "4171  03/14/2016              4381.50               4374.948820          NaN   \n",
       "4172  03/15/2016              4380.00               4374.566875          0.0   \n",
       "4173  03/16/2016              4412.00               4357.843038          1.0   \n",
       "4174  03/17/2016              4416.75               4370.112240          0.0   \n",
       "4175  03/18/2016              4418.50               4439.349702          0.0   \n",
       "\n",
       "      Predicted Values  \n",
       "4171               NaN  \n",
       "4172               0.0  \n",
       "4173              -1.0  \n",
       "4174              -1.0  \n",
       "4175               1.0  "
      ]
     },
     "execution_count": 56,
     "metadata": {},
     "output_type": "execute_result"
    }
   ],
   "source": [
    "lstm_prediction = lstm_prediction.set_index(nq_2.index)\n",
    "lstm_prediction['Date'] = nq_2.iloc[:,0].values\n",
    "lstm_prediction.head()"
   ]
  },
  {
   "cell_type": "code",
   "execution_count": 57,
   "metadata": {},
   "outputs": [
    {
     "data": {
      "text/html": [
       "<div>\n",
       "<style scoped>\n",
       "    .dataframe tbody tr th:only-of-type {\n",
       "        vertical-align: middle;\n",
       "    }\n",
       "\n",
       "    .dataframe tbody tr th {\n",
       "        vertical-align: top;\n",
       "    }\n",
       "\n",
       "    .dataframe thead th {\n",
       "        text-align: right;\n",
       "    }\n",
       "</style>\n",
       "<table border=\"1\" class=\"dataframe\">\n",
       "  <thead>\n",
       "    <tr style=\"text-align: right;\">\n",
       "      <th></th>\n",
       "      <th>Date</th>\n",
       "      <th>True Closing Values</th>\n",
       "      <th>Predicted Closing Values</th>\n",
       "      <th>True Values</th>\n",
       "      <th>Predicted Values</th>\n",
       "      <th>Daily Return</th>\n",
       "    </tr>\n",
       "  </thead>\n",
       "  <tbody>\n",
       "    <tr>\n",
       "      <th>4171</th>\n",
       "      <td>03/14/2016</td>\n",
       "      <td>4381.50</td>\n",
       "      <td>4374.948820</td>\n",
       "      <td>NaN</td>\n",
       "      <td>NaN</td>\n",
       "      <td>NaN</td>\n",
       "    </tr>\n",
       "    <tr>\n",
       "      <th>4172</th>\n",
       "      <td>03/15/2016</td>\n",
       "      <td>4380.00</td>\n",
       "      <td>4374.566875</td>\n",
       "      <td>0.0</td>\n",
       "      <td>0.0</td>\n",
       "      <td>-0.000342</td>\n",
       "    </tr>\n",
       "    <tr>\n",
       "      <th>4173</th>\n",
       "      <td>03/16/2016</td>\n",
       "      <td>4412.00</td>\n",
       "      <td>4357.843038</td>\n",
       "      <td>1.0</td>\n",
       "      <td>-1.0</td>\n",
       "      <td>0.007306</td>\n",
       "    </tr>\n",
       "    <tr>\n",
       "      <th>4174</th>\n",
       "      <td>03/17/2016</td>\n",
       "      <td>4416.75</td>\n",
       "      <td>4370.112240</td>\n",
       "      <td>0.0</td>\n",
       "      <td>-1.0</td>\n",
       "      <td>0.001077</td>\n",
       "    </tr>\n",
       "    <tr>\n",
       "      <th>4175</th>\n",
       "      <td>03/18/2016</td>\n",
       "      <td>4418.50</td>\n",
       "      <td>4439.349702</td>\n",
       "      <td>0.0</td>\n",
       "      <td>1.0</td>\n",
       "      <td>0.000396</td>\n",
       "    </tr>\n",
       "  </tbody>\n",
       "</table>\n",
       "</div>"
      ],
      "text/plain": [
       "            Date  True Closing Values  Predicted Closing Values  True Values  \\\n",
       "4171  03/14/2016              4381.50               4374.948820          NaN   \n",
       "4172  03/15/2016              4380.00               4374.566875          0.0   \n",
       "4173  03/16/2016              4412.00               4357.843038          1.0   \n",
       "4174  03/17/2016              4416.75               4370.112240          0.0   \n",
       "4175  03/18/2016              4418.50               4439.349702          0.0   \n",
       "\n",
       "      Predicted Values  Daily Return  \n",
       "4171               NaN           NaN  \n",
       "4172               0.0     -0.000342  \n",
       "4173              -1.0      0.007306  \n",
       "4174              -1.0      0.001077  \n",
       "4175               1.0      0.000396  "
      ]
     },
     "execution_count": 57,
     "metadata": {},
     "output_type": "execute_result"
    }
   ],
   "source": [
    "lstm_prediction[\"Daily Return\"] = nq_2['Daily_return']\n",
    "lstm_prediction.head()"
   ]
  },
  {
   "cell_type": "markdown",
   "metadata": {},
   "source": [
    "### Strategy 1"
   ]
  },
  {
   "cell_type": "code",
   "execution_count": 58,
   "metadata": {},
   "outputs": [],
   "source": [
    "lstm_rows_1, lstm_np_1 = strategy1(lstm_prediction)"
   ]
  },
  {
   "cell_type": "code",
   "execution_count": 59,
   "metadata": {},
   "outputs": [
    {
     "name": "stdout",
     "output_type": "stream",
     "text": [
      "Sharpe Ratio for Bi-Directional LSTM using strategy 1 is:  0.23209211072945726\n"
     ]
    }
   ],
   "source": [
    "print(\"Sharpe Ratio for Bi-Directional LSTM using strategy 1 is: \", getSharpeRatio(lstm_np_1))"
   ]
  },
  {
   "cell_type": "markdown",
   "metadata": {},
   "source": [
    "### Strategy 2"
   ]
  },
  {
   "cell_type": "code",
   "execution_count": 60,
   "metadata": {},
   "outputs": [],
   "source": [
    "lstm_rows_2, lstm_np_2 = strategy2(lstm_prediction)"
   ]
  },
  {
   "cell_type": "code",
   "execution_count": 61,
   "metadata": {},
   "outputs": [
    {
     "name": "stdout",
     "output_type": "stream",
     "text": [
      "Sharpe Ratio for Bi-Directional LSTM using strategy 2 is:  0.0947375527705677\n"
     ]
    }
   ],
   "source": [
    "print(\"Sharpe Ratio for Bi-Directional LSTM using strategy 2 is: \", getSharpeRatio(lstm_np_2))"
   ]
  },
  {
   "cell_type": "markdown",
   "metadata": {},
   "source": [
    "## CNN Sharpe Ratio"
   ]
  },
  {
   "cell_type": "code",
   "execution_count": 62,
   "metadata": {},
   "outputs": [
    {
     "data": {
      "text/html": [
       "<div>\n",
       "<style scoped>\n",
       "    .dataframe tbody tr th:only-of-type {\n",
       "        vertical-align: middle;\n",
       "    }\n",
       "\n",
       "    .dataframe tbody tr th {\n",
       "        vertical-align: top;\n",
       "    }\n",
       "\n",
       "    .dataframe thead th {\n",
       "        text-align: right;\n",
       "    }\n",
       "</style>\n",
       "<table border=\"1\" class=\"dataframe\">\n",
       "  <thead>\n",
       "    <tr style=\"text-align: right;\">\n",
       "      <th></th>\n",
       "      <th>Date</th>\n",
       "      <th>True Closing Values</th>\n",
       "      <th>Predicted Closing Values</th>\n",
       "      <th>True Values</th>\n",
       "      <th>Predicted Values</th>\n",
       "    </tr>\n",
       "  </thead>\n",
       "  <tbody>\n",
       "    <tr>\n",
       "      <th>451</th>\n",
       "      <td>12/19/2017</td>\n",
       "      <td>6500.75</td>\n",
       "      <td>6539.931032</td>\n",
       "      <td>Down</td>\n",
       "      <td>No Change</td>\n",
       "    </tr>\n",
       "    <tr>\n",
       "      <th>452</th>\n",
       "      <td>12/20/2017</td>\n",
       "      <td>6489.00</td>\n",
       "      <td>6476.720416</td>\n",
       "      <td>No Change</td>\n",
       "      <td>No Change</td>\n",
       "    </tr>\n",
       "    <tr>\n",
       "      <th>453</th>\n",
       "      <td>12/21/2017</td>\n",
       "      <td>6492.25</td>\n",
       "      <td>6510.229017</td>\n",
       "      <td>No Change</td>\n",
       "      <td>No Change</td>\n",
       "    </tr>\n",
       "    <tr>\n",
       "      <th>454</th>\n",
       "      <td>12/22/2017</td>\n",
       "      <td>6483.75</td>\n",
       "      <td>6533.899004</td>\n",
       "      <td>No Change</td>\n",
       "      <td>Up</td>\n",
       "    </tr>\n",
       "    <tr>\n",
       "      <th>455</th>\n",
       "      <td>12/26/2017</td>\n",
       "      <td>6460.00</td>\n",
       "      <td>6477.536562</td>\n",
       "      <td>No Change</td>\n",
       "      <td>No Change</td>\n",
       "    </tr>\n",
       "  </tbody>\n",
       "</table>\n",
       "</div>"
      ],
      "text/plain": [
       "           Date  True Closing Values  Predicted Closing Values True Values  \\\n",
       "451  12/19/2017              6500.75               6539.931032        Down   \n",
       "452  12/20/2017              6489.00               6476.720416   No Change   \n",
       "453  12/21/2017              6492.25               6510.229017   No Change   \n",
       "454  12/22/2017              6483.75               6533.899004   No Change   \n",
       "455  12/26/2017              6460.00               6477.536562   No Change   \n",
       "\n",
       "    Predicted Values  \n",
       "451        No Change  \n",
       "452        No Change  \n",
       "453        No Change  \n",
       "454               Up  \n",
       "455        No Change  "
      ]
     },
     "execution_count": 62,
     "metadata": {},
     "output_type": "execute_result"
    }
   ],
   "source": [
    "cnn_prediction = pd.read_csv('data/cnn_second_half.csv')\n",
    "cnn_prediction = cnn_prediction[4:]\n",
    "cnn_prediction.tail()"
   ]
  },
  {
   "cell_type": "code",
   "execution_count": 63,
   "metadata": {},
   "outputs": [],
   "source": [
    "##Change to 1, 0, -1 (Up, Down, No change)\n",
    "cnn_prediction['True Values'] = cnn_prediction['True Values'].map({'No Change': 0, 'Down': -1, 'Up': 1})\n",
    "cnn_prediction['Predicted Values'] = cnn_prediction['Predicted Values'].map({'No Change': 0, 'Down': -1, 'Up': 1})"
   ]
  },
  {
   "cell_type": "code",
   "execution_count": 64,
   "metadata": {},
   "outputs": [
    {
     "data": {
      "text/html": [
       "<div>\n",
       "<style scoped>\n",
       "    .dataframe tbody tr th:only-of-type {\n",
       "        vertical-align: middle;\n",
       "    }\n",
       "\n",
       "    .dataframe tbody tr th {\n",
       "        vertical-align: top;\n",
       "    }\n",
       "\n",
       "    .dataframe thead th {\n",
       "        text-align: right;\n",
       "    }\n",
       "</style>\n",
       "<table border=\"1\" class=\"dataframe\">\n",
       "  <thead>\n",
       "    <tr style=\"text-align: right;\">\n",
       "      <th></th>\n",
       "      <th>Date</th>\n",
       "      <th>True Closing Values</th>\n",
       "      <th>Predicted Closing Values</th>\n",
       "      <th>True Values</th>\n",
       "      <th>Predicted Values</th>\n",
       "    </tr>\n",
       "  </thead>\n",
       "  <tbody>\n",
       "    <tr>\n",
       "      <th>4171</th>\n",
       "      <td>03/14/2016</td>\n",
       "      <td>4381.50</td>\n",
       "      <td>4409.130434</td>\n",
       "      <td>0</td>\n",
       "      <td>1</td>\n",
       "    </tr>\n",
       "    <tr>\n",
       "      <th>4172</th>\n",
       "      <td>03/15/2016</td>\n",
       "      <td>4380.00</td>\n",
       "      <td>4377.969669</td>\n",
       "      <td>0</td>\n",
       "      <td>0</td>\n",
       "    </tr>\n",
       "    <tr>\n",
       "      <th>4173</th>\n",
       "      <td>03/16/2016</td>\n",
       "      <td>4412.00</td>\n",
       "      <td>4312.249146</td>\n",
       "      <td>1</td>\n",
       "      <td>-1</td>\n",
       "    </tr>\n",
       "    <tr>\n",
       "      <th>4174</th>\n",
       "      <td>03/17/2016</td>\n",
       "      <td>4416.75</td>\n",
       "      <td>4438.102763</td>\n",
       "      <td>0</td>\n",
       "      <td>1</td>\n",
       "    </tr>\n",
       "    <tr>\n",
       "      <th>4175</th>\n",
       "      <td>03/18/2016</td>\n",
       "      <td>4418.50</td>\n",
       "      <td>4419.954985</td>\n",
       "      <td>0</td>\n",
       "      <td>0</td>\n",
       "    </tr>\n",
       "  </tbody>\n",
       "</table>\n",
       "</div>"
      ],
      "text/plain": [
       "            Date  True Closing Values  Predicted Closing Values  True Values  \\\n",
       "4171  03/14/2016              4381.50               4409.130434            0   \n",
       "4172  03/15/2016              4380.00               4377.969669            0   \n",
       "4173  03/16/2016              4412.00               4312.249146            1   \n",
       "4174  03/17/2016              4416.75               4438.102763            0   \n",
       "4175  03/18/2016              4418.50               4419.954985            0   \n",
       "\n",
       "      Predicted Values  \n",
       "4171                 1  \n",
       "4172                 0  \n",
       "4173                -1  \n",
       "4174                 1  \n",
       "4175                 0  "
      ]
     },
     "execution_count": 64,
     "metadata": {},
     "output_type": "execute_result"
    }
   ],
   "source": [
    "nq_2 = preprocess(nq_2)\n",
    "cnn_prediction = cnn_prediction.set_index(nq_2.index)\n",
    "cnn_prediction['Date'] = nq_2.iloc[:,0].values\n",
    "cnn_prediction.head()"
   ]
  },
  {
   "cell_type": "code",
   "execution_count": 65,
   "metadata": {},
   "outputs": [
    {
     "data": {
      "text/html": [
       "<div>\n",
       "<style scoped>\n",
       "    .dataframe tbody tr th:only-of-type {\n",
       "        vertical-align: middle;\n",
       "    }\n",
       "\n",
       "    .dataframe tbody tr th {\n",
       "        vertical-align: top;\n",
       "    }\n",
       "\n",
       "    .dataframe thead th {\n",
       "        text-align: right;\n",
       "    }\n",
       "</style>\n",
       "<table border=\"1\" class=\"dataframe\">\n",
       "  <thead>\n",
       "    <tr style=\"text-align: right;\">\n",
       "      <th></th>\n",
       "      <th>Date</th>\n",
       "      <th>True Closing Values</th>\n",
       "      <th>Predicted Closing Values</th>\n",
       "      <th>True Values</th>\n",
       "      <th>Predicted Values</th>\n",
       "      <th>Daily Return</th>\n",
       "    </tr>\n",
       "  </thead>\n",
       "  <tbody>\n",
       "    <tr>\n",
       "      <th>4171</th>\n",
       "      <td>03/14/2016</td>\n",
       "      <td>4381.50</td>\n",
       "      <td>4409.130434</td>\n",
       "      <td>0</td>\n",
       "      <td>1</td>\n",
       "      <td>NaN</td>\n",
       "    </tr>\n",
       "    <tr>\n",
       "      <th>4172</th>\n",
       "      <td>03/15/2016</td>\n",
       "      <td>4380.00</td>\n",
       "      <td>4377.969669</td>\n",
       "      <td>0</td>\n",
       "      <td>0</td>\n",
       "      <td>-0.000342</td>\n",
       "    </tr>\n",
       "    <tr>\n",
       "      <th>4173</th>\n",
       "      <td>03/16/2016</td>\n",
       "      <td>4412.00</td>\n",
       "      <td>4312.249146</td>\n",
       "      <td>1</td>\n",
       "      <td>-1</td>\n",
       "      <td>0.007306</td>\n",
       "    </tr>\n",
       "    <tr>\n",
       "      <th>4174</th>\n",
       "      <td>03/17/2016</td>\n",
       "      <td>4416.75</td>\n",
       "      <td>4438.102763</td>\n",
       "      <td>0</td>\n",
       "      <td>1</td>\n",
       "      <td>0.001077</td>\n",
       "    </tr>\n",
       "    <tr>\n",
       "      <th>4175</th>\n",
       "      <td>03/18/2016</td>\n",
       "      <td>4418.50</td>\n",
       "      <td>4419.954985</td>\n",
       "      <td>0</td>\n",
       "      <td>0</td>\n",
       "      <td>0.000396</td>\n",
       "    </tr>\n",
       "  </tbody>\n",
       "</table>\n",
       "</div>"
      ],
      "text/plain": [
       "            Date  True Closing Values  Predicted Closing Values  True Values  \\\n",
       "4171  03/14/2016              4381.50               4409.130434            0   \n",
       "4172  03/15/2016              4380.00               4377.969669            0   \n",
       "4173  03/16/2016              4412.00               4312.249146            1   \n",
       "4174  03/17/2016              4416.75               4438.102763            0   \n",
       "4175  03/18/2016              4418.50               4419.954985            0   \n",
       "\n",
       "      Predicted Values  Daily Return  \n",
       "4171                 1           NaN  \n",
       "4172                 0     -0.000342  \n",
       "4173                -1      0.007306  \n",
       "4174                 1      0.001077  \n",
       "4175                 0      0.000396  "
      ]
     },
     "execution_count": 65,
     "metadata": {},
     "output_type": "execute_result"
    }
   ],
   "source": [
    "cnn_prediction[\"Daily Return\"] = nq_2['Daily_return']\n",
    "cnn_prediction.head()"
   ]
  },
  {
   "cell_type": "markdown",
   "metadata": {},
   "source": [
    "### Strategy 1"
   ]
  },
  {
   "cell_type": "code",
   "execution_count": 66,
   "metadata": {},
   "outputs": [
    {
     "name": "stdout",
     "output_type": "stream",
     "text": [
      "Sharpe Ratio for cnn using strategy 1 is:  0.23266012961934252\n"
     ]
    }
   ],
   "source": [
    "cnn_rows_1, cnn_np_1 = strategy1(cnn_prediction)\n",
    "print(\"Sharpe Ratio for cnn using strategy 1 is: \", getSharpeRatio(cnn_np_1))"
   ]
  },
  {
   "cell_type": "markdown",
   "metadata": {},
   "source": [
    "### Strategy 2"
   ]
  },
  {
   "cell_type": "code",
   "execution_count": 67,
   "metadata": {},
   "outputs": [
    {
     "name": "stdout",
     "output_type": "stream",
     "text": [
      "Sharpe Ratio for cnn using strategy 2 is:  0.2920369059726796\n"
     ]
    }
   ],
   "source": [
    "cnn_rows_2, cnn_np_2 = strategy2(cnn_prediction)\n",
    "print(\"Sharpe Ratio for cnn using strategy 2 is: \", getSharpeRatio(cnn_np_2))"
   ]
  },
  {
   "cell_type": "markdown",
   "metadata": {},
   "source": [
    "## CSC Sharpe Ratio"
   ]
  },
  {
   "cell_type": "code",
   "execution_count": 68,
   "metadata": {},
   "outputs": [
    {
     "data": {
      "text/html": [
       "<div>\n",
       "<style scoped>\n",
       "    .dataframe tbody tr th:only-of-type {\n",
       "        vertical-align: middle;\n",
       "    }\n",
       "\n",
       "    .dataframe tbody tr th {\n",
       "        vertical-align: top;\n",
       "    }\n",
       "\n",
       "    .dataframe thead th {\n",
       "        text-align: right;\n",
       "    }\n",
       "</style>\n",
       "<table border=\"1\" class=\"dataframe\">\n",
       "  <thead>\n",
       "    <tr style=\"text-align: right;\">\n",
       "      <th></th>\n",
       "      <th>Date</th>\n",
       "      <th>True Closing Values</th>\n",
       "      <th>Predicted Closing Values</th>\n",
       "      <th>True Values</th>\n",
       "      <th>Predicted Values</th>\n",
       "    </tr>\n",
       "  </thead>\n",
       "  <tbody>\n",
       "    <tr>\n",
       "      <th>451</th>\n",
       "      <td>12/19/2017</td>\n",
       "      <td>6500.75</td>\n",
       "      <td>6525.342950</td>\n",
       "      <td>Down</td>\n",
       "      <td>No Change</td>\n",
       "    </tr>\n",
       "    <tr>\n",
       "      <th>452</th>\n",
       "      <td>12/20/2017</td>\n",
       "      <td>6489.00</td>\n",
       "      <td>6510.383158</td>\n",
       "      <td>No Change</td>\n",
       "      <td>No Change</td>\n",
       "    </tr>\n",
       "    <tr>\n",
       "      <th>453</th>\n",
       "      <td>12/21/2017</td>\n",
       "      <td>6492.25</td>\n",
       "      <td>6513.510273</td>\n",
       "      <td>No Change</td>\n",
       "      <td>Up</td>\n",
       "    </tr>\n",
       "    <tr>\n",
       "      <th>454</th>\n",
       "      <td>12/22/2017</td>\n",
       "      <td>6483.75</td>\n",
       "      <td>6512.197309</td>\n",
       "      <td>No Change</td>\n",
       "      <td>Up</td>\n",
       "    </tr>\n",
       "    <tr>\n",
       "      <th>455</th>\n",
       "      <td>12/26/2017</td>\n",
       "      <td>6460.00</td>\n",
       "      <td>6506.319395</td>\n",
       "      <td>Down</td>\n",
       "      <td>Up</td>\n",
       "    </tr>\n",
       "  </tbody>\n",
       "</table>\n",
       "</div>"
      ],
      "text/plain": [
       "           Date  True Closing Values  Predicted Closing Values True Values  \\\n",
       "451  12/19/2017              6500.75               6525.342950        Down   \n",
       "452  12/20/2017              6489.00               6510.383158   No Change   \n",
       "453  12/21/2017              6492.25               6513.510273   No Change   \n",
       "454  12/22/2017              6483.75               6512.197309   No Change   \n",
       "455  12/26/2017              6460.00               6506.319395        Down   \n",
       "\n",
       "    Predicted Values  \n",
       "451        No Change  \n",
       "452        No Change  \n",
       "453               Up  \n",
       "454               Up  \n",
       "455               Up  "
      ]
     },
     "execution_count": 68,
     "metadata": {},
     "output_type": "execute_result"
    }
   ],
   "source": [
    "csc_prediction = pd.read_csv('data/csc_second_half.csv')\n",
    "csc_prediction = csc_prediction[4:-5]\n",
    "csc_prediction.tail()"
   ]
  },
  {
   "cell_type": "code",
   "execution_count": 69,
   "metadata": {},
   "outputs": [],
   "source": [
    "##Change to 1, 0, -1 (Up, Down, No change)\n",
    "csc_prediction['True Values'] = csc_prediction['True Values'].map({'No Change': 0, 'Down': -1, 'Up': 1})\n",
    "csc_prediction['Predicted Values'] = csc_prediction['Predicted Values'].map({'No Change': 0, 'Down': -1, 'Up': 1})"
   ]
  },
  {
   "cell_type": "code",
   "execution_count": 70,
   "metadata": {},
   "outputs": [
    {
     "data": {
      "text/html": [
       "<div>\n",
       "<style scoped>\n",
       "    .dataframe tbody tr th:only-of-type {\n",
       "        vertical-align: middle;\n",
       "    }\n",
       "\n",
       "    .dataframe tbody tr th {\n",
       "        vertical-align: top;\n",
       "    }\n",
       "\n",
       "    .dataframe thead th {\n",
       "        text-align: right;\n",
       "    }\n",
       "</style>\n",
       "<table border=\"1\" class=\"dataframe\">\n",
       "  <thead>\n",
       "    <tr style=\"text-align: right;\">\n",
       "      <th></th>\n",
       "      <th>Date</th>\n",
       "      <th>True Closing Values</th>\n",
       "      <th>Predicted Closing Values</th>\n",
       "      <th>True Values</th>\n",
       "      <th>Predicted Values</th>\n",
       "    </tr>\n",
       "  </thead>\n",
       "  <tbody>\n",
       "    <tr>\n",
       "      <th>4171</th>\n",
       "      <td>03/14/2016</td>\n",
       "      <td>4381.50</td>\n",
       "      <td>4354.403221</td>\n",
       "      <td>1</td>\n",
       "      <td>-1</td>\n",
       "    </tr>\n",
       "    <tr>\n",
       "      <th>4172</th>\n",
       "      <td>03/15/2016</td>\n",
       "      <td>4380.00</td>\n",
       "      <td>4379.216489</td>\n",
       "      <td>0</td>\n",
       "      <td>0</td>\n",
       "    </tr>\n",
       "    <tr>\n",
       "      <th>4173</th>\n",
       "      <td>03/16/2016</td>\n",
       "      <td>4412.00</td>\n",
       "      <td>4384.749710</td>\n",
       "      <td>1</td>\n",
       "      <td>0</td>\n",
       "    </tr>\n",
       "    <tr>\n",
       "      <th>4174</th>\n",
       "      <td>03/17/2016</td>\n",
       "      <td>4416.75</td>\n",
       "      <td>4413.985817</td>\n",
       "      <td>0</td>\n",
       "      <td>0</td>\n",
       "    </tr>\n",
       "    <tr>\n",
       "      <th>4175</th>\n",
       "      <td>03/18/2016</td>\n",
       "      <td>4418.50</td>\n",
       "      <td>4422.832827</td>\n",
       "      <td>0</td>\n",
       "      <td>0</td>\n",
       "    </tr>\n",
       "  </tbody>\n",
       "</table>\n",
       "</div>"
      ],
      "text/plain": [
       "            Date  True Closing Values  Predicted Closing Values  True Values  \\\n",
       "4171  03/14/2016              4381.50               4354.403221            1   \n",
       "4172  03/15/2016              4380.00               4379.216489            0   \n",
       "4173  03/16/2016              4412.00               4384.749710            1   \n",
       "4174  03/17/2016              4416.75               4413.985817            0   \n",
       "4175  03/18/2016              4418.50               4422.832827            0   \n",
       "\n",
       "      Predicted Values  \n",
       "4171                -1  \n",
       "4172                 0  \n",
       "4173                 0  \n",
       "4174                 0  \n",
       "4175                 0  "
      ]
     },
     "execution_count": 70,
     "metadata": {},
     "output_type": "execute_result"
    }
   ],
   "source": [
    "nq_2 = preprocess(nq_2)\n",
    "csc_prediction = csc_prediction.set_index(nq_2.index)\n",
    "csc_prediction['Date'] = nq_2.iloc[:,0].values\n",
    "csc_prediction.head()"
   ]
  },
  {
   "cell_type": "code",
   "execution_count": 71,
   "metadata": {},
   "outputs": [
    {
     "data": {
      "text/html": [
       "<div>\n",
       "<style scoped>\n",
       "    .dataframe tbody tr th:only-of-type {\n",
       "        vertical-align: middle;\n",
       "    }\n",
       "\n",
       "    .dataframe tbody tr th {\n",
       "        vertical-align: top;\n",
       "    }\n",
       "\n",
       "    .dataframe thead th {\n",
       "        text-align: right;\n",
       "    }\n",
       "</style>\n",
       "<table border=\"1\" class=\"dataframe\">\n",
       "  <thead>\n",
       "    <tr style=\"text-align: right;\">\n",
       "      <th></th>\n",
       "      <th>Date</th>\n",
       "      <th>True Closing Values</th>\n",
       "      <th>Predicted Closing Values</th>\n",
       "      <th>True Values</th>\n",
       "      <th>Predicted Values</th>\n",
       "      <th>Daily Return</th>\n",
       "    </tr>\n",
       "  </thead>\n",
       "  <tbody>\n",
       "    <tr>\n",
       "      <th>4171</th>\n",
       "      <td>03/14/2016</td>\n",
       "      <td>4381.50</td>\n",
       "      <td>4354.403221</td>\n",
       "      <td>1</td>\n",
       "      <td>-1</td>\n",
       "      <td>NaN</td>\n",
       "    </tr>\n",
       "    <tr>\n",
       "      <th>4172</th>\n",
       "      <td>03/15/2016</td>\n",
       "      <td>4380.00</td>\n",
       "      <td>4379.216489</td>\n",
       "      <td>0</td>\n",
       "      <td>0</td>\n",
       "      <td>-0.000342</td>\n",
       "    </tr>\n",
       "    <tr>\n",
       "      <th>4173</th>\n",
       "      <td>03/16/2016</td>\n",
       "      <td>4412.00</td>\n",
       "      <td>4384.749710</td>\n",
       "      <td>1</td>\n",
       "      <td>0</td>\n",
       "      <td>0.007306</td>\n",
       "    </tr>\n",
       "    <tr>\n",
       "      <th>4174</th>\n",
       "      <td>03/17/2016</td>\n",
       "      <td>4416.75</td>\n",
       "      <td>4413.985817</td>\n",
       "      <td>0</td>\n",
       "      <td>0</td>\n",
       "      <td>0.001077</td>\n",
       "    </tr>\n",
       "    <tr>\n",
       "      <th>4175</th>\n",
       "      <td>03/18/2016</td>\n",
       "      <td>4418.50</td>\n",
       "      <td>4422.832827</td>\n",
       "      <td>0</td>\n",
       "      <td>0</td>\n",
       "      <td>0.000396</td>\n",
       "    </tr>\n",
       "  </tbody>\n",
       "</table>\n",
       "</div>"
      ],
      "text/plain": [
       "            Date  True Closing Values  Predicted Closing Values  True Values  \\\n",
       "4171  03/14/2016              4381.50               4354.403221            1   \n",
       "4172  03/15/2016              4380.00               4379.216489            0   \n",
       "4173  03/16/2016              4412.00               4384.749710            1   \n",
       "4174  03/17/2016              4416.75               4413.985817            0   \n",
       "4175  03/18/2016              4418.50               4422.832827            0   \n",
       "\n",
       "      Predicted Values  Daily Return  \n",
       "4171                -1           NaN  \n",
       "4172                 0     -0.000342  \n",
       "4173                 0      0.007306  \n",
       "4174                 0      0.001077  \n",
       "4175                 0      0.000396  "
      ]
     },
     "execution_count": 71,
     "metadata": {},
     "output_type": "execute_result"
    }
   ],
   "source": [
    "csc_prediction[\"Daily Return\"] = nq_2['Daily_return']\n",
    "csc_prediction.head()"
   ]
  },
  {
   "cell_type": "markdown",
   "metadata": {},
   "source": [
    "### Strategy 1"
   ]
  },
  {
   "cell_type": "code",
   "execution_count": 72,
   "metadata": {},
   "outputs": [
    {
     "name": "stdout",
     "output_type": "stream",
     "text": [
      "Sharpe Ratio for csc using strategy 1 is:  0.4892123149318724\n"
     ]
    }
   ],
   "source": [
    "csc_rows_1, csc_np_1 = strategy1(csc_prediction)\n",
    "print(\"Sharpe Ratio for csc using strategy 1 is: \", getSharpeRatio(csc_np_1))"
   ]
  },
  {
   "cell_type": "markdown",
   "metadata": {},
   "source": [
    "### Strategy 2"
   ]
  },
  {
   "cell_type": "code",
   "execution_count": 73,
   "metadata": {},
   "outputs": [
    {
     "name": "stdout",
     "output_type": "stream",
     "text": [
      "Sharpe Ratio for csc using strategy 2 is:  0.1831927802144866\n"
     ]
    }
   ],
   "source": [
    "csc_rows_2, csc_np_2 = strategy2(csc_prediction)\n",
    "print(\"Sharpe Ratio for csc using strategy 2 is: \", getSharpeRatio(csc_np_2))"
   ]
  },
  {
   "cell_type": "markdown",
   "metadata": {},
   "source": [
    "## Bi-Directional LSTM Autoencoders Sharpe Ratio"
   ]
  },
  {
   "cell_type": "code",
   "execution_count": 74,
   "metadata": {},
   "outputs": [
    {
     "data": {
      "text/html": [
       "<div>\n",
       "<style scoped>\n",
       "    .dataframe tbody tr th:only-of-type {\n",
       "        vertical-align: middle;\n",
       "    }\n",
       "\n",
       "    .dataframe tbody tr th {\n",
       "        vertical-align: top;\n",
       "    }\n",
       "\n",
       "    .dataframe thead th {\n",
       "        text-align: right;\n",
       "    }\n",
       "</style>\n",
       "<table border=\"1\" class=\"dataframe\">\n",
       "  <thead>\n",
       "    <tr style=\"text-align: right;\">\n",
       "      <th></th>\n",
       "      <th>Date</th>\n",
       "      <th>True Closing Values</th>\n",
       "      <th>Predicted Closing Values</th>\n",
       "      <th>True Values</th>\n",
       "      <th>Predicted Values</th>\n",
       "    </tr>\n",
       "  </thead>\n",
       "  <tbody>\n",
       "    <tr>\n",
       "      <th>447</th>\n",
       "      <td>12/19/2017</td>\n",
       "      <td>6500.75</td>\n",
       "      <td>6482.718013</td>\n",
       "      <td>Down</td>\n",
       "      <td>Down</td>\n",
       "    </tr>\n",
       "    <tr>\n",
       "      <th>448</th>\n",
       "      <td>12/20/2017</td>\n",
       "      <td>6489.00</td>\n",
       "      <td>6515.480154</td>\n",
       "      <td>No Change</td>\n",
       "      <td>No Change</td>\n",
       "    </tr>\n",
       "    <tr>\n",
       "      <th>449</th>\n",
       "      <td>12/21/2017</td>\n",
       "      <td>6492.25</td>\n",
       "      <td>6539.649639</td>\n",
       "      <td>No Change</td>\n",
       "      <td>Up</td>\n",
       "    </tr>\n",
       "    <tr>\n",
       "      <th>450</th>\n",
       "      <td>12/22/2017</td>\n",
       "      <td>6483.75</td>\n",
       "      <td>6565.505064</td>\n",
       "      <td>No Change</td>\n",
       "      <td>Up</td>\n",
       "    </tr>\n",
       "    <tr>\n",
       "      <th>451</th>\n",
       "      <td>12/26/2017</td>\n",
       "      <td>6460.00</td>\n",
       "      <td>6561.306950</td>\n",
       "      <td>Down</td>\n",
       "      <td>Up</td>\n",
       "    </tr>\n",
       "  </tbody>\n",
       "</table>\n",
       "</div>"
      ],
      "text/plain": [
       "           Date  True Closing Values  Predicted Closing Values True Values  \\\n",
       "447  12/19/2017              6500.75               6482.718013        Down   \n",
       "448  12/20/2017              6489.00               6515.480154   No Change   \n",
       "449  12/21/2017              6492.25               6539.649639   No Change   \n",
       "450  12/22/2017              6483.75               6565.505064   No Change   \n",
       "451  12/26/2017              6460.00               6561.306950        Down   \n",
       "\n",
       "    Predicted Values  \n",
       "447             Down  \n",
       "448        No Change  \n",
       "449               Up  \n",
       "450               Up  \n",
       "451               Up  "
      ]
     },
     "execution_count": 74,
     "metadata": {},
     "output_type": "execute_result"
    }
   ],
   "source": [
    "biauto_prediction = pd.read_csv('data/bi_lstm_autoencoders_second_half.csv')\n",
    "biauto_prediction = biauto_prediction[:-5]\n",
    "biauto_prediction.tail()"
   ]
  },
  {
   "cell_type": "code",
   "execution_count": 75,
   "metadata": {},
   "outputs": [],
   "source": [
    "##Change to 1, 0, -1 (Up, Down, No change)\n",
    "biauto_prediction['True Values'] = biauto_prediction['True Values'].map({'No Change': 0, 'Down': -1, 'Up': 1})\n",
    "biauto_prediction['Predicted Values'] = biauto_prediction['Predicted Values'].map({'No Change': 0, 'Down': -1, 'Up': 1})"
   ]
  },
  {
   "cell_type": "code",
   "execution_count": 76,
   "metadata": {},
   "outputs": [
    {
     "data": {
      "text/html": [
       "<div>\n",
       "<style scoped>\n",
       "    .dataframe tbody tr th:only-of-type {\n",
       "        vertical-align: middle;\n",
       "    }\n",
       "\n",
       "    .dataframe tbody tr th {\n",
       "        vertical-align: top;\n",
       "    }\n",
       "\n",
       "    .dataframe thead th {\n",
       "        text-align: right;\n",
       "    }\n",
       "</style>\n",
       "<table border=\"1\" class=\"dataframe\">\n",
       "  <thead>\n",
       "    <tr style=\"text-align: right;\">\n",
       "      <th></th>\n",
       "      <th>Date</th>\n",
       "      <th>True Closing Values</th>\n",
       "      <th>Predicted Closing Values</th>\n",
       "      <th>True Values</th>\n",
       "      <th>Predicted Values</th>\n",
       "    </tr>\n",
       "  </thead>\n",
       "  <tbody>\n",
       "    <tr>\n",
       "      <th>4171</th>\n",
       "      <td>03/14/2016</td>\n",
       "      <td>4381.50</td>\n",
       "      <td>4436.660814</td>\n",
       "      <td>NaN</td>\n",
       "      <td>NaN</td>\n",
       "    </tr>\n",
       "    <tr>\n",
       "      <th>4172</th>\n",
       "      <td>03/15/2016</td>\n",
       "      <td>4380.00</td>\n",
       "      <td>4463.998293</td>\n",
       "      <td>0.0</td>\n",
       "      <td>1.0</td>\n",
       "    </tr>\n",
       "    <tr>\n",
       "      <th>4173</th>\n",
       "      <td>03/16/2016</td>\n",
       "      <td>4412.00</td>\n",
       "      <td>4449.133691</td>\n",
       "      <td>1.0</td>\n",
       "      <td>1.0</td>\n",
       "    </tr>\n",
       "    <tr>\n",
       "      <th>4174</th>\n",
       "      <td>03/17/2016</td>\n",
       "      <td>4416.75</td>\n",
       "      <td>4433.043533</td>\n",
       "      <td>0.0</td>\n",
       "      <td>1.0</td>\n",
       "    </tr>\n",
       "    <tr>\n",
       "      <th>4175</th>\n",
       "      <td>03/18/2016</td>\n",
       "      <td>4418.50</td>\n",
       "      <td>4406.623977</td>\n",
       "      <td>0.0</td>\n",
       "      <td>0.0</td>\n",
       "    </tr>\n",
       "  </tbody>\n",
       "</table>\n",
       "</div>"
      ],
      "text/plain": [
       "            Date  True Closing Values  Predicted Closing Values  True Values  \\\n",
       "4171  03/14/2016              4381.50               4436.660814          NaN   \n",
       "4172  03/15/2016              4380.00               4463.998293          0.0   \n",
       "4173  03/16/2016              4412.00               4449.133691          1.0   \n",
       "4174  03/17/2016              4416.75               4433.043533          0.0   \n",
       "4175  03/18/2016              4418.50               4406.623977          0.0   \n",
       "\n",
       "      Predicted Values  \n",
       "4171               NaN  \n",
       "4172               1.0  \n",
       "4173               1.0  \n",
       "4174               1.0  \n",
       "4175               0.0  "
      ]
     },
     "execution_count": 76,
     "metadata": {},
     "output_type": "execute_result"
    }
   ],
   "source": [
    "nq_2 = preprocess(nq_2)\n",
    "biauto_prediction = biauto_prediction.set_index(nq_2.index)\n",
    "biauto_prediction['Date'] = nq_2.iloc[:,0].values\n",
    "biauto_prediction.head()"
   ]
  },
  {
   "cell_type": "code",
   "execution_count": 77,
   "metadata": {},
   "outputs": [
    {
     "data": {
      "text/html": [
       "<div>\n",
       "<style scoped>\n",
       "    .dataframe tbody tr th:only-of-type {\n",
       "        vertical-align: middle;\n",
       "    }\n",
       "\n",
       "    .dataframe tbody tr th {\n",
       "        vertical-align: top;\n",
       "    }\n",
       "\n",
       "    .dataframe thead th {\n",
       "        text-align: right;\n",
       "    }\n",
       "</style>\n",
       "<table border=\"1\" class=\"dataframe\">\n",
       "  <thead>\n",
       "    <tr style=\"text-align: right;\">\n",
       "      <th></th>\n",
       "      <th>Date</th>\n",
       "      <th>True Closing Values</th>\n",
       "      <th>Predicted Closing Values</th>\n",
       "      <th>True Values</th>\n",
       "      <th>Predicted Values</th>\n",
       "      <th>Daily Return</th>\n",
       "    </tr>\n",
       "  </thead>\n",
       "  <tbody>\n",
       "    <tr>\n",
       "      <th>4171</th>\n",
       "      <td>03/14/2016</td>\n",
       "      <td>4381.50</td>\n",
       "      <td>4436.660814</td>\n",
       "      <td>NaN</td>\n",
       "      <td>NaN</td>\n",
       "      <td>NaN</td>\n",
       "    </tr>\n",
       "    <tr>\n",
       "      <th>4172</th>\n",
       "      <td>03/15/2016</td>\n",
       "      <td>4380.00</td>\n",
       "      <td>4463.998293</td>\n",
       "      <td>0.0</td>\n",
       "      <td>1.0</td>\n",
       "      <td>-0.000342</td>\n",
       "    </tr>\n",
       "    <tr>\n",
       "      <th>4173</th>\n",
       "      <td>03/16/2016</td>\n",
       "      <td>4412.00</td>\n",
       "      <td>4449.133691</td>\n",
       "      <td>1.0</td>\n",
       "      <td>1.0</td>\n",
       "      <td>0.007306</td>\n",
       "    </tr>\n",
       "    <tr>\n",
       "      <th>4174</th>\n",
       "      <td>03/17/2016</td>\n",
       "      <td>4416.75</td>\n",
       "      <td>4433.043533</td>\n",
       "      <td>0.0</td>\n",
       "      <td>1.0</td>\n",
       "      <td>0.001077</td>\n",
       "    </tr>\n",
       "    <tr>\n",
       "      <th>4175</th>\n",
       "      <td>03/18/2016</td>\n",
       "      <td>4418.50</td>\n",
       "      <td>4406.623977</td>\n",
       "      <td>0.0</td>\n",
       "      <td>0.0</td>\n",
       "      <td>0.000396</td>\n",
       "    </tr>\n",
       "  </tbody>\n",
       "</table>\n",
       "</div>"
      ],
      "text/plain": [
       "            Date  True Closing Values  Predicted Closing Values  True Values  \\\n",
       "4171  03/14/2016              4381.50               4436.660814          NaN   \n",
       "4172  03/15/2016              4380.00               4463.998293          0.0   \n",
       "4173  03/16/2016              4412.00               4449.133691          1.0   \n",
       "4174  03/17/2016              4416.75               4433.043533          0.0   \n",
       "4175  03/18/2016              4418.50               4406.623977          0.0   \n",
       "\n",
       "      Predicted Values  Daily Return  \n",
       "4171               NaN           NaN  \n",
       "4172               1.0     -0.000342  \n",
       "4173               1.0      0.007306  \n",
       "4174               1.0      0.001077  \n",
       "4175               0.0      0.000396  "
      ]
     },
     "execution_count": 77,
     "metadata": {},
     "output_type": "execute_result"
    }
   ],
   "source": [
    "biauto_prediction[\"Daily Return\"] = nq_2['Daily_return']\n",
    "biauto_prediction.head()"
   ]
  },
  {
   "cell_type": "markdown",
   "metadata": {},
   "source": [
    "### Strategy 1"
   ]
  },
  {
   "cell_type": "code",
   "execution_count": 78,
   "metadata": {},
   "outputs": [
    {
     "name": "stdout",
     "output_type": "stream",
     "text": [
      "Sharpe Ratio for bi-lstm autoencoders using strategy 1 is:  0.18973843656718634\n"
     ]
    }
   ],
   "source": [
    "biauto_rows_1, biauto_np_1 = strategy1(biauto_prediction)\n",
    "print(\"Sharpe Ratio for bi-lstm autoencoders using strategy 1 is: \", getSharpeRatio(biauto_np_1))"
   ]
  },
  {
   "cell_type": "markdown",
   "metadata": {},
   "source": [
    "### Strategy 2"
   ]
  },
  {
   "cell_type": "code",
   "execution_count": 79,
   "metadata": {},
   "outputs": [
    {
     "name": "stdout",
     "output_type": "stream",
     "text": [
      "Sharpe Ratio for bi-lstm autoencoders using strategy 2 is:  0.17701182808717222\n"
     ]
    }
   ],
   "source": [
    "biauto_rows_2, biauto_np_2 = strategy2(biauto_prediction)\n",
    "print(\"Sharpe Ratio for bi-lstm autoencoders using strategy 2 is: \", getSharpeRatio(biauto_np_2))"
   ]
  },
  {
   "cell_type": "markdown",
   "metadata": {},
   "source": [
    "## WaveNet Sharpe Ratio"
   ]
  },
  {
   "cell_type": "code",
   "execution_count": 80,
   "metadata": {},
   "outputs": [
    {
     "data": {
      "text/html": [
       "<div>\n",
       "<style scoped>\n",
       "    .dataframe tbody tr th:only-of-type {\n",
       "        vertical-align: middle;\n",
       "    }\n",
       "\n",
       "    .dataframe tbody tr th {\n",
       "        vertical-align: top;\n",
       "    }\n",
       "\n",
       "    .dataframe thead th {\n",
       "        text-align: right;\n",
       "    }\n",
       "</style>\n",
       "<table border=\"1\" class=\"dataframe\">\n",
       "  <thead>\n",
       "    <tr style=\"text-align: right;\">\n",
       "      <th></th>\n",
       "      <th>Date</th>\n",
       "      <th>Predicted Values</th>\n",
       "      <th>True Values</th>\n",
       "    </tr>\n",
       "  </thead>\n",
       "  <tbody>\n",
       "    <tr>\n",
       "      <th>448</th>\n",
       "      <td>2017-12-19</td>\n",
       "      <td>No Change</td>\n",
       "      <td>No Change</td>\n",
       "    </tr>\n",
       "    <tr>\n",
       "      <th>449</th>\n",
       "      <td>2017-12-20</td>\n",
       "      <td>No Change</td>\n",
       "      <td>No Change</td>\n",
       "    </tr>\n",
       "    <tr>\n",
       "      <th>450</th>\n",
       "      <td>2017-12-21</td>\n",
       "      <td>Up</td>\n",
       "      <td>No Change</td>\n",
       "    </tr>\n",
       "    <tr>\n",
       "      <th>451</th>\n",
       "      <td>2017-12-22</td>\n",
       "      <td>No Change</td>\n",
       "      <td>Down</td>\n",
       "    </tr>\n",
       "    <tr>\n",
       "      <th>452</th>\n",
       "      <td>2017-12-26</td>\n",
       "      <td>Up</td>\n",
       "      <td>No Change</td>\n",
       "    </tr>\n",
       "  </tbody>\n",
       "</table>\n",
       "</div>"
      ],
      "text/plain": [
       "           Date Predicted Values True Values\n",
       "448  2017-12-19        No Change   No Change\n",
       "449  2017-12-20        No Change   No Change\n",
       "450  2017-12-21               Up   No Change\n",
       "451  2017-12-22        No Change        Down\n",
       "452  2017-12-26               Up   No Change"
      ]
     },
     "execution_count": 80,
     "metadata": {},
     "output_type": "execute_result"
    }
   ],
   "source": [
    "wavenet_prediction = pd.read_csv('data/wavenet_second_half.csv')\n",
    "wavenet_prediction = wavenet_prediction.rename(index=str, columns={\"Next_Day_Prediction\": \"Predicted Values\", \"Next_Day_Original\": \"True Values\"})\n",
    "wavenet_prediction = wavenet_prediction[1:-2]\n",
    "wavenet_prediction.tail()"
   ]
  },
  {
   "cell_type": "code",
   "execution_count": 81,
   "metadata": {},
   "outputs": [],
   "source": [
    "##Change to 1, 0, -1 (Up, Down, No change)\n",
    "wavenet_prediction['True Values'] = wavenet_prediction['True Values'].map({\"No Change\": 0, 'Down': -1, 'Up': 1})\n",
    "wavenet_prediction['Predicted Values'] = wavenet_prediction['Predicted Values'].map({'No Change': 0, 'Down': -1, 'Up': 1})"
   ]
  },
  {
   "cell_type": "code",
   "execution_count": 82,
   "metadata": {},
   "outputs": [
    {
     "data": {
      "text/html": [
       "<div>\n",
       "<style scoped>\n",
       "    .dataframe tbody tr th:only-of-type {\n",
       "        vertical-align: middle;\n",
       "    }\n",
       "\n",
       "    .dataframe tbody tr th {\n",
       "        vertical-align: top;\n",
       "    }\n",
       "\n",
       "    .dataframe thead th {\n",
       "        text-align: right;\n",
       "    }\n",
       "</style>\n",
       "<table border=\"1\" class=\"dataframe\">\n",
       "  <thead>\n",
       "    <tr style=\"text-align: right;\">\n",
       "      <th></th>\n",
       "      <th>Date</th>\n",
       "      <th>Predicted Values</th>\n",
       "      <th>True Values</th>\n",
       "    </tr>\n",
       "  </thead>\n",
       "  <tbody>\n",
       "    <tr>\n",
       "      <th>4171</th>\n",
       "      <td>03/14/2016</td>\n",
       "      <td>0</td>\n",
       "      <td>0</td>\n",
       "    </tr>\n",
       "    <tr>\n",
       "      <th>4172</th>\n",
       "      <td>03/15/2016</td>\n",
       "      <td>1</td>\n",
       "      <td>1</td>\n",
       "    </tr>\n",
       "    <tr>\n",
       "      <th>4173</th>\n",
       "      <td>03/16/2016</td>\n",
       "      <td>-1</td>\n",
       "      <td>0</td>\n",
       "    </tr>\n",
       "    <tr>\n",
       "      <th>4174</th>\n",
       "      <td>03/17/2016</td>\n",
       "      <td>1</td>\n",
       "      <td>0</td>\n",
       "    </tr>\n",
       "    <tr>\n",
       "      <th>4175</th>\n",
       "      <td>03/18/2016</td>\n",
       "      <td>1</td>\n",
       "      <td>1</td>\n",
       "    </tr>\n",
       "  </tbody>\n",
       "</table>\n",
       "</div>"
      ],
      "text/plain": [
       "            Date  Predicted Values  True Values\n",
       "4171  03/14/2016                 0            0\n",
       "4172  03/15/2016                 1            1\n",
       "4173  03/16/2016                -1            0\n",
       "4174  03/17/2016                 1            0\n",
       "4175  03/18/2016                 1            1"
      ]
     },
     "execution_count": 82,
     "metadata": {},
     "output_type": "execute_result"
    }
   ],
   "source": [
    "wavenet_prediction = wavenet_prediction.set_index(nq_2.index)\n",
    "wavenet_prediction['Date'] = nq_2.iloc[:,0].values\n",
    "wavenet_prediction.head()"
   ]
  },
  {
   "cell_type": "code",
   "execution_count": 83,
   "metadata": {},
   "outputs": [
    {
     "data": {
      "text/html": [
       "<div>\n",
       "<style scoped>\n",
       "    .dataframe tbody tr th:only-of-type {\n",
       "        vertical-align: middle;\n",
       "    }\n",
       "\n",
       "    .dataframe tbody tr th {\n",
       "        vertical-align: top;\n",
       "    }\n",
       "\n",
       "    .dataframe thead th {\n",
       "        text-align: right;\n",
       "    }\n",
       "</style>\n",
       "<table border=\"1\" class=\"dataframe\">\n",
       "  <thead>\n",
       "    <tr style=\"text-align: right;\">\n",
       "      <th></th>\n",
       "      <th>Date</th>\n",
       "      <th>Predicted Values</th>\n",
       "      <th>True Values</th>\n",
       "      <th>Daily Return</th>\n",
       "    </tr>\n",
       "  </thead>\n",
       "  <tbody>\n",
       "    <tr>\n",
       "      <th>4171</th>\n",
       "      <td>03/14/2016</td>\n",
       "      <td>0</td>\n",
       "      <td>0</td>\n",
       "      <td>NaN</td>\n",
       "    </tr>\n",
       "    <tr>\n",
       "      <th>4172</th>\n",
       "      <td>03/15/2016</td>\n",
       "      <td>1</td>\n",
       "      <td>1</td>\n",
       "      <td>-0.000342</td>\n",
       "    </tr>\n",
       "    <tr>\n",
       "      <th>4173</th>\n",
       "      <td>03/16/2016</td>\n",
       "      <td>-1</td>\n",
       "      <td>0</td>\n",
       "      <td>0.007306</td>\n",
       "    </tr>\n",
       "    <tr>\n",
       "      <th>4174</th>\n",
       "      <td>03/17/2016</td>\n",
       "      <td>1</td>\n",
       "      <td>0</td>\n",
       "      <td>0.001077</td>\n",
       "    </tr>\n",
       "    <tr>\n",
       "      <th>4175</th>\n",
       "      <td>03/18/2016</td>\n",
       "      <td>1</td>\n",
       "      <td>1</td>\n",
       "      <td>0.000396</td>\n",
       "    </tr>\n",
       "  </tbody>\n",
       "</table>\n",
       "</div>"
      ],
      "text/plain": [
       "            Date  Predicted Values  True Values  Daily Return\n",
       "4171  03/14/2016                 0            0           NaN\n",
       "4172  03/15/2016                 1            1     -0.000342\n",
       "4173  03/16/2016                -1            0      0.007306\n",
       "4174  03/17/2016                 1            0      0.001077\n",
       "4175  03/18/2016                 1            1      0.000396"
      ]
     },
     "execution_count": 83,
     "metadata": {},
     "output_type": "execute_result"
    }
   ],
   "source": [
    "wavenet_prediction['Daily Return'] = nq_2['Daily_return']\n",
    "wavenet_prediction.head()"
   ]
  },
  {
   "cell_type": "markdown",
   "metadata": {},
   "source": [
    "### Strategy 1"
   ]
  },
  {
   "cell_type": "code",
   "execution_count": 84,
   "metadata": {},
   "outputs": [],
   "source": [
    "wavenet_rows_1, wavenet_np_1 = strategy1(wavenet_prediction)"
   ]
  },
  {
   "cell_type": "code",
   "execution_count": 85,
   "metadata": {},
   "outputs": [
    {
     "name": "stdout",
     "output_type": "stream",
     "text": [
      "Sharpe Ratio for WaveNet using strategy 1 is:  0.2547896224743806\n"
     ]
    }
   ],
   "source": [
    "print(\"Sharpe Ratio for WaveNet using strategy 1 is: \", getSharpeRatio(wavenet_np_1))"
   ]
  },
  {
   "cell_type": "markdown",
   "metadata": {},
   "source": [
    "### Strategy 2"
   ]
  },
  {
   "cell_type": "code",
   "execution_count": 86,
   "metadata": {},
   "outputs": [],
   "source": [
    "wavenet_rows_2, wavenet_np_2 = strategy2(wavenet_prediction)"
   ]
  },
  {
   "cell_type": "code",
   "execution_count": 87,
   "metadata": {},
   "outputs": [
    {
     "name": "stdout",
     "output_type": "stream",
     "text": [
      "Sharpe Ratio for WaveNet using strategy 2 is:  0.26457104808149184\n"
     ]
    }
   ],
   "source": [
    "print(\"Sharpe Ratio for WaveNet using strategy 2 is: \", getSharpeRatio(wavenet_np_2))"
   ]
  },
  {
   "cell_type": "markdown",
   "metadata": {},
   "source": [
    "# Cumulative Return Graph "
   ]
  },
  {
   "cell_type": "code",
   "execution_count": 94,
   "metadata": {},
   "outputs": [],
   "source": [
    "strategies = nq_2\n",
    "strategies['bi_lstm_strategy1'] = lstm_rows_1\n",
    "strategies['bi_lstm_strategy2'] = lstm_rows_2\n",
    "strategies['bi_lstm_auto_strategy1'] = biauto_rows_1\n",
    "strategies['bi_lstm_auto_strategy2'] = biauto_rows_2\n",
    "strategies['tcn_strategy1'] = wavenet_rows_1\n",
    "strategies['tcn_strategy2'] = wavenet_rows_2\n",
    "strategies['cnn_strategy1'] = cnn_rows_1\n",
    "strategies['cnn_strategy2'] = cnn_rows_2\n",
    "strategies['csc_strategy1'] = csc_rows_1\n",
    "strategies['csc_strategy2'] = csc_rows_2\n",
    "strategies['trendStrategy'] = trendRows"
   ]
  },
  {
   "cell_type": "code",
   "execution_count": 95,
   "metadata": {},
   "outputs": [
    {
     "data": {
      "text/html": [
       "<div>\n",
       "<style scoped>\n",
       "    .dataframe tbody tr th:only-of-type {\n",
       "        vertical-align: middle;\n",
       "    }\n",
       "\n",
       "    .dataframe tbody tr th {\n",
       "        vertical-align: top;\n",
       "    }\n",
       "\n",
       "    .dataframe thead th {\n",
       "        text-align: right;\n",
       "    }\n",
       "</style>\n",
       "<table border=\"1\" class=\"dataframe\">\n",
       "  <thead>\n",
       "    <tr style=\"text-align: right;\">\n",
       "      <th></th>\n",
       "      <th>Date</th>\n",
       "      <th>buyhold</th>\n",
       "      <th>bi_lstm_strategy1</th>\n",
       "      <th>bi_lstm_strategy2</th>\n",
       "      <th>bi_lstm_auto_strategy1</th>\n",
       "      <th>bi_lstm_auto_strategy2</th>\n",
       "      <th>wavenet_strategy1</th>\n",
       "      <th>wavenet_strategy2</th>\n",
       "      <th>cnn_strategy1</th>\n",
       "      <th>cnn_strategy2</th>\n",
       "      <th>csc_strategy1</th>\n",
       "      <th>csc_strategy2</th>\n",
       "      <th>trendStrategy</th>\n",
       "      <th>tcn_strategy1</th>\n",
       "      <th>tcn_strategy2</th>\n",
       "    </tr>\n",
       "  </thead>\n",
       "  <tbody>\n",
       "    <tr>\n",
       "      <th>4171</th>\n",
       "      <td>03/14/2016</td>\n",
       "      <td>NaN</td>\n",
       "      <td>NaN</td>\n",
       "      <td>NaN</td>\n",
       "      <td>NaN</td>\n",
       "      <td>NaN</td>\n",
       "      <td>NaN</td>\n",
       "      <td>NaN</td>\n",
       "      <td>NaN</td>\n",
       "      <td>NaN</td>\n",
       "      <td>NaN</td>\n",
       "      <td>NaN</td>\n",
       "      <td>NaN</td>\n",
       "      <td>NaN</td>\n",
       "      <td>NaN</td>\n",
       "    </tr>\n",
       "    <tr>\n",
       "      <th>4172</th>\n",
       "      <td>03/15/2016</td>\n",
       "      <td>-0.000342</td>\n",
       "      <td>NaN</td>\n",
       "      <td>NaN</td>\n",
       "      <td>-0.000342</td>\n",
       "      <td>NaN</td>\n",
       "      <td>-0.000342</td>\n",
       "      <td>NaN</td>\n",
       "      <td>NaN</td>\n",
       "      <td>-0.000342</td>\n",
       "      <td>NaN</td>\n",
       "      <td>NaN</td>\n",
       "      <td>0.003033</td>\n",
       "      <td>-0.000342</td>\n",
       "      <td>NaN</td>\n",
       "    </tr>\n",
       "    <tr>\n",
       "      <th>4173</th>\n",
       "      <td>03/16/2016</td>\n",
       "      <td>0.007306</td>\n",
       "      <td>NaN</td>\n",
       "      <td>NaN</td>\n",
       "      <td>0.007306</td>\n",
       "      <td>0.007306</td>\n",
       "      <td>NaN</td>\n",
       "      <td>NaN</td>\n",
       "      <td>NaN</td>\n",
       "      <td>NaN</td>\n",
       "      <td>NaN</td>\n",
       "      <td>NaN</td>\n",
       "      <td>-0.000342</td>\n",
       "      <td>NaN</td>\n",
       "      <td>NaN</td>\n",
       "    </tr>\n",
       "    <tr>\n",
       "      <th>4174</th>\n",
       "      <td>03/17/2016</td>\n",
       "      <td>0.001077</td>\n",
       "      <td>NaN</td>\n",
       "      <td>NaN</td>\n",
       "      <td>0.001077</td>\n",
       "      <td>0.001077</td>\n",
       "      <td>0.001077</td>\n",
       "      <td>NaN</td>\n",
       "      <td>0.001077</td>\n",
       "      <td>NaN</td>\n",
       "      <td>NaN</td>\n",
       "      <td>NaN</td>\n",
       "      <td>0.007306</td>\n",
       "      <td>0.001077</td>\n",
       "      <td>NaN</td>\n",
       "    </tr>\n",
       "    <tr>\n",
       "      <th>4175</th>\n",
       "      <td>03/18/2016</td>\n",
       "      <td>0.000396</td>\n",
       "      <td>0.000396</td>\n",
       "      <td>NaN</td>\n",
       "      <td>NaN</td>\n",
       "      <td>0.000396</td>\n",
       "      <td>0.000396</td>\n",
       "      <td>0.000396</td>\n",
       "      <td>NaN</td>\n",
       "      <td>0.000396</td>\n",
       "      <td>NaN</td>\n",
       "      <td>NaN</td>\n",
       "      <td>0.001077</td>\n",
       "      <td>0.000396</td>\n",
       "      <td>0.000396</td>\n",
       "    </tr>\n",
       "  </tbody>\n",
       "</table>\n",
       "</div>"
      ],
      "text/plain": [
       "            Date   buyhold  bi_lstm_strategy1  bi_lstm_strategy2  \\\n",
       "4171  03/14/2016       NaN                NaN                NaN   \n",
       "4172  03/15/2016 -0.000342                NaN                NaN   \n",
       "4173  03/16/2016  0.007306                NaN                NaN   \n",
       "4174  03/17/2016  0.001077                NaN                NaN   \n",
       "4175  03/18/2016  0.000396           0.000396                NaN   \n",
       "\n",
       "      bi_lstm_auto_strategy1  bi_lstm_auto_strategy2  wavenet_strategy1  \\\n",
       "4171                     NaN                     NaN                NaN   \n",
       "4172               -0.000342                     NaN          -0.000342   \n",
       "4173                0.007306                0.007306                NaN   \n",
       "4174                0.001077                0.001077           0.001077   \n",
       "4175                     NaN                0.000396           0.000396   \n",
       "\n",
       "      wavenet_strategy2  cnn_strategy1  cnn_strategy2  csc_strategy1  \\\n",
       "4171                NaN            NaN            NaN            NaN   \n",
       "4172                NaN            NaN      -0.000342            NaN   \n",
       "4173                NaN            NaN            NaN            NaN   \n",
       "4174                NaN       0.001077            NaN            NaN   \n",
       "4175           0.000396            NaN       0.000396            NaN   \n",
       "\n",
       "      csc_strategy2  trendStrategy  tcn_strategy1  tcn_strategy2  \n",
       "4171            NaN            NaN            NaN            NaN  \n",
       "4172            NaN       0.003033      -0.000342            NaN  \n",
       "4173            NaN      -0.000342            NaN            NaN  \n",
       "4174            NaN       0.007306       0.001077            NaN  \n",
       "4175            NaN       0.001077       0.000396       0.000396  "
      ]
     },
     "execution_count": 95,
     "metadata": {},
     "output_type": "execute_result"
    }
   ],
   "source": [
    "strategies = strategies.rename(index=str, columns={\"Daily_return\": \"buyhold\"})\n",
    "strategies = strategies.drop(columns=['Open', 'Norm_return', 'Allocation', 'Position', 'Close'])\n",
    "strategies.head()"
   ]
  },
  {
   "cell_type": "code",
   "execution_count": 96,
   "metadata": {},
   "outputs": [
    {
     "data": {
      "text/html": [
       "<div>\n",
       "<style scoped>\n",
       "    .dataframe tbody tr th:only-of-type {\n",
       "        vertical-align: middle;\n",
       "    }\n",
       "\n",
       "    .dataframe tbody tr th {\n",
       "        vertical-align: top;\n",
       "    }\n",
       "\n",
       "    .dataframe thead th {\n",
       "        text-align: right;\n",
       "    }\n",
       "</style>\n",
       "<table border=\"1\" class=\"dataframe\">\n",
       "  <thead>\n",
       "    <tr style=\"text-align: right;\">\n",
       "      <th></th>\n",
       "      <th>Date</th>\n",
       "      <th>buyhold</th>\n",
       "      <th>bi_lstm_strategy1</th>\n",
       "      <th>bi_lstm_strategy2</th>\n",
       "      <th>bi_lstm_auto_strategy1</th>\n",
       "      <th>bi_lstm_auto_strategy2</th>\n",
       "      <th>wavenet_strategy1</th>\n",
       "      <th>wavenet_strategy2</th>\n",
       "      <th>cnn_strategy1</th>\n",
       "      <th>cnn_strategy2</th>\n",
       "      <th>csc_strategy1</th>\n",
       "      <th>csc_strategy2</th>\n",
       "      <th>trendStrategy</th>\n",
       "      <th>tcn_strategy1</th>\n",
       "      <th>tcn_strategy2</th>\n",
       "    </tr>\n",
       "  </thead>\n",
       "  <tbody>\n",
       "    <tr>\n",
       "      <th>4171</th>\n",
       "      <td>03/14/2016</td>\n",
       "      <td>0.000000</td>\n",
       "      <td>0.000000</td>\n",
       "      <td>0.0</td>\n",
       "      <td>0.000000</td>\n",
       "      <td>0.000000</td>\n",
       "      <td>0.000000</td>\n",
       "      <td>0.000000</td>\n",
       "      <td>0.000000</td>\n",
       "      <td>0.000000</td>\n",
       "      <td>0.0</td>\n",
       "      <td>0.0</td>\n",
       "      <td>0.000000</td>\n",
       "      <td>0.000000</td>\n",
       "      <td>0.000000</td>\n",
       "    </tr>\n",
       "    <tr>\n",
       "      <th>4172</th>\n",
       "      <td>03/15/2016</td>\n",
       "      <td>-0.000342</td>\n",
       "      <td>0.000000</td>\n",
       "      <td>0.0</td>\n",
       "      <td>-0.000342</td>\n",
       "      <td>0.000000</td>\n",
       "      <td>-0.000342</td>\n",
       "      <td>0.000000</td>\n",
       "      <td>0.000000</td>\n",
       "      <td>-0.000342</td>\n",
       "      <td>0.0</td>\n",
       "      <td>0.0</td>\n",
       "      <td>0.003033</td>\n",
       "      <td>-0.000342</td>\n",
       "      <td>0.000000</td>\n",
       "    </tr>\n",
       "    <tr>\n",
       "      <th>4173</th>\n",
       "      <td>03/16/2016</td>\n",
       "      <td>0.007306</td>\n",
       "      <td>0.000000</td>\n",
       "      <td>0.0</td>\n",
       "      <td>0.007306</td>\n",
       "      <td>0.007306</td>\n",
       "      <td>0.000000</td>\n",
       "      <td>0.000000</td>\n",
       "      <td>0.000000</td>\n",
       "      <td>0.000000</td>\n",
       "      <td>0.0</td>\n",
       "      <td>0.0</td>\n",
       "      <td>-0.000342</td>\n",
       "      <td>0.000000</td>\n",
       "      <td>0.000000</td>\n",
       "    </tr>\n",
       "    <tr>\n",
       "      <th>4174</th>\n",
       "      <td>03/17/2016</td>\n",
       "      <td>0.001077</td>\n",
       "      <td>0.000000</td>\n",
       "      <td>0.0</td>\n",
       "      <td>0.001077</td>\n",
       "      <td>0.001077</td>\n",
       "      <td>0.001077</td>\n",
       "      <td>0.000000</td>\n",
       "      <td>0.001077</td>\n",
       "      <td>0.000000</td>\n",
       "      <td>0.0</td>\n",
       "      <td>0.0</td>\n",
       "      <td>0.007306</td>\n",
       "      <td>0.001077</td>\n",
       "      <td>0.000000</td>\n",
       "    </tr>\n",
       "    <tr>\n",
       "      <th>4175</th>\n",
       "      <td>03/18/2016</td>\n",
       "      <td>0.000396</td>\n",
       "      <td>0.000396</td>\n",
       "      <td>0.0</td>\n",
       "      <td>0.000000</td>\n",
       "      <td>0.000396</td>\n",
       "      <td>0.000396</td>\n",
       "      <td>0.000396</td>\n",
       "      <td>0.000000</td>\n",
       "      <td>0.000396</td>\n",
       "      <td>0.0</td>\n",
       "      <td>0.0</td>\n",
       "      <td>0.001077</td>\n",
       "      <td>0.000396</td>\n",
       "      <td>0.000396</td>\n",
       "    </tr>\n",
       "  </tbody>\n",
       "</table>\n",
       "</div>"
      ],
      "text/plain": [
       "            Date   buyhold  bi_lstm_strategy1  bi_lstm_strategy2  \\\n",
       "4171  03/14/2016  0.000000           0.000000                0.0   \n",
       "4172  03/15/2016 -0.000342           0.000000                0.0   \n",
       "4173  03/16/2016  0.007306           0.000000                0.0   \n",
       "4174  03/17/2016  0.001077           0.000000                0.0   \n",
       "4175  03/18/2016  0.000396           0.000396                0.0   \n",
       "\n",
       "      bi_lstm_auto_strategy1  bi_lstm_auto_strategy2  wavenet_strategy1  \\\n",
       "4171                0.000000                0.000000           0.000000   \n",
       "4172               -0.000342                0.000000          -0.000342   \n",
       "4173                0.007306                0.007306           0.000000   \n",
       "4174                0.001077                0.001077           0.001077   \n",
       "4175                0.000000                0.000396           0.000396   \n",
       "\n",
       "      wavenet_strategy2  cnn_strategy1  cnn_strategy2  csc_strategy1  \\\n",
       "4171           0.000000       0.000000       0.000000            0.0   \n",
       "4172           0.000000       0.000000      -0.000342            0.0   \n",
       "4173           0.000000       0.000000       0.000000            0.0   \n",
       "4174           0.000000       0.001077       0.000000            0.0   \n",
       "4175           0.000396       0.000000       0.000396            0.0   \n",
       "\n",
       "      csc_strategy2  trendStrategy  tcn_strategy1  tcn_strategy2  \n",
       "4171            0.0       0.000000       0.000000       0.000000  \n",
       "4172            0.0       0.003033      -0.000342       0.000000  \n",
       "4173            0.0      -0.000342       0.000000       0.000000  \n",
       "4174            0.0       0.007306       0.001077       0.000000  \n",
       "4175            0.0       0.001077       0.000396       0.000396  "
      ]
     },
     "execution_count": 96,
     "metadata": {},
     "output_type": "execute_result"
    }
   ],
   "source": [
    "strategies = strategies.fillna(0)\n",
    "strategies.head()"
   ]
  },
  {
   "cell_type": "code",
   "execution_count": 97,
   "metadata": {},
   "outputs": [],
   "source": [
    "strategies['bi_lstm_strategy1'] = strategies['bi_lstm_strategy1'].cumsum()\n",
    "strategies['bi_lstm_strategy2'] = strategies['bi_lstm_strategy2'].cumsum()\n",
    "strategies['bi_lstm_auto_strategy1'] = strategies['bi_lstm_auto_strategy1'].cumsum()\n",
    "strategies['bi_lstm_auto_strategy2'] = strategies['bi_lstm_auto_strategy2'].cumsum()\n",
    "strategies['tcn_strategy1'] = strategies['wavenet_strategy1'].cumsum()\n",
    "strategies['tcn_strategy2'] = strategies['wavenet_strategy2'].cumsum()\n",
    "strategies['cnn_strategy1'] = strategies['cnn_strategy1'].cumsum()\n",
    "strategies['cnn_strategy2'] = strategies['cnn_strategy2'].cumsum()\n",
    "strategies['csc_strategy1'] = strategies['csc_strategy1'].cumsum()\n",
    "strategies['csc_strategy2'] = strategies['csc_strategy2'].cumsum()\n",
    "strategies['buyhold'] = strategies['buyhold'].cumsum()\n",
    "strategies['trendStrategy'] = strategies['trendStrategy'].cumsum()"
   ]
  },
  {
   "cell_type": "code",
   "execution_count": 91,
   "metadata": {},
   "outputs": [],
   "source": [
    "plt.rcParams.update({'font.size': 19})"
   ]
  },
  {
   "cell_type": "code",
   "execution_count": null,
   "metadata": {},
   "outputs": [],
   "source": []
  },
  {
   "cell_type": "code",
   "execution_count": 98,
   "metadata": {},
   "outputs": [
    {
     "data": {
      "image/png": "[encoded data removed]",
      "text/plain": [
       "<Figure size 1440x720 with 1 Axes>"
      ]
     },
     "metadata": {},
     "output_type": "display_data"
    }
   ],
   "source": [
    "plotstrategies1 = strategies.plot(x=\"Date\", y=[\"bi_lstm_strategy1\", \"tcn_strategy1\", \"csc_strategy1\", \"cnn_strategy1\", \"bi_lstm_auto_strategy1\", \"buyhold\", \"trendStrategy\"], figsize=(20,10))"
   ]
  },
  {
   "cell_type": "code",
   "execution_count": 99,
   "metadata": {},
   "outputs": [
    {
     "data": {
      "image/png": "[encoded data removed]",
      "text/plain": [
       "<Figure size 1440x720 with 1 Axes>"
      ]
     },
     "metadata": {},
     "output_type": "display_data"
    }
   ],
   "source": [
    "plotstrategies2 = strategies.plot(x=\"Date\", y=[\"bi_lstm_strategy2\", \"tcn_strategy2\", \"csc_strategy2\", \"cnn_strategy2\", \"bi_lstm_auto_strategy2\", \"buyhold\", \"trendStrategy\"], figsize=(20,10))"
   ]
  },
  {
   "cell_type": "code",
   "execution_count": 100,
   "metadata": {},
   "outputs": [],
   "source": [
    "plotstrategies1.get_figure().savefig(\"period2_strategy1.png\")"
   ]
  },
  {
   "cell_type": "code",
   "execution_count": 101,
   "metadata": {},
   "outputs": [],
   "source": [
    "plotstrategies2.get_figure().savefig(\"period2_strategy2.png\")"
   ]
  },
  {
   "cell_type": "code",
   "execution_count": 102,
   "metadata": {},
   "outputs": [
    {
     "data": {
      "text/html": [
       "<div>\n",
       "<style scoped>\n",
       "    .dataframe tbody tr th:only-of-type {\n",
       "        vertical-align: middle;\n",
       "    }\n",
       "\n",
       "    .dataframe tbody tr th {\n",
       "        vertical-align: top;\n",
       "    }\n",
       "\n",
       "    .dataframe thead th {\n",
       "        text-align: right;\n",
       "    }\n",
       "</style>\n",
       "<table border=\"1\" class=\"dataframe\">\n",
       "  <thead>\n",
       "    <tr style=\"text-align: right;\">\n",
       "      <th></th>\n",
       "      <th>Date</th>\n",
       "      <th>buyhold</th>\n",
       "      <th>bi_lstm_strategy1</th>\n",
       "      <th>bi_lstm_strategy2</th>\n",
       "      <th>bi_lstm_auto_strategy1</th>\n",
       "      <th>bi_lstm_auto_strategy2</th>\n",
       "      <th>wavenet_strategy1</th>\n",
       "      <th>wavenet_strategy2</th>\n",
       "      <th>cnn_strategy1</th>\n",
       "      <th>cnn_strategy2</th>\n",
       "      <th>csc_strategy1</th>\n",
       "      <th>csc_strategy2</th>\n",
       "      <th>trendStrategy</th>\n",
       "      <th>tcn_strategy1</th>\n",
       "      <th>tcn_strategy2</th>\n",
       "    </tr>\n",
       "  </thead>\n",
       "  <tbody>\n",
       "    <tr>\n",
       "      <th>4622</th>\n",
       "      <td>12/26/2017</td>\n",
       "      <td>0.400446</td>\n",
       "      <td>0.204009</td>\n",
       "      <td>0.159523</td>\n",
       "      <td>0.253728</td>\n",
       "      <td>0.257464</td>\n",
       "      <td>-0.003663</td>\n",
       "      <td>-0.003663</td>\n",
       "      <td>0.200593</td>\n",
       "      <td>0.311897</td>\n",
       "      <td>0.222086</td>\n",
       "      <td>0.303008</td>\n",
       "      <td>0.238787</td>\n",
       "      <td>0.350554</td>\n",
       "      <td>0.455688</td>\n",
       "    </tr>\n",
       "  </tbody>\n",
       "</table>\n",
       "</div>"
      ],
      "text/plain": [
       "            Date   buyhold  bi_lstm_strategy1  bi_lstm_strategy2  \\\n",
       "4622  12/26/2017  0.400446           0.204009           0.159523   \n",
       "\n",
       "      bi_lstm_auto_strategy1  bi_lstm_auto_strategy2  wavenet_strategy1  \\\n",
       "4622                0.253728                0.257464          -0.003663   \n",
       "\n",
       "      wavenet_strategy2  cnn_strategy1  cnn_strategy2  csc_strategy1  \\\n",
       "4622          -0.003663       0.200593       0.311897       0.222086   \n",
       "\n",
       "      csc_strategy2  trendStrategy  tcn_strategy1  tcn_strategy2  \n",
       "4622       0.303008       0.238787       0.350554       0.455688  "
      ]
     },
     "execution_count": 102,
     "metadata": {},
     "output_type": "execute_result"
    }
   ],
   "source": [
    "strategies.tail(1)"
   ]
  },
  {
   "cell_type": "code",
   "execution_count": null,
   "metadata": {},
   "outputs": [],
   "source": []
  }
 ],
 "metadata": {
  "kernelspec": {
   "display_name": "Python 3",
   "language": "python",
   "name": "python3"
  },
  "language_info": {
   "codemirror_mode": {
    "name": "ipython",
    "version": 3
   },
   "file_extension": ".py",
   "mimetype": "text/x-python",
   "name": "python",
   "nbconvert_exporter": "python",
   "pygments_lexer": "ipython3",
   "version": "3.6.5"
  }
 },
 "nbformat": 4,
 "nbformat_minor": 2
}
