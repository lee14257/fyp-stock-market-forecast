{
 "cells": [
  {
   "cell_type": "code",
   "execution_count": 1,
   "metadata": {},
   "outputs": [],
   "source": [
    "import datetime\n",
    "import numpy as np\n",
    "import pandas as pd\n",
    "import matplotlib.pyplot as plt"
   ]
  },
  {
   "cell_type": "code",
   "execution_count": 150,
   "metadata": {},
   "outputs": [],
   "source": [
    "# Function to preprocess data before applying strategy\n",
    "def preprocess(data):\n",
    "    if 'label' in data.columns:\n",
    "        temp = data[['Date', 'Open', 'Close', 'label']].copy()\n",
    "    else:\n",
    "        temp = data[['Date', 'Open', 'Close']].copy()\n",
    "    temp['Norm_return'] = temp['Close'] / temp.iloc[0]['Close']\n",
    "    temp['Allocation'] = temp['Norm_return'] * 1\n",
    "    temp['Position'] = temp['Allocation'] * 1000 #Assume portfolio size is 10K\n",
    "    temp['Daily_return'] = temp['Position'].pct_change(1)\n",
    "    return temp\n",
    "\n",
    "# Strategy 1: buy today and sell tomorrow immediately if price increases\n",
    "def strategy1(data):\n",
    "    new_rows = list()\n",
    "    for i, row in data.iterrows():\n",
    "        if(row['Predicted Values'] == 1):\n",
    "            new_rows.append(row['Daily Return'])\n",
    "        else:\n",
    "            new_rows.append(None)\n",
    "    new_rows_np = np.array(new_rows, dtype=np.float)\n",
    "    return new_rows, new_rows_np\n",
    "\n",
    "# Strategy 2: if tomorrow is increasing, buy today and keep stock until price decreases\n",
    "def strategy2(data):\n",
    "    buy = False\n",
    "    new_rows = list()\n",
    "    for i, row in data.iterrows():\n",
    "        if(row['Predicted Values'] == 1 and buy == False):\n",
    "            buy = True\n",
    "            new_rows.append(None)\n",
    "        elif(buy == True and row['Predicted Values'] == -1):\n",
    "            buy = False\n",
    "            new_rows.append(None)\n",
    "        elif(buy == True):\n",
    "            new_rows.append(row['Daily Return'])\n",
    "        else:\n",
    "            new_rows.append(None)\n",
    "    new_rows_np = np.array(new_rows, dtype=np.float)\n",
    "    return new_rows, new_rows_np\n",
    "\n",
    "# Trend Strategy\n",
    "def trendStrategy(data):\n",
    "    buy = False\n",
    "    new_rows = list()\n",
    "    for i, row in data.iterrows():\n",
    "        if(row['FGS'] != 0 and buy == False):\n",
    "            buy = True\n",
    "            new_rows.append(None)\n",
    "        elif(buy == True and row['FGS'] == 0):\n",
    "            buy = False\n",
    "            new_rows.append(None)\n",
    "        elif(buy == True):\n",
    "            new_rows.append(row['Daily_return'])\n",
    "        else:\n",
    "            new_rows.append(None)\n",
    "    new_rows_np = np.array(new_rows, dtype=np.float)\n",
    "    return new_rows, new_rows_np\n",
    "\n",
    "# Function that returns sharpe ratio\n",
    "def getSharpeRatio(np_data):\n",
    "    # Note: Run strategies above first to get np data\n",
    "    # Assume Risk free ratio is 0\n",
    "    sharpeRatio = (np.nanmean(np_data) - 0)/np.nanstd(np_data)\n",
    "    return sharpeRatio\n"
   ]
  },
  {
   "cell_type": "code",
   "execution_count": 151,
   "metadata": {},
   "outputs": [],
   "source": [
    "# Read main dataset for NQ\n",
    "nq = pd.read_csv('@NQ_Daily.txt', sep=',')"
   ]
  },
  {
   "cell_type": "code",
   "execution_count": 166,
   "metadata": {},
   "outputs": [],
   "source": [
    "# 1st period: 01/10/2007 - 11/03/2008 -> Overall decreasing price trend\n",
    "nq_1 = nq[1856:2307]\n",
    "nq_1 = preprocess(nq_1)\n",
    "nq_1_temp = nq[1857:2308]\n",
    "nq_1_temp = preprocess(nq_1_temp)\n",
    "nq_1_test = [nq_1, nq['FGS'][1856:2307]]\n",
    "nq_1_test = pd.concat(nq_1_test, axis=1)"
   ]
  },
  {
   "cell_type": "code",
   "execution_count": 167,
   "metadata": {},
   "outputs": [
    {
     "data": {
      "text/html": [
       "<div>\n",
       "<style scoped>\n",
       "    .dataframe tbody tr th:only-of-type {\n",
       "        vertical-align: middle;\n",
       "    }\n",
       "\n",
       "    .dataframe tbody tr th {\n",
       "        vertical-align: top;\n",
       "    }\n",
       "\n",
       "    .dataframe thead th {\n",
       "        text-align: right;\n",
       "    }\n",
       "</style>\n",
       "<table border=\"1\" class=\"dataframe\">\n",
       "  <thead>\n",
       "    <tr style=\"text-align: right;\">\n",
       "      <th></th>\n",
       "      <th>Date</th>\n",
       "      <th>Open</th>\n",
       "      <th>Close</th>\n",
       "      <th>Norm_return</th>\n",
       "      <th>Allocation</th>\n",
       "      <th>Position</th>\n",
       "      <th>Daily_return</th>\n",
       "    </tr>\n",
       "  </thead>\n",
       "  <tbody>\n",
       "    <tr>\n",
       "      <th>2303</th>\n",
       "      <td>10/20/2008</td>\n",
       "      <td>1205.75</td>\n",
       "      <td>1251.75</td>\n",
       "      <td>0.690525</td>\n",
       "      <td>0.690525</td>\n",
       "      <td>690.525445</td>\n",
       "      <td>0.040740</td>\n",
       "    </tr>\n",
       "    <tr>\n",
       "      <th>2304</th>\n",
       "      <td>10/21/2008</td>\n",
       "      <td>1256.00</td>\n",
       "      <td>1184.25</td>\n",
       "      <td>0.653289</td>\n",
       "      <td>0.653289</td>\n",
       "      <td>653.289201</td>\n",
       "      <td>-0.053925</td>\n",
       "    </tr>\n",
       "    <tr>\n",
       "      <th>2305</th>\n",
       "      <td>10/22/2008</td>\n",
       "      <td>1181.75</td>\n",
       "      <td>1139.75</td>\n",
       "      <td>0.628741</td>\n",
       "      <td>0.628741</td>\n",
       "      <td>628.740863</td>\n",
       "      <td>-0.037577</td>\n",
       "    </tr>\n",
       "    <tr>\n",
       "      <th>2306</th>\n",
       "      <td>10/23/2008</td>\n",
       "      <td>1137.75</td>\n",
       "      <td>1145.25</td>\n",
       "      <td>0.631775</td>\n",
       "      <td>0.631775</td>\n",
       "      <td>631.774928</td>\n",
       "      <td>0.004826</td>\n",
       "    </tr>\n",
       "    <tr>\n",
       "      <th>2307</th>\n",
       "      <td>10/24/2008</td>\n",
       "      <td>1141.50</td>\n",
       "      <td>1083.25</td>\n",
       "      <td>0.597573</td>\n",
       "      <td>0.597573</td>\n",
       "      <td>597.572749</td>\n",
       "      <td>-0.054137</td>\n",
       "    </tr>\n",
       "  </tbody>\n",
       "</table>\n",
       "</div>"
      ],
      "text/plain": [
       "            Date     Open    Close  Norm_return  Allocation    Position  \\\n",
       "2303  10/20/2008  1205.75  1251.75     0.690525    0.690525  690.525445   \n",
       "2304  10/21/2008  1256.00  1184.25     0.653289    0.653289  653.289201   \n",
       "2305  10/22/2008  1181.75  1139.75     0.628741    0.628741  628.740863   \n",
       "2306  10/23/2008  1137.75  1145.25     0.631775    0.631775  631.774928   \n",
       "2307  10/24/2008  1141.50  1083.25     0.597573    0.597573  597.572749   \n",
       "\n",
       "      Daily_return  \n",
       "2303      0.040740  \n",
       "2304     -0.053925  \n",
       "2305     -0.037577  \n",
       "2306      0.004826  \n",
       "2307     -0.054137  "
      ]
     },
     "execution_count": 167,
     "metadata": {},
     "output_type": "execute_result"
    }
   ],
   "source": [
    "# Show last 5 rows\n",
    "nq_1_temp.tail()"
   ]
  },
  {
   "cell_type": "markdown",
   "metadata": {},
   "source": [
    "# Sharpe Ratio calculations for Period 1\n",
    "## 1. Buy and Hold"
   ]
  },
  {
   "cell_type": "code",
   "execution_count": 170,
   "metadata": {},
   "outputs": [],
   "source": [
    "buyandholdRows = list()\n",
    "for i, row in nq_1.iterrows():\n",
    "        buyandholdRows.append(row['Daily_return'])"
   ]
  },
  {
   "cell_type": "code",
   "execution_count": 171,
   "metadata": {
    "scrolled": true
   },
   "outputs": [
    {
     "data": {
      "text/plain": [
       "-0.043921177907573515"
      ]
     },
     "execution_count": 171,
     "metadata": {},
     "output_type": "execute_result"
    }
   ],
   "source": [
    "buyandholdRows_np = np.array(buyandholdRows, dtype=np.float)\n",
    "buyandhold_sharpe = np.nanmean(buyandholdRows_np)/np.nanstd(buyandholdRows_np)\n",
    "buyandhold_sharpe"
   ]
  },
  {
   "cell_type": "markdown",
   "metadata": {},
   "source": [
    "## 2. Trend Strategy"
   ]
  },
  {
   "cell_type": "code",
   "execution_count": 172,
   "metadata": {},
   "outputs": [],
   "source": [
    "trendRows, trendRows_np = trendStrategy(nq_1_test)"
   ]
  },
  {
   "cell_type": "code",
   "execution_count": 222,
   "metadata": {},
   "outputs": [
    {
     "name": "stdout",
     "output_type": "stream",
     "text": [
      "Sharpe Ratio for Trend Strategy is:  -0.0003897079766404047\n"
     ]
    }
   ],
   "source": [
    "print(\"Sharpe Ratio for Trend Strategy is: \", getSharpeRatio(trendRows_np))"
   ]
  },
  {
   "cell_type": "markdown",
   "metadata": {},
   "source": [
    "## 3. Bi-Directional LSTM\n",
    "### Preparation"
   ]
  },
  {
   "cell_type": "code",
   "execution_count": 174,
   "metadata": {},
   "outputs": [
    {
     "data": {
      "text/html": [
       "<div>\n",
       "<style scoped>\n",
       "    .dataframe tbody tr th:only-of-type {\n",
       "        vertical-align: middle;\n",
       "    }\n",
       "\n",
       "    .dataframe tbody tr th {\n",
       "        vertical-align: top;\n",
       "    }\n",
       "\n",
       "    .dataframe thead th {\n",
       "        text-align: right;\n",
       "    }\n",
       "</style>\n",
       "<table border=\"1\" class=\"dataframe\">\n",
       "  <thead>\n",
       "    <tr style=\"text-align: right;\">\n",
       "      <th></th>\n",
       "      <th>Date</th>\n",
       "      <th>True Closing Values</th>\n",
       "      <th>Predicted Closing Values</th>\n",
       "      <th>True Values</th>\n",
       "      <th>Predicted Values</th>\n",
       "    </tr>\n",
       "  </thead>\n",
       "  <tbody>\n",
       "    <tr>\n",
       "      <th>446</th>\n",
       "      <td>10/20/2008</td>\n",
       "      <td>1251.75</td>\n",
       "      <td>1247.541378</td>\n",
       "      <td>Up</td>\n",
       "      <td>Up</td>\n",
       "    </tr>\n",
       "    <tr>\n",
       "      <th>447</th>\n",
       "      <td>10/21/2008</td>\n",
       "      <td>1184.25</td>\n",
       "      <td>1297.587478</td>\n",
       "      <td>Down</td>\n",
       "      <td>Up</td>\n",
       "    </tr>\n",
       "    <tr>\n",
       "      <th>448</th>\n",
       "      <td>10/22/2008</td>\n",
       "      <td>1139.75</td>\n",
       "      <td>1357.166026</td>\n",
       "      <td>Down</td>\n",
       "      <td>Up</td>\n",
       "    </tr>\n",
       "    <tr>\n",
       "      <th>449</th>\n",
       "      <td>10/23/2008</td>\n",
       "      <td>1145.25</td>\n",
       "      <td>1264.819095</td>\n",
       "      <td>Up</td>\n",
       "      <td>Up</td>\n",
       "    </tr>\n",
       "    <tr>\n",
       "      <th>450</th>\n",
       "      <td>10/24/2008</td>\n",
       "      <td>1083.25</td>\n",
       "      <td>1066.653232</td>\n",
       "      <td>Down</td>\n",
       "      <td>Down</td>\n",
       "    </tr>\n",
       "  </tbody>\n",
       "</table>\n",
       "</div>"
      ],
      "text/plain": [
       "           Date  True Closing Values  Predicted Closing Values True Values  \\\n",
       "446  10/20/2008              1251.75               1247.541378          Up   \n",
       "447  10/21/2008              1184.25               1297.587478        Down   \n",
       "448  10/22/2008              1139.75               1357.166026        Down   \n",
       "449  10/23/2008              1145.25               1264.819095          Up   \n",
       "450  10/24/2008              1083.25               1066.653232        Down   \n",
       "\n",
       "    Predicted Values  \n",
       "446               Up  \n",
       "447               Up  \n",
       "448               Up  \n",
       "449               Up  \n",
       "450             Down  "
      ]
     },
     "execution_count": 174,
     "metadata": {},
     "output_type": "execute_result"
    }
   ],
   "source": [
    "lstm_prediction = pd.read_csv('data/bi_lstm_first_half.csv')\n",
    "lstm_prediction = lstm_prediction[:-5]\n",
    "lstm_prediction.tail()"
   ]
  },
  {
   "cell_type": "code",
   "execution_count": 175,
   "metadata": {},
   "outputs": [],
   "source": [
    "##Change to 1, 0, -1 (Up, Down, No change)\n",
    "lstm_prediction['True Values'] = lstm_prediction['True Values'].map({'No Change': 0, 'Down': -1, 'Up': 1})\n",
    "lstm_prediction['Predicted Values'] = lstm_prediction['Predicted Values'].map({'No Change': 0, 'Down': -1, 'Up': 1})"
   ]
  },
  {
   "cell_type": "code",
   "execution_count": 176,
   "metadata": {},
   "outputs": [
    {
     "data": {
      "text/html": [
       "<div>\n",
       "<style scoped>\n",
       "    .dataframe tbody tr th:only-of-type {\n",
       "        vertical-align: middle;\n",
       "    }\n",
       "\n",
       "    .dataframe tbody tr th {\n",
       "        vertical-align: top;\n",
       "    }\n",
       "\n",
       "    .dataframe thead th {\n",
       "        text-align: right;\n",
       "    }\n",
       "</style>\n",
       "<table border=\"1\" class=\"dataframe\">\n",
       "  <thead>\n",
       "    <tr style=\"text-align: right;\">\n",
       "      <th></th>\n",
       "      <th>Date</th>\n",
       "      <th>True Closing Values</th>\n",
       "      <th>Predicted Closing Values</th>\n",
       "      <th>True Values</th>\n",
       "      <th>Predicted Values</th>\n",
       "    </tr>\n",
       "  </thead>\n",
       "  <tbody>\n",
       "    <tr>\n",
       "      <th>1857</th>\n",
       "      <td>01/19/2007</td>\n",
       "      <td>1812.75</td>\n",
       "      <td>1789.474657</td>\n",
       "      <td>NaN</td>\n",
       "      <td>NaN</td>\n",
       "    </tr>\n",
       "    <tr>\n",
       "      <th>1858</th>\n",
       "      <td>01/22/2007</td>\n",
       "      <td>1798.50</td>\n",
       "      <td>1782.533149</td>\n",
       "      <td>-1.0</td>\n",
       "      <td>-1.0</td>\n",
       "    </tr>\n",
       "    <tr>\n",
       "      <th>1859</th>\n",
       "      <td>01/23/2007</td>\n",
       "      <td>1793.25</td>\n",
       "      <td>1777.010738</td>\n",
       "      <td>0.0</td>\n",
       "      <td>-1.0</td>\n",
       "    </tr>\n",
       "    <tr>\n",
       "      <th>1860</th>\n",
       "      <td>01/24/2007</td>\n",
       "      <td>1821.50</td>\n",
       "      <td>1775.143335</td>\n",
       "      <td>1.0</td>\n",
       "      <td>-1.0</td>\n",
       "    </tr>\n",
       "    <tr>\n",
       "      <th>1861</th>\n",
       "      <td>01/25/2007</td>\n",
       "      <td>1797.50</td>\n",
       "      <td>1772.227663</td>\n",
       "      <td>-1.0</td>\n",
       "      <td>-1.0</td>\n",
       "    </tr>\n",
       "  </tbody>\n",
       "</table>\n",
       "</div>"
      ],
      "text/plain": [
       "            Date  True Closing Values  Predicted Closing Values  True Values  \\\n",
       "1857  01/19/2007              1812.75               1789.474657          NaN   \n",
       "1858  01/22/2007              1798.50               1782.533149         -1.0   \n",
       "1859  01/23/2007              1793.25               1777.010738          0.0   \n",
       "1860  01/24/2007              1821.50               1775.143335          1.0   \n",
       "1861  01/25/2007              1797.50               1772.227663         -1.0   \n",
       "\n",
       "      Predicted Values  \n",
       "1857               NaN  \n",
       "1858              -1.0  \n",
       "1859              -1.0  \n",
       "1860              -1.0  \n",
       "1861              -1.0  "
      ]
     },
     "execution_count": 176,
     "metadata": {},
     "output_type": "execute_result"
    }
   ],
   "source": [
    "nq_1_temp = preprocess(nq_1_temp)\n",
    "lstm_prediction = lstm_prediction.set_index(nq_1_temp.index)\n",
    "lstm_prediction['Date'] = nq_1_temp.iloc[:,0].values\n",
    "lstm_prediction.head()"
   ]
  },
  {
   "cell_type": "code",
   "execution_count": 177,
   "metadata": {},
   "outputs": [
    {
     "data": {
      "text/html": [
       "<div>\n",
       "<style scoped>\n",
       "    .dataframe tbody tr th:only-of-type {\n",
       "        vertical-align: middle;\n",
       "    }\n",
       "\n",
       "    .dataframe tbody tr th {\n",
       "        vertical-align: top;\n",
       "    }\n",
       "\n",
       "    .dataframe thead th {\n",
       "        text-align: right;\n",
       "    }\n",
       "</style>\n",
       "<table border=\"1\" class=\"dataframe\">\n",
       "  <thead>\n",
       "    <tr style=\"text-align: right;\">\n",
       "      <th></th>\n",
       "      <th>Date</th>\n",
       "      <th>True Closing Values</th>\n",
       "      <th>Predicted Closing Values</th>\n",
       "      <th>True Values</th>\n",
       "      <th>Predicted Values</th>\n",
       "      <th>Daily Return</th>\n",
       "    </tr>\n",
       "  </thead>\n",
       "  <tbody>\n",
       "    <tr>\n",
       "      <th>1857</th>\n",
       "      <td>01/19/2007</td>\n",
       "      <td>1812.75</td>\n",
       "      <td>1789.474657</td>\n",
       "      <td>NaN</td>\n",
       "      <td>NaN</td>\n",
       "      <td>NaN</td>\n",
       "    </tr>\n",
       "    <tr>\n",
       "      <th>1858</th>\n",
       "      <td>01/22/2007</td>\n",
       "      <td>1798.50</td>\n",
       "      <td>1782.533149</td>\n",
       "      <td>-1.0</td>\n",
       "      <td>-1.0</td>\n",
       "      <td>-0.007861</td>\n",
       "    </tr>\n",
       "    <tr>\n",
       "      <th>1859</th>\n",
       "      <td>01/23/2007</td>\n",
       "      <td>1793.25</td>\n",
       "      <td>1777.010738</td>\n",
       "      <td>0.0</td>\n",
       "      <td>-1.0</td>\n",
       "      <td>-0.002919</td>\n",
       "    </tr>\n",
       "    <tr>\n",
       "      <th>1860</th>\n",
       "      <td>01/24/2007</td>\n",
       "      <td>1821.50</td>\n",
       "      <td>1775.143335</td>\n",
       "      <td>1.0</td>\n",
       "      <td>-1.0</td>\n",
       "      <td>0.015754</td>\n",
       "    </tr>\n",
       "    <tr>\n",
       "      <th>1861</th>\n",
       "      <td>01/25/2007</td>\n",
       "      <td>1797.50</td>\n",
       "      <td>1772.227663</td>\n",
       "      <td>-1.0</td>\n",
       "      <td>-1.0</td>\n",
       "      <td>-0.013176</td>\n",
       "    </tr>\n",
       "  </tbody>\n",
       "</table>\n",
       "</div>"
      ],
      "text/plain": [
       "            Date  True Closing Values  Predicted Closing Values  True Values  \\\n",
       "1857  01/19/2007              1812.75               1789.474657          NaN   \n",
       "1858  01/22/2007              1798.50               1782.533149         -1.0   \n",
       "1859  01/23/2007              1793.25               1777.010738          0.0   \n",
       "1860  01/24/2007              1821.50               1775.143335          1.0   \n",
       "1861  01/25/2007              1797.50               1772.227663         -1.0   \n",
       "\n",
       "      Predicted Values  Daily Return  \n",
       "1857               NaN           NaN  \n",
       "1858              -1.0     -0.007861  \n",
       "1859              -1.0     -0.002919  \n",
       "1860              -1.0      0.015754  \n",
       "1861              -1.0     -0.013176  "
      ]
     },
     "execution_count": 177,
     "metadata": {},
     "output_type": "execute_result"
    }
   ],
   "source": [
    "lstm_prediction[\"Daily Return\"] = nq_1_temp['Daily_return']\n",
    "lstm_prediction.head()"
   ]
  },
  {
   "cell_type": "markdown",
   "metadata": {},
   "source": [
    "### Bi-directional LSTM: Model Strategy 1"
   ]
  },
  {
   "cell_type": "code",
   "execution_count": 178,
   "metadata": {},
   "outputs": [],
   "source": [
    "lstm_rows_1, lstm_np_1 = strategy1(lstm_prediction)"
   ]
  },
  {
   "cell_type": "code",
   "execution_count": 179,
   "metadata": {},
   "outputs": [
    {
     "name": "stdout",
     "output_type": "stream",
     "text": [
      "Sharpe Ratio for Bi-Directional LSTM using strategy 1 is:  0.03164753160747525\n"
     ]
    }
   ],
   "source": [
    "print(\"Sharpe Ratio for Bi-Directional LSTM using strategy 1 is: \", getSharpeRatio(lstm_np_1))"
   ]
  },
  {
   "cell_type": "markdown",
   "metadata": {},
   "source": [
    "### Bi-directional LSTM: Model Strategy 2"
   ]
  },
  {
   "cell_type": "code",
   "execution_count": 180,
   "metadata": {},
   "outputs": [],
   "source": [
    "lstm_rows_2, lstm_np_2 = strategy2(lstm_prediction)"
   ]
  },
  {
   "cell_type": "code",
   "execution_count": 181,
   "metadata": {},
   "outputs": [
    {
     "name": "stdout",
     "output_type": "stream",
     "text": [
      "Sharpe Ratio for Bi-Directional LSTM using strategy 2 is:  0.017997062066500414\n"
     ]
    }
   ],
   "source": [
    "print(\"Sharpe Ratio for Bi-Directional LSTM using strategy 2 is: \", getSharpeRatio(lstm_np_2))"
   ]
  },
  {
   "cell_type": "markdown",
   "metadata": {},
   "source": [
    "## 4. CNN"
   ]
  },
  {
   "cell_type": "code",
   "execution_count": 182,
   "metadata": {},
   "outputs": [
    {
     "data": {
      "text/html": [
       "<div>\n",
       "<style scoped>\n",
       "    .dataframe tbody tr th:only-of-type {\n",
       "        vertical-align: middle;\n",
       "    }\n",
       "\n",
       "    .dataframe tbody tr th {\n",
       "        vertical-align: top;\n",
       "    }\n",
       "\n",
       "    .dataframe thead th {\n",
       "        text-align: right;\n",
       "    }\n",
       "</style>\n",
       "<table border=\"1\" class=\"dataframe\">\n",
       "  <thead>\n",
       "    <tr style=\"text-align: right;\">\n",
       "      <th></th>\n",
       "      <th>Date</th>\n",
       "      <th>True Closing Values</th>\n",
       "      <th>Predicted Closing Values</th>\n",
       "      <th>True Values</th>\n",
       "      <th>Predicted Values</th>\n",
       "    </tr>\n",
       "  </thead>\n",
       "  <tbody>\n",
       "    <tr>\n",
       "      <th>4</th>\n",
       "      <td>01/19/2007</td>\n",
       "      <td>1812.75</td>\n",
       "      <td>1810.676401</td>\n",
       "      <td>No Change</td>\n",
       "      <td>No Change</td>\n",
       "    </tr>\n",
       "    <tr>\n",
       "      <th>5</th>\n",
       "      <td>01/22/2007</td>\n",
       "      <td>1798.50</td>\n",
       "      <td>1842.040795</td>\n",
       "      <td>Down</td>\n",
       "      <td>Up</td>\n",
       "    </tr>\n",
       "    <tr>\n",
       "      <th>6</th>\n",
       "      <td>01/23/2007</td>\n",
       "      <td>1793.25</td>\n",
       "      <td>1766.560795</td>\n",
       "      <td>No Change</td>\n",
       "      <td>Down</td>\n",
       "    </tr>\n",
       "    <tr>\n",
       "      <th>7</th>\n",
       "      <td>01/24/2007</td>\n",
       "      <td>1821.50</td>\n",
       "      <td>1828.744729</td>\n",
       "      <td>Up</td>\n",
       "      <td>Up</td>\n",
       "    </tr>\n",
       "    <tr>\n",
       "      <th>8</th>\n",
       "      <td>01/25/2007</td>\n",
       "      <td>1797.50</td>\n",
       "      <td>1864.814104</td>\n",
       "      <td>Down</td>\n",
       "      <td>Up</td>\n",
       "    </tr>\n",
       "  </tbody>\n",
       "</table>\n",
       "</div>"
      ],
      "text/plain": [
       "         Date  True Closing Values  Predicted Closing Values True Values  \\\n",
       "4  01/19/2007              1812.75               1810.676401   No Change   \n",
       "5  01/22/2007              1798.50               1842.040795        Down   \n",
       "6  01/23/2007              1793.25               1766.560795   No Change   \n",
       "7  01/24/2007              1821.50               1828.744729          Up   \n",
       "8  01/25/2007              1797.50               1864.814104        Down   \n",
       "\n",
       "  Predicted Values  \n",
       "4        No Change  \n",
       "5               Up  \n",
       "6             Down  \n",
       "7               Up  \n",
       "8               Up  "
      ]
     },
     "execution_count": 182,
     "metadata": {},
     "output_type": "execute_result"
    }
   ],
   "source": [
    "cnn_prediction = pd.read_csv('data/cnn_first_half.csv')\n",
    "cnn_prediction = cnn_prediction[4:-1]\n",
    "cnn_prediction.head()"
   ]
  },
  {
   "cell_type": "code",
   "execution_count": 183,
   "metadata": {},
   "outputs": [],
   "source": [
    "##Change to 1, 0, -1 (Up, Down, No change)\n",
    "cnn_prediction['True Values'] = cnn_prediction['True Values'].map({'No Change': 0, 'Down': -1, 'Up': 1})\n",
    "cnn_prediction['Predicted Values'] = cnn_prediction['Predicted Values'].map({'No Change': 0, 'Down': -1, 'Up': 1})"
   ]
  },
  {
   "cell_type": "code",
   "execution_count": 184,
   "metadata": {},
   "outputs": [
    {
     "data": {
      "text/html": [
       "<div>\n",
       "<style scoped>\n",
       "    .dataframe tbody tr th:only-of-type {\n",
       "        vertical-align: middle;\n",
       "    }\n",
       "\n",
       "    .dataframe tbody tr th {\n",
       "        vertical-align: top;\n",
       "    }\n",
       "\n",
       "    .dataframe thead th {\n",
       "        text-align: right;\n",
       "    }\n",
       "</style>\n",
       "<table border=\"1\" class=\"dataframe\">\n",
       "  <thead>\n",
       "    <tr style=\"text-align: right;\">\n",
       "      <th></th>\n",
       "      <th>Date</th>\n",
       "      <th>True Closing Values</th>\n",
       "      <th>Predicted Closing Values</th>\n",
       "      <th>True Values</th>\n",
       "      <th>Predicted Values</th>\n",
       "    </tr>\n",
       "  </thead>\n",
       "  <tbody>\n",
       "    <tr>\n",
       "      <th>2303</th>\n",
       "      <td>10/20/2008</td>\n",
       "      <td>1251.75</td>\n",
       "      <td>1034.177940</td>\n",
       "      <td>1</td>\n",
       "      <td>-1</td>\n",
       "    </tr>\n",
       "    <tr>\n",
       "      <th>2304</th>\n",
       "      <td>10/21/2008</td>\n",
       "      <td>1184.25</td>\n",
       "      <td>1203.966007</td>\n",
       "      <td>-1</td>\n",
       "      <td>-1</td>\n",
       "    </tr>\n",
       "    <tr>\n",
       "      <th>2305</th>\n",
       "      <td>10/22/2008</td>\n",
       "      <td>1139.75</td>\n",
       "      <td>1194.189285</td>\n",
       "      <td>-1</td>\n",
       "      <td>1</td>\n",
       "    </tr>\n",
       "    <tr>\n",
       "      <th>2306</th>\n",
       "      <td>10/23/2008</td>\n",
       "      <td>1145.25</td>\n",
       "      <td>1116.396842</td>\n",
       "      <td>1</td>\n",
       "      <td>-1</td>\n",
       "    </tr>\n",
       "    <tr>\n",
       "      <th>2307</th>\n",
       "      <td>10/24/2008</td>\n",
       "      <td>1083.25</td>\n",
       "      <td>1103.461963</td>\n",
       "      <td>-1</td>\n",
       "      <td>-1</td>\n",
       "    </tr>\n",
       "  </tbody>\n",
       "</table>\n",
       "</div>"
      ],
      "text/plain": [
       "            Date  True Closing Values  Predicted Closing Values  True Values  \\\n",
       "2303  10/20/2008              1251.75               1034.177940            1   \n",
       "2304  10/21/2008              1184.25               1203.966007           -1   \n",
       "2305  10/22/2008              1139.75               1194.189285           -1   \n",
       "2306  10/23/2008              1145.25               1116.396842            1   \n",
       "2307  10/24/2008              1083.25               1103.461963           -1   \n",
       "\n",
       "      Predicted Values  \n",
       "2303                -1  \n",
       "2304                -1  \n",
       "2305                 1  \n",
       "2306                -1  \n",
       "2307                -1  "
      ]
     },
     "execution_count": 184,
     "metadata": {},
     "output_type": "execute_result"
    }
   ],
   "source": [
    "nq_1_temp = preprocess(nq_1_temp)\n",
    "cnn_prediction = cnn_prediction.set_index(nq_1_temp.index)\n",
    "cnn_prediction['Date'] = nq_1_temp.iloc[:,0].values\n",
    "cnn_prediction.tail()"
   ]
  },
  {
   "cell_type": "code",
   "execution_count": 185,
   "metadata": {},
   "outputs": [
    {
     "data": {
      "text/html": [
       "<div>\n",
       "<style scoped>\n",
       "    .dataframe tbody tr th:only-of-type {\n",
       "        vertical-align: middle;\n",
       "    }\n",
       "\n",
       "    .dataframe tbody tr th {\n",
       "        vertical-align: top;\n",
       "    }\n",
       "\n",
       "    .dataframe thead th {\n",
       "        text-align: right;\n",
       "    }\n",
       "</style>\n",
       "<table border=\"1\" class=\"dataframe\">\n",
       "  <thead>\n",
       "    <tr style=\"text-align: right;\">\n",
       "      <th></th>\n",
       "      <th>Date</th>\n",
       "      <th>True Closing Values</th>\n",
       "      <th>Predicted Closing Values</th>\n",
       "      <th>True Values</th>\n",
       "      <th>Predicted Values</th>\n",
       "      <th>Daily Return</th>\n",
       "    </tr>\n",
       "  </thead>\n",
       "  <tbody>\n",
       "    <tr>\n",
       "      <th>1857</th>\n",
       "      <td>01/19/2007</td>\n",
       "      <td>1812.75</td>\n",
       "      <td>1810.676401</td>\n",
       "      <td>0</td>\n",
       "      <td>0</td>\n",
       "      <td>NaN</td>\n",
       "    </tr>\n",
       "    <tr>\n",
       "      <th>1858</th>\n",
       "      <td>01/22/2007</td>\n",
       "      <td>1798.50</td>\n",
       "      <td>1842.040795</td>\n",
       "      <td>-1</td>\n",
       "      <td>1</td>\n",
       "      <td>-0.007861</td>\n",
       "    </tr>\n",
       "    <tr>\n",
       "      <th>1859</th>\n",
       "      <td>01/23/2007</td>\n",
       "      <td>1793.25</td>\n",
       "      <td>1766.560795</td>\n",
       "      <td>0</td>\n",
       "      <td>-1</td>\n",
       "      <td>-0.002919</td>\n",
       "    </tr>\n",
       "    <tr>\n",
       "      <th>1860</th>\n",
       "      <td>01/24/2007</td>\n",
       "      <td>1821.50</td>\n",
       "      <td>1828.744729</td>\n",
       "      <td>1</td>\n",
       "      <td>1</td>\n",
       "      <td>0.015754</td>\n",
       "    </tr>\n",
       "    <tr>\n",
       "      <th>1861</th>\n",
       "      <td>01/25/2007</td>\n",
       "      <td>1797.50</td>\n",
       "      <td>1864.814104</td>\n",
       "      <td>-1</td>\n",
       "      <td>1</td>\n",
       "      <td>-0.013176</td>\n",
       "    </tr>\n",
       "  </tbody>\n",
       "</table>\n",
       "</div>"
      ],
      "text/plain": [
       "            Date  True Closing Values  Predicted Closing Values  True Values  \\\n",
       "1857  01/19/2007              1812.75               1810.676401            0   \n",
       "1858  01/22/2007              1798.50               1842.040795           -1   \n",
       "1859  01/23/2007              1793.25               1766.560795            0   \n",
       "1860  01/24/2007              1821.50               1828.744729            1   \n",
       "1861  01/25/2007              1797.50               1864.814104           -1   \n",
       "\n",
       "      Predicted Values  Daily Return  \n",
       "1857                 0           NaN  \n",
       "1858                 1     -0.007861  \n",
       "1859                -1     -0.002919  \n",
       "1860                 1      0.015754  \n",
       "1861                 1     -0.013176  "
      ]
     },
     "execution_count": 185,
     "metadata": {},
     "output_type": "execute_result"
    }
   ],
   "source": [
    "cnn_prediction[\"Daily Return\"] = nq_1_temp['Daily_return']\n",
    "cnn_prediction.head()"
   ]
  },
  {
   "cell_type": "markdown",
   "metadata": {},
   "source": [
    "### CNN: Model Strategy 1"
   ]
  },
  {
   "cell_type": "code",
   "execution_count": 186,
   "metadata": {},
   "outputs": [
    {
     "name": "stdout",
     "output_type": "stream",
     "text": [
      "Sharpe Ratio for cnn using strategy 1 is:  -0.0049970429735901175\n"
     ]
    }
   ],
   "source": [
    "cnn_rows_1, cnn_np_1 = strategy1(cnn_prediction)\n",
    "print(\"Sharpe Ratio for cnn using strategy 1 is: \", getSharpeRatio(cnn_np_1))"
   ]
  },
  {
   "cell_type": "markdown",
   "metadata": {},
   "source": [
    "### CNN: Model Strategy 2"
   ]
  },
  {
   "cell_type": "code",
   "execution_count": 187,
   "metadata": {},
   "outputs": [
    {
     "name": "stdout",
     "output_type": "stream",
     "text": [
      "Sharpe Ratio for cnn using strategy 2 is:  -0.0026302948105813642\n"
     ]
    }
   ],
   "source": [
    "cnn_rows_2, cnn_np_2 = strategy2(cnn_prediction)\n",
    "print(\"Sharpe Ratio for cnn using strategy 2 is: \", getSharpeRatio(cnn_np_2))"
   ]
  },
  {
   "cell_type": "markdown",
   "metadata": {},
   "source": [
    "## 5. CSC"
   ]
  },
  {
   "cell_type": "code",
   "execution_count": 188,
   "metadata": {},
   "outputs": [
    {
     "data": {
      "text/html": [
       "<div>\n",
       "<style scoped>\n",
       "    .dataframe tbody tr th:only-of-type {\n",
       "        vertical-align: middle;\n",
       "    }\n",
       "\n",
       "    .dataframe tbody tr th {\n",
       "        vertical-align: top;\n",
       "    }\n",
       "\n",
       "    .dataframe thead th {\n",
       "        text-align: right;\n",
       "    }\n",
       "</style>\n",
       "<table border=\"1\" class=\"dataframe\">\n",
       "  <thead>\n",
       "    <tr style=\"text-align: right;\">\n",
       "      <th></th>\n",
       "      <th>Date</th>\n",
       "      <th>True Closing Values</th>\n",
       "      <th>Predicted Closing Values</th>\n",
       "      <th>True Values</th>\n",
       "      <th>Predicted Values</th>\n",
       "    </tr>\n",
       "  </thead>\n",
       "  <tbody>\n",
       "    <tr>\n",
       "      <th>450</th>\n",
       "      <td>10/20/2008</td>\n",
       "      <td>1251.75</td>\n",
       "      <td>1202.500016</td>\n",
       "      <td>Up</td>\n",
       "      <td>No Change</td>\n",
       "    </tr>\n",
       "    <tr>\n",
       "      <th>451</th>\n",
       "      <td>10/21/2008</td>\n",
       "      <td>1184.25</td>\n",
       "      <td>1279.987622</td>\n",
       "      <td>Down</td>\n",
       "      <td>Up</td>\n",
       "    </tr>\n",
       "    <tr>\n",
       "      <th>452</th>\n",
       "      <td>10/22/2008</td>\n",
       "      <td>1139.75</td>\n",
       "      <td>1256.643159</td>\n",
       "      <td>Down</td>\n",
       "      <td>Up</td>\n",
       "    </tr>\n",
       "    <tr>\n",
       "      <th>453</th>\n",
       "      <td>10/23/2008</td>\n",
       "      <td>1145.25</td>\n",
       "      <td>1167.666305</td>\n",
       "      <td>Up</td>\n",
       "      <td>Up</td>\n",
       "    </tr>\n",
       "    <tr>\n",
       "      <th>454</th>\n",
       "      <td>10/24/2008</td>\n",
       "      <td>1083.25</td>\n",
       "      <td>1135.300049</td>\n",
       "      <td>Down</td>\n",
       "      <td>Down</td>\n",
       "    </tr>\n",
       "  </tbody>\n",
       "</table>\n",
       "</div>"
      ],
      "text/plain": [
       "           Date  True Closing Values  Predicted Closing Values True Values  \\\n",
       "450  10/20/2008              1251.75               1202.500016          Up   \n",
       "451  10/21/2008              1184.25               1279.987622        Down   \n",
       "452  10/22/2008              1139.75               1256.643159        Down   \n",
       "453  10/23/2008              1145.25               1167.666305          Up   \n",
       "454  10/24/2008              1083.25               1135.300049        Down   \n",
       "\n",
       "    Predicted Values  \n",
       "450        No Change  \n",
       "451               Up  \n",
       "452               Up  \n",
       "453               Up  \n",
       "454             Down  "
      ]
     },
     "execution_count": 188,
     "metadata": {},
     "output_type": "execute_result"
    }
   ],
   "source": [
    "csc_prediction = pd.read_csv('data/csc_first_half.csv')\n",
    "csc_prediction = csc_prediction[4:-6]\n",
    "csc_prediction.tail()"
   ]
  },
  {
   "cell_type": "code",
   "execution_count": 189,
   "metadata": {},
   "outputs": [],
   "source": [
    "##Change to 1, 0, -1 (Up, Down, No change)\n",
    "csc_prediction['True Values'] = csc_prediction['True Values'].map({'No Change': 0, 'Down': -1, 'Up': 1})\n",
    "csc_prediction['Predicted Values'] = csc_prediction['Predicted Values'].map({'No Change': 0, 'Down': -1, 'Up': 1})"
   ]
  },
  {
   "cell_type": "code",
   "execution_count": 190,
   "metadata": {},
   "outputs": [
    {
     "data": {
      "text/html": [
       "<div>\n",
       "<style scoped>\n",
       "    .dataframe tbody tr th:only-of-type {\n",
       "        vertical-align: middle;\n",
       "    }\n",
       "\n",
       "    .dataframe tbody tr th {\n",
       "        vertical-align: top;\n",
       "    }\n",
       "\n",
       "    .dataframe thead th {\n",
       "        text-align: right;\n",
       "    }\n",
       "</style>\n",
       "<table border=\"1\" class=\"dataframe\">\n",
       "  <thead>\n",
       "    <tr style=\"text-align: right;\">\n",
       "      <th></th>\n",
       "      <th>Date</th>\n",
       "      <th>True Closing Values</th>\n",
       "      <th>Predicted Closing Values</th>\n",
       "      <th>True Values</th>\n",
       "      <th>Predicted Values</th>\n",
       "    </tr>\n",
       "  </thead>\n",
       "  <tbody>\n",
       "    <tr>\n",
       "      <th>1857</th>\n",
       "      <td>01/19/2007</td>\n",
       "      <td>1812.75</td>\n",
       "      <td>1815.415907</td>\n",
       "      <td>0</td>\n",
       "      <td>0</td>\n",
       "    </tr>\n",
       "    <tr>\n",
       "      <th>1858</th>\n",
       "      <td>01/22/2007</td>\n",
       "      <td>1798.50</td>\n",
       "      <td>1813.971924</td>\n",
       "      <td>-1</td>\n",
       "      <td>0</td>\n",
       "    </tr>\n",
       "    <tr>\n",
       "      <th>1859</th>\n",
       "      <td>01/23/2007</td>\n",
       "      <td>1793.25</td>\n",
       "      <td>1787.459552</td>\n",
       "      <td>0</td>\n",
       "      <td>-1</td>\n",
       "    </tr>\n",
       "    <tr>\n",
       "      <th>1860</th>\n",
       "      <td>01/24/2007</td>\n",
       "      <td>1821.50</td>\n",
       "      <td>1789.654367</td>\n",
       "      <td>1</td>\n",
       "      <td>0</td>\n",
       "    </tr>\n",
       "    <tr>\n",
       "      <th>1861</th>\n",
       "      <td>01/25/2007</td>\n",
       "      <td>1797.50</td>\n",
       "      <td>1835.419182</td>\n",
       "      <td>-1</td>\n",
       "      <td>1</td>\n",
       "    </tr>\n",
       "  </tbody>\n",
       "</table>\n",
       "</div>"
      ],
      "text/plain": [
       "            Date  True Closing Values  Predicted Closing Values  True Values  \\\n",
       "1857  01/19/2007              1812.75               1815.415907            0   \n",
       "1858  01/22/2007              1798.50               1813.971924           -1   \n",
       "1859  01/23/2007              1793.25               1787.459552            0   \n",
       "1860  01/24/2007              1821.50               1789.654367            1   \n",
       "1861  01/25/2007              1797.50               1835.419182           -1   \n",
       "\n",
       "      Predicted Values  \n",
       "1857                 0  \n",
       "1858                 0  \n",
       "1859                -1  \n",
       "1860                 0  \n",
       "1861                 1  "
      ]
     },
     "execution_count": 190,
     "metadata": {},
     "output_type": "execute_result"
    }
   ],
   "source": [
    "nq_1_temp = preprocess(nq_1_temp)\n",
    "csc_prediction = csc_prediction.set_index(nq_1_temp.index)\n",
    "csc_prediction['Date'] = nq_1_temp.iloc[:,0].values\n",
    "csc_prediction.head()"
   ]
  },
  {
   "cell_type": "code",
   "execution_count": 191,
   "metadata": {},
   "outputs": [
    {
     "data": {
      "text/html": [
       "<div>\n",
       "<style scoped>\n",
       "    .dataframe tbody tr th:only-of-type {\n",
       "        vertical-align: middle;\n",
       "    }\n",
       "\n",
       "    .dataframe tbody tr th {\n",
       "        vertical-align: top;\n",
       "    }\n",
       "\n",
       "    .dataframe thead th {\n",
       "        text-align: right;\n",
       "    }\n",
       "</style>\n",
       "<table border=\"1\" class=\"dataframe\">\n",
       "  <thead>\n",
       "    <tr style=\"text-align: right;\">\n",
       "      <th></th>\n",
       "      <th>Date</th>\n",
       "      <th>True Closing Values</th>\n",
       "      <th>Predicted Closing Values</th>\n",
       "      <th>True Values</th>\n",
       "      <th>Predicted Values</th>\n",
       "      <th>Daily Return</th>\n",
       "    </tr>\n",
       "  </thead>\n",
       "  <tbody>\n",
       "    <tr>\n",
       "      <th>1857</th>\n",
       "      <td>01/19/2007</td>\n",
       "      <td>1812.75</td>\n",
       "      <td>1815.415907</td>\n",
       "      <td>0</td>\n",
       "      <td>0</td>\n",
       "      <td>NaN</td>\n",
       "    </tr>\n",
       "    <tr>\n",
       "      <th>1858</th>\n",
       "      <td>01/22/2007</td>\n",
       "      <td>1798.50</td>\n",
       "      <td>1813.971924</td>\n",
       "      <td>-1</td>\n",
       "      <td>0</td>\n",
       "      <td>-0.007861</td>\n",
       "    </tr>\n",
       "    <tr>\n",
       "      <th>1859</th>\n",
       "      <td>01/23/2007</td>\n",
       "      <td>1793.25</td>\n",
       "      <td>1787.459552</td>\n",
       "      <td>0</td>\n",
       "      <td>-1</td>\n",
       "      <td>-0.002919</td>\n",
       "    </tr>\n",
       "    <tr>\n",
       "      <th>1860</th>\n",
       "      <td>01/24/2007</td>\n",
       "      <td>1821.50</td>\n",
       "      <td>1789.654367</td>\n",
       "      <td>1</td>\n",
       "      <td>0</td>\n",
       "      <td>0.015754</td>\n",
       "    </tr>\n",
       "    <tr>\n",
       "      <th>1861</th>\n",
       "      <td>01/25/2007</td>\n",
       "      <td>1797.50</td>\n",
       "      <td>1835.419182</td>\n",
       "      <td>-1</td>\n",
       "      <td>1</td>\n",
       "      <td>-0.013176</td>\n",
       "    </tr>\n",
       "  </tbody>\n",
       "</table>\n",
       "</div>"
      ],
      "text/plain": [
       "            Date  True Closing Values  Predicted Closing Values  True Values  \\\n",
       "1857  01/19/2007              1812.75               1815.415907            0   \n",
       "1858  01/22/2007              1798.50               1813.971924           -1   \n",
       "1859  01/23/2007              1793.25               1787.459552            0   \n",
       "1860  01/24/2007              1821.50               1789.654367            1   \n",
       "1861  01/25/2007              1797.50               1835.419182           -1   \n",
       "\n",
       "      Predicted Values  Daily Return  \n",
       "1857                 0           NaN  \n",
       "1858                 0     -0.007861  \n",
       "1859                -1     -0.002919  \n",
       "1860                 0      0.015754  \n",
       "1861                 1     -0.013176  "
      ]
     },
     "execution_count": 191,
     "metadata": {},
     "output_type": "execute_result"
    }
   ],
   "source": [
    "csc_prediction[\"Daily Return\"] = nq_1_temp['Daily_return']\n",
    "csc_prediction.head()"
   ]
  },
  {
   "cell_type": "markdown",
   "metadata": {},
   "source": [
    "### CSC: Model Strategy 1"
   ]
  },
  {
   "cell_type": "code",
   "execution_count": 192,
   "metadata": {},
   "outputs": [
    {
     "name": "stdout",
     "output_type": "stream",
     "text": [
      "Sharpe Ratio for csc using strategy 1 is:  0.02315438626827678\n"
     ]
    }
   ],
   "source": [
    "csc_rows_1, csc_np_1 = strategy1(csc_prediction)\n",
    "print(\"Sharpe Ratio for csc using strategy 1 is: \", getSharpeRatio(csc_np_1))"
   ]
  },
  {
   "cell_type": "markdown",
   "metadata": {},
   "source": [
    "### CSC: Model Strategy 2"
   ]
  },
  {
   "cell_type": "code",
   "execution_count": 193,
   "metadata": {},
   "outputs": [
    {
     "name": "stdout",
     "output_type": "stream",
     "text": [
      "Sharpe Ratio for csc using strategy 2 is:  0.01799904747732428\n"
     ]
    }
   ],
   "source": [
    "csc_rows_2, csc_np_2 = strategy2(csc_prediction)\n",
    "print(\"Sharpe Ratio for csc using strategy 2 is: \", getSharpeRatio(csc_np_2))"
   ]
  },
  {
   "cell_type": "markdown",
   "metadata": {},
   "source": [
    "## 6. Bi-Directional LSTM Autoencoders"
   ]
  },
  {
   "cell_type": "code",
   "execution_count": 194,
   "metadata": {},
   "outputs": [
    {
     "data": {
      "text/html": [
       "<div>\n",
       "<style scoped>\n",
       "    .dataframe tbody tr th:only-of-type {\n",
       "        vertical-align: middle;\n",
       "    }\n",
       "\n",
       "    .dataframe tbody tr th {\n",
       "        vertical-align: top;\n",
       "    }\n",
       "\n",
       "    .dataframe thead th {\n",
       "        text-align: right;\n",
       "    }\n",
       "</style>\n",
       "<table border=\"1\" class=\"dataframe\">\n",
       "  <thead>\n",
       "    <tr style=\"text-align: right;\">\n",
       "      <th></th>\n",
       "      <th>Date</th>\n",
       "      <th>True Closing Values</th>\n",
       "      <th>Predicted Closing Values</th>\n",
       "      <th>True Values</th>\n",
       "      <th>Predicted Values</th>\n",
       "    </tr>\n",
       "  </thead>\n",
       "  <tbody>\n",
       "    <tr>\n",
       "      <th>446</th>\n",
       "      <td>10/20/2008</td>\n",
       "      <td>1251.75</td>\n",
       "      <td>1288.109051</td>\n",
       "      <td>Up</td>\n",
       "      <td>Up</td>\n",
       "    </tr>\n",
       "    <tr>\n",
       "      <th>447</th>\n",
       "      <td>10/21/2008</td>\n",
       "      <td>1184.25</td>\n",
       "      <td>1240.541355</td>\n",
       "      <td>Down</td>\n",
       "      <td>Down</td>\n",
       "    </tr>\n",
       "    <tr>\n",
       "      <th>448</th>\n",
       "      <td>10/22/2008</td>\n",
       "      <td>1139.75</td>\n",
       "      <td>1202.453930</td>\n",
       "      <td>Down</td>\n",
       "      <td>Up</td>\n",
       "    </tr>\n",
       "    <tr>\n",
       "      <th>449</th>\n",
       "      <td>10/23/2008</td>\n",
       "      <td>1145.25</td>\n",
       "      <td>1141.830454</td>\n",
       "      <td>Up</td>\n",
       "      <td>No Change</td>\n",
       "    </tr>\n",
       "    <tr>\n",
       "      <th>450</th>\n",
       "      <td>10/24/2008</td>\n",
       "      <td>1083.25</td>\n",
       "      <td>1100.926076</td>\n",
       "      <td>Down</td>\n",
       "      <td>Down</td>\n",
       "    </tr>\n",
       "  </tbody>\n",
       "</table>\n",
       "</div>"
      ],
      "text/plain": [
       "           Date  True Closing Values  Predicted Closing Values True Values  \\\n",
       "446  10/20/2008              1251.75               1288.109051          Up   \n",
       "447  10/21/2008              1184.25               1240.541355        Down   \n",
       "448  10/22/2008              1139.75               1202.453930        Down   \n",
       "449  10/23/2008              1145.25               1141.830454          Up   \n",
       "450  10/24/2008              1083.25               1100.926076        Down   \n",
       "\n",
       "    Predicted Values  \n",
       "446               Up  \n",
       "447             Down  \n",
       "448               Up  \n",
       "449        No Change  \n",
       "450             Down  "
      ]
     },
     "execution_count": 194,
     "metadata": {},
     "output_type": "execute_result"
    }
   ],
   "source": [
    "biauto_prediction = pd.read_csv('data/bi_lstm_autoencoders_first_half.csv')\n",
    "biauto_prediction = biauto_prediction[:-6]\n",
    "biauto_prediction.tail()"
   ]
  },
  {
   "cell_type": "code",
   "execution_count": 195,
   "metadata": {},
   "outputs": [],
   "source": [
    "##Change to 1, 0, -1 (Up, Down, No change)\n",
    "biauto_prediction['True Values'] = biauto_prediction['True Values'].map({'No Change': 0, 'Down': -1, 'Up': 1})\n",
    "biauto_prediction['Predicted Values'] = biauto_prediction['Predicted Values'].map({'No Change': 0, 'Down': -1, 'Up': 1})"
   ]
  },
  {
   "cell_type": "code",
   "execution_count": 196,
   "metadata": {},
   "outputs": [
    {
     "data": {
      "text/html": [
       "<div>\n",
       "<style scoped>\n",
       "    .dataframe tbody tr th:only-of-type {\n",
       "        vertical-align: middle;\n",
       "    }\n",
       "\n",
       "    .dataframe tbody tr th {\n",
       "        vertical-align: top;\n",
       "    }\n",
       "\n",
       "    .dataframe thead th {\n",
       "        text-align: right;\n",
       "    }\n",
       "</style>\n",
       "<table border=\"1\" class=\"dataframe\">\n",
       "  <thead>\n",
       "    <tr style=\"text-align: right;\">\n",
       "      <th></th>\n",
       "      <th>Date</th>\n",
       "      <th>True Closing Values</th>\n",
       "      <th>Predicted Closing Values</th>\n",
       "      <th>True Values</th>\n",
       "      <th>Predicted Values</th>\n",
       "    </tr>\n",
       "  </thead>\n",
       "  <tbody>\n",
       "    <tr>\n",
       "      <th>1857</th>\n",
       "      <td>01/19/2007</td>\n",
       "      <td>1812.75</td>\n",
       "      <td>1841.283574</td>\n",
       "      <td>NaN</td>\n",
       "      <td>NaN</td>\n",
       "    </tr>\n",
       "    <tr>\n",
       "      <th>1858</th>\n",
       "      <td>01/22/2007</td>\n",
       "      <td>1798.50</td>\n",
       "      <td>1828.092737</td>\n",
       "      <td>-1.0</td>\n",
       "      <td>1.0</td>\n",
       "    </tr>\n",
       "    <tr>\n",
       "      <th>1859</th>\n",
       "      <td>01/23/2007</td>\n",
       "      <td>1793.25</td>\n",
       "      <td>1812.622005</td>\n",
       "      <td>0.0</td>\n",
       "      <td>1.0</td>\n",
       "    </tr>\n",
       "    <tr>\n",
       "      <th>1860</th>\n",
       "      <td>01/24/2007</td>\n",
       "      <td>1821.50</td>\n",
       "      <td>1797.779918</td>\n",
       "      <td>1.0</td>\n",
       "      <td>0.0</td>\n",
       "    </tr>\n",
       "    <tr>\n",
       "      <th>1861</th>\n",
       "      <td>01/25/2007</td>\n",
       "      <td>1797.50</td>\n",
       "      <td>1785.128527</td>\n",
       "      <td>-1.0</td>\n",
       "      <td>-1.0</td>\n",
       "    </tr>\n",
       "  </tbody>\n",
       "</table>\n",
       "</div>"
      ],
      "text/plain": [
       "            Date  True Closing Values  Predicted Closing Values  True Values  \\\n",
       "1857  01/19/2007              1812.75               1841.283574          NaN   \n",
       "1858  01/22/2007              1798.50               1828.092737         -1.0   \n",
       "1859  01/23/2007              1793.25               1812.622005          0.0   \n",
       "1860  01/24/2007              1821.50               1797.779918          1.0   \n",
       "1861  01/25/2007              1797.50               1785.128527         -1.0   \n",
       "\n",
       "      Predicted Values  \n",
       "1857               NaN  \n",
       "1858               1.0  \n",
       "1859               1.0  \n",
       "1860               0.0  \n",
       "1861              -1.0  "
      ]
     },
     "execution_count": 196,
     "metadata": {},
     "output_type": "execute_result"
    }
   ],
   "source": [
    "nq_1_temp = preprocess(nq_1_temp)\n",
    "biauto_prediction = biauto_prediction.set_index(nq_1_temp.index)\n",
    "biauto_prediction['Date'] = nq_1_temp.iloc[:,0].values\n",
    "biauto_prediction.head()"
   ]
  },
  {
   "cell_type": "code",
   "execution_count": 197,
   "metadata": {},
   "outputs": [
    {
     "data": {
      "text/html": [
       "<div>\n",
       "<style scoped>\n",
       "    .dataframe tbody tr th:only-of-type {\n",
       "        vertical-align: middle;\n",
       "    }\n",
       "\n",
       "    .dataframe tbody tr th {\n",
       "        vertical-align: top;\n",
       "    }\n",
       "\n",
       "    .dataframe thead th {\n",
       "        text-align: right;\n",
       "    }\n",
       "</style>\n",
       "<table border=\"1\" class=\"dataframe\">\n",
       "  <thead>\n",
       "    <tr style=\"text-align: right;\">\n",
       "      <th></th>\n",
       "      <th>Date</th>\n",
       "      <th>True Closing Values</th>\n",
       "      <th>Predicted Closing Values</th>\n",
       "      <th>True Values</th>\n",
       "      <th>Predicted Values</th>\n",
       "      <th>Daily Return</th>\n",
       "    </tr>\n",
       "  </thead>\n",
       "  <tbody>\n",
       "    <tr>\n",
       "      <th>1857</th>\n",
       "      <td>01/19/2007</td>\n",
       "      <td>1812.75</td>\n",
       "      <td>1841.283574</td>\n",
       "      <td>NaN</td>\n",
       "      <td>NaN</td>\n",
       "      <td>NaN</td>\n",
       "    </tr>\n",
       "    <tr>\n",
       "      <th>1858</th>\n",
       "      <td>01/22/2007</td>\n",
       "      <td>1798.50</td>\n",
       "      <td>1828.092737</td>\n",
       "      <td>-1.0</td>\n",
       "      <td>1.0</td>\n",
       "      <td>-0.007861</td>\n",
       "    </tr>\n",
       "    <tr>\n",
       "      <th>1859</th>\n",
       "      <td>01/23/2007</td>\n",
       "      <td>1793.25</td>\n",
       "      <td>1812.622005</td>\n",
       "      <td>0.0</td>\n",
       "      <td>1.0</td>\n",
       "      <td>-0.002919</td>\n",
       "    </tr>\n",
       "    <tr>\n",
       "      <th>1860</th>\n",
       "      <td>01/24/2007</td>\n",
       "      <td>1821.50</td>\n",
       "      <td>1797.779918</td>\n",
       "      <td>1.0</td>\n",
       "      <td>0.0</td>\n",
       "      <td>0.015754</td>\n",
       "    </tr>\n",
       "    <tr>\n",
       "      <th>1861</th>\n",
       "      <td>01/25/2007</td>\n",
       "      <td>1797.50</td>\n",
       "      <td>1785.128527</td>\n",
       "      <td>-1.0</td>\n",
       "      <td>-1.0</td>\n",
       "      <td>-0.013176</td>\n",
       "    </tr>\n",
       "  </tbody>\n",
       "</table>\n",
       "</div>"
      ],
      "text/plain": [
       "            Date  True Closing Values  Predicted Closing Values  True Values  \\\n",
       "1857  01/19/2007              1812.75               1841.283574          NaN   \n",
       "1858  01/22/2007              1798.50               1828.092737         -1.0   \n",
       "1859  01/23/2007              1793.25               1812.622005          0.0   \n",
       "1860  01/24/2007              1821.50               1797.779918          1.0   \n",
       "1861  01/25/2007              1797.50               1785.128527         -1.0   \n",
       "\n",
       "      Predicted Values  Daily Return  \n",
       "1857               NaN           NaN  \n",
       "1858               1.0     -0.007861  \n",
       "1859               1.0     -0.002919  \n",
       "1860               0.0      0.015754  \n",
       "1861              -1.0     -0.013176  "
      ]
     },
     "execution_count": 197,
     "metadata": {},
     "output_type": "execute_result"
    }
   ],
   "source": [
    "biauto_prediction[\"Daily Return\"] = nq_1_temp['Daily_return']\n",
    "biauto_prediction.head()"
   ]
  },
  {
   "cell_type": "markdown",
   "metadata": {},
   "source": [
    "### Strategy 1"
   ]
  },
  {
   "cell_type": "code",
   "execution_count": 198,
   "metadata": {},
   "outputs": [
    {
     "name": "stdout",
     "output_type": "stream",
     "text": [
      "Sharpe Ratio for bidirectional autoencoder using strategy 1 is:  0.10401781104271189\n"
     ]
    }
   ],
   "source": [
    "biauto_rows_1, biauto_np_1 = strategy1(biauto_prediction)\n",
    "print(\"Sharpe Ratio for bidirectional autoencoder using strategy 1 is: \", getSharpeRatio(biauto_np_1))"
   ]
  },
  {
   "cell_type": "markdown",
   "metadata": {},
   "source": [
    "### Strategy 2"
   ]
  },
  {
   "cell_type": "code",
   "execution_count": 199,
   "metadata": {},
   "outputs": [
    {
     "name": "stdout",
     "output_type": "stream",
     "text": [
      "Sharpe Ratio for bidirectional autoencoder using strategy 2 is:  0.0905407289545464\n"
     ]
    }
   ],
   "source": [
    "biauto_rows_2, biauto_np_2 = strategy2(biauto_prediction)\n",
    "print(\"Sharpe Ratio for bidirectional autoencoder using strategy 2 is: \", getSharpeRatio(biauto_np_2))"
   ]
  },
  {
   "cell_type": "markdown",
   "metadata": {},
   "source": [
    "## 7. WaveNet"
   ]
  },
  {
   "cell_type": "code",
   "execution_count": 200,
   "metadata": {},
   "outputs": [],
   "source": [
    "wavenet_prediction = pd.read_csv('data/wavenet_first_half.csv')\n",
    "wavenet_prediction = wavenet_prediction.rename(index=str, columns={\"Next_Day_Prediction\": \"Predicted Values\", \"Next_Day_Original\": \"True Values\"})\n",
    "wavenet_prediction = wavenet_prediction[1:-3]"
   ]
  },
  {
   "cell_type": "code",
   "execution_count": 201,
   "metadata": {},
   "outputs": [],
   "source": [
    "##Change to 1, 0, -1 (Up, Down, No change)\n",
    "wavenet_prediction['True Values'] = wavenet_prediction['True Values'].map({'No Change': 0, 'Down': -1, 'Up': 1})\n",
    "wavenet_prediction['Predicted Values'] = wavenet_prediction['Predicted Values'].map({'No Change': 0, 'Down': -1, 'Up': 1})"
   ]
  },
  {
   "cell_type": "code",
   "execution_count": 202,
   "metadata": {},
   "outputs": [
    {
     "data": {
      "text/html": [
       "<div>\n",
       "<style scoped>\n",
       "    .dataframe tbody tr th:only-of-type {\n",
       "        vertical-align: middle;\n",
       "    }\n",
       "\n",
       "    .dataframe tbody tr th {\n",
       "        vertical-align: top;\n",
       "    }\n",
       "\n",
       "    .dataframe thead th {\n",
       "        text-align: right;\n",
       "    }\n",
       "</style>\n",
       "<table border=\"1\" class=\"dataframe\">\n",
       "  <thead>\n",
       "    <tr style=\"text-align: right;\">\n",
       "      <th></th>\n",
       "      <th>Date</th>\n",
       "      <th>Predicted Values</th>\n",
       "      <th>True Values</th>\n",
       "    </tr>\n",
       "  </thead>\n",
       "  <tbody>\n",
       "    <tr>\n",
       "      <th>1857</th>\n",
       "      <td>01/19/2007</td>\n",
       "      <td>1</td>\n",
       "      <td>-1</td>\n",
       "    </tr>\n",
       "    <tr>\n",
       "      <th>1858</th>\n",
       "      <td>01/22/2007</td>\n",
       "      <td>-1</td>\n",
       "      <td>0</td>\n",
       "    </tr>\n",
       "    <tr>\n",
       "      <th>1859</th>\n",
       "      <td>01/23/2007</td>\n",
       "      <td>1</td>\n",
       "      <td>1</td>\n",
       "    </tr>\n",
       "    <tr>\n",
       "      <th>1860</th>\n",
       "      <td>01/24/2007</td>\n",
       "      <td>1</td>\n",
       "      <td>-1</td>\n",
       "    </tr>\n",
       "    <tr>\n",
       "      <th>1861</th>\n",
       "      <td>01/25/2007</td>\n",
       "      <td>1</td>\n",
       "      <td>-1</td>\n",
       "    </tr>\n",
       "  </tbody>\n",
       "</table>\n",
       "</div>"
      ],
      "text/plain": [
       "            Date  Predicted Values  True Values\n",
       "1857  01/19/2007                 1           -1\n",
       "1858  01/22/2007                -1            0\n",
       "1859  01/23/2007                 1            1\n",
       "1860  01/24/2007                 1           -1\n",
       "1861  01/25/2007                 1           -1"
      ]
     },
     "execution_count": 202,
     "metadata": {},
     "output_type": "execute_result"
    }
   ],
   "source": [
    "wavenet_prediction = wavenet_prediction.set_index(nq_1_temp.index)\n",
    "wavenet_prediction['Date'] = nq_1_temp.iloc[:,0].values\n",
    "wavenet_prediction.head()"
   ]
  },
  {
   "cell_type": "code",
   "execution_count": 203,
   "metadata": {},
   "outputs": [
    {
     "data": {
      "text/html": [
       "<div>\n",
       "<style scoped>\n",
       "    .dataframe tbody tr th:only-of-type {\n",
       "        vertical-align: middle;\n",
       "    }\n",
       "\n",
       "    .dataframe tbody tr th {\n",
       "        vertical-align: top;\n",
       "    }\n",
       "\n",
       "    .dataframe thead th {\n",
       "        text-align: right;\n",
       "    }\n",
       "</style>\n",
       "<table border=\"1\" class=\"dataframe\">\n",
       "  <thead>\n",
       "    <tr style=\"text-align: right;\">\n",
       "      <th></th>\n",
       "      <th>Date</th>\n",
       "      <th>Predicted Values</th>\n",
       "      <th>True Values</th>\n",
       "      <th>Daily Return</th>\n",
       "    </tr>\n",
       "  </thead>\n",
       "  <tbody>\n",
       "    <tr>\n",
       "      <th>1857</th>\n",
       "      <td>01/19/2007</td>\n",
       "      <td>1</td>\n",
       "      <td>-1</td>\n",
       "      <td>NaN</td>\n",
       "    </tr>\n",
       "    <tr>\n",
       "      <th>1858</th>\n",
       "      <td>01/22/2007</td>\n",
       "      <td>-1</td>\n",
       "      <td>0</td>\n",
       "      <td>-0.007861</td>\n",
       "    </tr>\n",
       "    <tr>\n",
       "      <th>1859</th>\n",
       "      <td>01/23/2007</td>\n",
       "      <td>1</td>\n",
       "      <td>1</td>\n",
       "      <td>-0.002919</td>\n",
       "    </tr>\n",
       "    <tr>\n",
       "      <th>1860</th>\n",
       "      <td>01/24/2007</td>\n",
       "      <td>1</td>\n",
       "      <td>-1</td>\n",
       "      <td>0.015754</td>\n",
       "    </tr>\n",
       "    <tr>\n",
       "      <th>1861</th>\n",
       "      <td>01/25/2007</td>\n",
       "      <td>1</td>\n",
       "      <td>-1</td>\n",
       "      <td>-0.013176</td>\n",
       "    </tr>\n",
       "  </tbody>\n",
       "</table>\n",
       "</div>"
      ],
      "text/plain": [
       "            Date  Predicted Values  True Values  Daily Return\n",
       "1857  01/19/2007                 1           -1           NaN\n",
       "1858  01/22/2007                -1            0     -0.007861\n",
       "1859  01/23/2007                 1            1     -0.002919\n",
       "1860  01/24/2007                 1           -1      0.015754\n",
       "1861  01/25/2007                 1           -1     -0.013176"
      ]
     },
     "execution_count": 203,
     "metadata": {},
     "output_type": "execute_result"
    }
   ],
   "source": [
    "wavenet_prediction['Daily Return'] = nq_1_temp['Daily_return']\n",
    "wavenet_prediction.head()"
   ]
  },
  {
   "cell_type": "markdown",
   "metadata": {},
   "source": [
    "### Strategy 1"
   ]
  },
  {
   "cell_type": "code",
   "execution_count": 204,
   "metadata": {},
   "outputs": [],
   "source": [
    "wavenet_rows_1, wavenet_np_1 = strategy1(wavenet_prediction)"
   ]
  },
  {
   "cell_type": "code",
   "execution_count": 205,
   "metadata": {},
   "outputs": [
    {
     "name": "stdout",
     "output_type": "stream",
     "text": [
      "Sharpe Ratio for WaveNet using strategy 1 is:  0.12990165159479236\n"
     ]
    }
   ],
   "source": [
    "print(\"Sharpe Ratio for WaveNet using strategy 1 is: \", getSharpeRatio(wavenet_np_1))"
   ]
  },
  {
   "cell_type": "markdown",
   "metadata": {},
   "source": [
    "### Strategy 2"
   ]
  },
  {
   "cell_type": "code",
   "execution_count": 206,
   "metadata": {},
   "outputs": [],
   "source": [
    "wavenet_rows_2, wavenet_np_2 = strategy2(wavenet_prediction)"
   ]
  },
  {
   "cell_type": "code",
   "execution_count": 207,
   "metadata": {},
   "outputs": [
    {
     "name": "stdout",
     "output_type": "stream",
     "text": [
      "Sharpe Ratio for WaveNet using strategy 2 is:  0.08743029724341\n"
     ]
    }
   ],
   "source": [
    "print(\"Sharpe Ratio for WaveNet using strategy 2 is: \", getSharpeRatio(wavenet_np_2))"
   ]
  },
  {
   "cell_type": "markdown",
   "metadata": {},
   "source": [
    "# Stock Market Simulations - Cumulative Returns Plot"
   ]
  },
  {
   "cell_type": "code",
   "execution_count": 234,
   "metadata": {},
   "outputs": [],
   "source": [
    "# Data preprocessing\n",
    "strategies = nq_1_temp\n",
    "strategies['bi_lstm_strategy1'] = lstm_rows_1\n",
    "strategies['bi_lstm_strategy2'] = lstm_rows_2\n",
    "strategies['bi_lstm_auto_strategy1'] = biauto_rows_1\n",
    "strategies['bi_lstm_auto_strategy2'] = biauto_rows_2\n",
    "strategies['tcn_strategy1'] = wavenet_rows_1\n",
    "strategies['tcn_strategy2'] = wavenet_rows_2\n",
    "strategies['cnn_strategy1'] = cnn_rows_1\n",
    "strategies['cnn_strategy2'] = cnn_rows_2\n",
    "strategies['csc_strategy1'] = csc_rows_1\n",
    "strategies['csc_strategy2'] = csc_rows_2\n",
    "strategies['trendStrategy'] = trendRows"
   ]
  },
  {
   "cell_type": "code",
   "execution_count": 235,
   "metadata": {},
   "outputs": [
    {
     "data": {
      "text/html": [
       "<div>\n",
       "<style scoped>\n",
       "    .dataframe tbody tr th:only-of-type {\n",
       "        vertical-align: middle;\n",
       "    }\n",
       "\n",
       "    .dataframe tbody tr th {\n",
       "        vertical-align: top;\n",
       "    }\n",
       "\n",
       "    .dataframe thead th {\n",
       "        text-align: right;\n",
       "    }\n",
       "</style>\n",
       "<table border=\"1\" class=\"dataframe\">\n",
       "  <thead>\n",
       "    <tr style=\"text-align: right;\">\n",
       "      <th></th>\n",
       "      <th>Date</th>\n",
       "      <th>Open</th>\n",
       "      <th>Close</th>\n",
       "      <th>Norm_return</th>\n",
       "      <th>Allocation</th>\n",
       "      <th>Position</th>\n",
       "      <th>Daily_return</th>\n",
       "      <th>bi_lstm_strategy1</th>\n",
       "      <th>bi_lstm_strategy2</th>\n",
       "      <th>bi_lstm_auto_strategy1</th>\n",
       "      <th>bi_lstm_auto_strategy2</th>\n",
       "      <th>wavenet_strategy1</th>\n",
       "      <th>wavenet_strategy2</th>\n",
       "      <th>cnn_strategy1</th>\n",
       "      <th>cnn_strategy2</th>\n",
       "      <th>csc_strategy1</th>\n",
       "      <th>csc_strategy2</th>\n",
       "      <th>trendStrategy</th>\n",
       "      <th>tcn_strategy1</th>\n",
       "      <th>tcn_strategy2</th>\n",
       "    </tr>\n",
       "  </thead>\n",
       "  <tbody>\n",
       "    <tr>\n",
       "      <th>1857</th>\n",
       "      <td>01/19/2007</td>\n",
       "      <td>1811.75</td>\n",
       "      <td>1812.75</td>\n",
       "      <td>1.000000</td>\n",
       "      <td>1.000000</td>\n",
       "      <td>1000.000000</td>\n",
       "      <td>NaN</td>\n",
       "      <td>NaN</td>\n",
       "      <td>NaN</td>\n",
       "      <td>NaN</td>\n",
       "      <td>NaN</td>\n",
       "      <td>NaN</td>\n",
       "      <td>NaN</td>\n",
       "      <td>NaN</td>\n",
       "      <td>NaN</td>\n",
       "      <td>NaN</td>\n",
       "      <td>NaN</td>\n",
       "      <td>NaN</td>\n",
       "      <td>NaN</td>\n",
       "      <td>NaN</td>\n",
       "    </tr>\n",
       "    <tr>\n",
       "      <th>1858</th>\n",
       "      <td>01/22/2007</td>\n",
       "      <td>1813.25</td>\n",
       "      <td>1798.50</td>\n",
       "      <td>0.992139</td>\n",
       "      <td>0.992139</td>\n",
       "      <td>992.139015</td>\n",
       "      <td>-0.007861</td>\n",
       "      <td>NaN</td>\n",
       "      <td>NaN</td>\n",
       "      <td>-0.007861</td>\n",
       "      <td>NaN</td>\n",
       "      <td>NaN</td>\n",
       "      <td>NaN</td>\n",
       "      <td>-0.007861</td>\n",
       "      <td>NaN</td>\n",
       "      <td>NaN</td>\n",
       "      <td>NaN</td>\n",
       "      <td>0.000276</td>\n",
       "      <td>NaN</td>\n",
       "      <td>NaN</td>\n",
       "    </tr>\n",
       "    <tr>\n",
       "      <th>1859</th>\n",
       "      <td>01/23/2007</td>\n",
       "      <td>1798.75</td>\n",
       "      <td>1793.25</td>\n",
       "      <td>0.989243</td>\n",
       "      <td>0.989243</td>\n",
       "      <td>989.242863</td>\n",
       "      <td>-0.002919</td>\n",
       "      <td>NaN</td>\n",
       "      <td>NaN</td>\n",
       "      <td>-0.002919</td>\n",
       "      <td>-0.002919</td>\n",
       "      <td>-0.002919</td>\n",
       "      <td>NaN</td>\n",
       "      <td>NaN</td>\n",
       "      <td>NaN</td>\n",
       "      <td>NaN</td>\n",
       "      <td>NaN</td>\n",
       "      <td>-0.007861</td>\n",
       "      <td>-0.002919</td>\n",
       "      <td>NaN</td>\n",
       "    </tr>\n",
       "    <tr>\n",
       "      <th>1860</th>\n",
       "      <td>01/24/2007</td>\n",
       "      <td>1792.75</td>\n",
       "      <td>1821.50</td>\n",
       "      <td>1.004827</td>\n",
       "      <td>1.004827</td>\n",
       "      <td>1004.826920</td>\n",
       "      <td>0.015754</td>\n",
       "      <td>NaN</td>\n",
       "      <td>NaN</td>\n",
       "      <td>NaN</td>\n",
       "      <td>0.015754</td>\n",
       "      <td>0.015754</td>\n",
       "      <td>0.015754</td>\n",
       "      <td>0.015754</td>\n",
       "      <td>NaN</td>\n",
       "      <td>NaN</td>\n",
       "      <td>NaN</td>\n",
       "      <td>-0.002919</td>\n",
       "      <td>0.015754</td>\n",
       "      <td>0.015754</td>\n",
       "    </tr>\n",
       "    <tr>\n",
       "      <th>1861</th>\n",
       "      <td>01/25/2007</td>\n",
       "      <td>1825.75</td>\n",
       "      <td>1797.50</td>\n",
       "      <td>0.991587</td>\n",
       "      <td>0.991587</td>\n",
       "      <td>991.587367</td>\n",
       "      <td>-0.013176</td>\n",
       "      <td>NaN</td>\n",
       "      <td>NaN</td>\n",
       "      <td>NaN</td>\n",
       "      <td>NaN</td>\n",
       "      <td>-0.013176</td>\n",
       "      <td>-0.013176</td>\n",
       "      <td>-0.013176</td>\n",
       "      <td>-0.013176</td>\n",
       "      <td>-0.013176</td>\n",
       "      <td>NaN</td>\n",
       "      <td>0.015754</td>\n",
       "      <td>-0.013176</td>\n",
       "      <td>-0.013176</td>\n",
       "    </tr>\n",
       "  </tbody>\n",
       "</table>\n",
       "</div>"
      ],
      "text/plain": [
       "            Date     Open    Close  Norm_return  Allocation     Position  \\\n",
       "1857  01/19/2007  1811.75  1812.75     1.000000    1.000000  1000.000000   \n",
       "1858  01/22/2007  1813.25  1798.50     0.992139    0.992139   992.139015   \n",
       "1859  01/23/2007  1798.75  1793.25     0.989243    0.989243   989.242863   \n",
       "1860  01/24/2007  1792.75  1821.50     1.004827    1.004827  1004.826920   \n",
       "1861  01/25/2007  1825.75  1797.50     0.991587    0.991587   991.587367   \n",
       "\n",
       "      Daily_return  bi_lstm_strategy1  bi_lstm_strategy2  \\\n",
       "1857           NaN                NaN                NaN   \n",
       "1858     -0.007861                NaN                NaN   \n",
       "1859     -0.002919                NaN                NaN   \n",
       "1860      0.015754                NaN                NaN   \n",
       "1861     -0.013176                NaN                NaN   \n",
       "\n",
       "      bi_lstm_auto_strategy1  bi_lstm_auto_strategy2  wavenet_strategy1  \\\n",
       "1857                     NaN                     NaN                NaN   \n",
       "1858               -0.007861                     NaN                NaN   \n",
       "1859               -0.002919               -0.002919          -0.002919   \n",
       "1860                     NaN                0.015754           0.015754   \n",
       "1861                     NaN                     NaN          -0.013176   \n",
       "\n",
       "      wavenet_strategy2  cnn_strategy1  cnn_strategy2  csc_strategy1  \\\n",
       "1857                NaN            NaN            NaN            NaN   \n",
       "1858                NaN      -0.007861            NaN            NaN   \n",
       "1859                NaN            NaN            NaN            NaN   \n",
       "1860           0.015754       0.015754            NaN            NaN   \n",
       "1861          -0.013176      -0.013176      -0.013176      -0.013176   \n",
       "\n",
       "      csc_strategy2  trendStrategy  tcn_strategy1  tcn_strategy2  \n",
       "1857            NaN            NaN            NaN            NaN  \n",
       "1858            NaN       0.000276            NaN            NaN  \n",
       "1859            NaN      -0.007861      -0.002919            NaN  \n",
       "1860            NaN      -0.002919       0.015754       0.015754  \n",
       "1861            NaN       0.015754      -0.013176      -0.013176  "
      ]
     },
     "execution_count": 235,
     "metadata": {},
     "output_type": "execute_result"
    }
   ],
   "source": [
    "# Print top 5 rows\n",
    "strategies.head()"
   ]
  },
  {
   "cell_type": "code",
   "execution_count": 236,
   "metadata": {},
   "outputs": [
    {
     "data": {
      "text/html": [
       "<div>\n",
       "<style scoped>\n",
       "    .dataframe tbody tr th:only-of-type {\n",
       "        vertical-align: middle;\n",
       "    }\n",
       "\n",
       "    .dataframe tbody tr th {\n",
       "        vertical-align: top;\n",
       "    }\n",
       "\n",
       "    .dataframe thead th {\n",
       "        text-align: right;\n",
       "    }\n",
       "</style>\n",
       "<table border=\"1\" class=\"dataframe\">\n",
       "  <thead>\n",
       "    <tr style=\"text-align: right;\">\n",
       "      <th></th>\n",
       "      <th>Date</th>\n",
       "      <th>buyhold</th>\n",
       "      <th>bi_lstm_strategy1</th>\n",
       "      <th>bi_lstm_strategy2</th>\n",
       "      <th>bi_lstm_auto_strategy1</th>\n",
       "      <th>bi_lstm_auto_strategy2</th>\n",
       "      <th>wavenet_strategy1</th>\n",
       "      <th>wavenet_strategy2</th>\n",
       "      <th>cnn_strategy1</th>\n",
       "      <th>cnn_strategy2</th>\n",
       "      <th>csc_strategy1</th>\n",
       "      <th>csc_strategy2</th>\n",
       "      <th>trendStrategy</th>\n",
       "      <th>tcn_strategy1</th>\n",
       "      <th>tcn_strategy2</th>\n",
       "    </tr>\n",
       "  </thead>\n",
       "  <tbody>\n",
       "    <tr>\n",
       "      <th>1857</th>\n",
       "      <td>01/19/2007</td>\n",
       "      <td>NaN</td>\n",
       "      <td>NaN</td>\n",
       "      <td>NaN</td>\n",
       "      <td>NaN</td>\n",
       "      <td>NaN</td>\n",
       "      <td>NaN</td>\n",
       "      <td>NaN</td>\n",
       "      <td>NaN</td>\n",
       "      <td>NaN</td>\n",
       "      <td>NaN</td>\n",
       "      <td>NaN</td>\n",
       "      <td>NaN</td>\n",
       "      <td>NaN</td>\n",
       "      <td>NaN</td>\n",
       "    </tr>\n",
       "    <tr>\n",
       "      <th>1858</th>\n",
       "      <td>01/22/2007</td>\n",
       "      <td>-0.007861</td>\n",
       "      <td>NaN</td>\n",
       "      <td>NaN</td>\n",
       "      <td>-0.007861</td>\n",
       "      <td>NaN</td>\n",
       "      <td>NaN</td>\n",
       "      <td>NaN</td>\n",
       "      <td>-0.007861</td>\n",
       "      <td>NaN</td>\n",
       "      <td>NaN</td>\n",
       "      <td>NaN</td>\n",
       "      <td>0.000276</td>\n",
       "      <td>NaN</td>\n",
       "      <td>NaN</td>\n",
       "    </tr>\n",
       "    <tr>\n",
       "      <th>1859</th>\n",
       "      <td>01/23/2007</td>\n",
       "      <td>-0.002919</td>\n",
       "      <td>NaN</td>\n",
       "      <td>NaN</td>\n",
       "      <td>-0.002919</td>\n",
       "      <td>-0.002919</td>\n",
       "      <td>-0.002919</td>\n",
       "      <td>NaN</td>\n",
       "      <td>NaN</td>\n",
       "      <td>NaN</td>\n",
       "      <td>NaN</td>\n",
       "      <td>NaN</td>\n",
       "      <td>-0.007861</td>\n",
       "      <td>-0.002919</td>\n",
       "      <td>NaN</td>\n",
       "    </tr>\n",
       "    <tr>\n",
       "      <th>1860</th>\n",
       "      <td>01/24/2007</td>\n",
       "      <td>0.015754</td>\n",
       "      <td>NaN</td>\n",
       "      <td>NaN</td>\n",
       "      <td>NaN</td>\n",
       "      <td>0.015754</td>\n",
       "      <td>0.015754</td>\n",
       "      <td>0.015754</td>\n",
       "      <td>0.015754</td>\n",
       "      <td>NaN</td>\n",
       "      <td>NaN</td>\n",
       "      <td>NaN</td>\n",
       "      <td>-0.002919</td>\n",
       "      <td>0.015754</td>\n",
       "      <td>0.015754</td>\n",
       "    </tr>\n",
       "    <tr>\n",
       "      <th>1861</th>\n",
       "      <td>01/25/2007</td>\n",
       "      <td>-0.013176</td>\n",
       "      <td>NaN</td>\n",
       "      <td>NaN</td>\n",
       "      <td>NaN</td>\n",
       "      <td>NaN</td>\n",
       "      <td>-0.013176</td>\n",
       "      <td>-0.013176</td>\n",
       "      <td>-0.013176</td>\n",
       "      <td>-0.013176</td>\n",
       "      <td>-0.013176</td>\n",
       "      <td>NaN</td>\n",
       "      <td>0.015754</td>\n",
       "      <td>-0.013176</td>\n",
       "      <td>-0.013176</td>\n",
       "    </tr>\n",
       "  </tbody>\n",
       "</table>\n",
       "</div>"
      ],
      "text/plain": [
       "            Date   buyhold  bi_lstm_strategy1  bi_lstm_strategy2  \\\n",
       "1857  01/19/2007       NaN                NaN                NaN   \n",
       "1858  01/22/2007 -0.007861                NaN                NaN   \n",
       "1859  01/23/2007 -0.002919                NaN                NaN   \n",
       "1860  01/24/2007  0.015754                NaN                NaN   \n",
       "1861  01/25/2007 -0.013176                NaN                NaN   \n",
       "\n",
       "      bi_lstm_auto_strategy1  bi_lstm_auto_strategy2  wavenet_strategy1  \\\n",
       "1857                     NaN                     NaN                NaN   \n",
       "1858               -0.007861                     NaN                NaN   \n",
       "1859               -0.002919               -0.002919          -0.002919   \n",
       "1860                     NaN                0.015754           0.015754   \n",
       "1861                     NaN                     NaN          -0.013176   \n",
       "\n",
       "      wavenet_strategy2  cnn_strategy1  cnn_strategy2  csc_strategy1  \\\n",
       "1857                NaN            NaN            NaN            NaN   \n",
       "1858                NaN      -0.007861            NaN            NaN   \n",
       "1859                NaN            NaN            NaN            NaN   \n",
       "1860           0.015754       0.015754            NaN            NaN   \n",
       "1861          -0.013176      -0.013176      -0.013176      -0.013176   \n",
       "\n",
       "      csc_strategy2  trendStrategy  tcn_strategy1  tcn_strategy2  \n",
       "1857            NaN            NaN            NaN            NaN  \n",
       "1858            NaN       0.000276            NaN            NaN  \n",
       "1859            NaN      -0.007861      -0.002919            NaN  \n",
       "1860            NaN      -0.002919       0.015754       0.015754  \n",
       "1861            NaN       0.015754      -0.013176      -0.013176  "
      ]
     },
     "execution_count": 236,
     "metadata": {},
     "output_type": "execute_result"
    }
   ],
   "source": [
    "strategies = strategies.rename(index=str, columns={\"Daily_return\": \"buyhold\"})\n",
    "strategies = strategies.drop(columns=['Open', 'Norm_return', 'Allocation', 'Position', 'Close'])\n",
    "strategies.head()"
   ]
  },
  {
   "cell_type": "code",
   "execution_count": 237,
   "metadata": {},
   "outputs": [
    {
     "data": {
      "text/html": [
       "<div>\n",
       "<style scoped>\n",
       "    .dataframe tbody tr th:only-of-type {\n",
       "        vertical-align: middle;\n",
       "    }\n",
       "\n",
       "    .dataframe tbody tr th {\n",
       "        vertical-align: top;\n",
       "    }\n",
       "\n",
       "    .dataframe thead th {\n",
       "        text-align: right;\n",
       "    }\n",
       "</style>\n",
       "<table border=\"1\" class=\"dataframe\">\n",
       "  <thead>\n",
       "    <tr style=\"text-align: right;\">\n",
       "      <th></th>\n",
       "      <th>Date</th>\n",
       "      <th>buyhold</th>\n",
       "      <th>bi_lstm_strategy1</th>\n",
       "      <th>bi_lstm_strategy2</th>\n",
       "      <th>bi_lstm_auto_strategy1</th>\n",
       "      <th>bi_lstm_auto_strategy2</th>\n",
       "      <th>wavenet_strategy1</th>\n",
       "      <th>wavenet_strategy2</th>\n",
       "      <th>cnn_strategy1</th>\n",
       "      <th>cnn_strategy2</th>\n",
       "      <th>csc_strategy1</th>\n",
       "      <th>csc_strategy2</th>\n",
       "      <th>trendStrategy</th>\n",
       "      <th>tcn_strategy1</th>\n",
       "      <th>tcn_strategy2</th>\n",
       "    </tr>\n",
       "  </thead>\n",
       "  <tbody>\n",
       "    <tr>\n",
       "      <th>1857</th>\n",
       "      <td>01/19/2007</td>\n",
       "      <td>0.000000</td>\n",
       "      <td>0.0</td>\n",
       "      <td>0.0</td>\n",
       "      <td>0.000000</td>\n",
       "      <td>0.000000</td>\n",
       "      <td>0.000000</td>\n",
       "      <td>0.000000</td>\n",
       "      <td>0.000000</td>\n",
       "      <td>0.000000</td>\n",
       "      <td>0.000000</td>\n",
       "      <td>0.0</td>\n",
       "      <td>0.000000</td>\n",
       "      <td>0.000000</td>\n",
       "      <td>0.000000</td>\n",
       "    </tr>\n",
       "    <tr>\n",
       "      <th>1858</th>\n",
       "      <td>01/22/2007</td>\n",
       "      <td>-0.007861</td>\n",
       "      <td>0.0</td>\n",
       "      <td>0.0</td>\n",
       "      <td>-0.007861</td>\n",
       "      <td>0.000000</td>\n",
       "      <td>0.000000</td>\n",
       "      <td>0.000000</td>\n",
       "      <td>-0.007861</td>\n",
       "      <td>0.000000</td>\n",
       "      <td>0.000000</td>\n",
       "      <td>0.0</td>\n",
       "      <td>0.000276</td>\n",
       "      <td>0.000000</td>\n",
       "      <td>0.000000</td>\n",
       "    </tr>\n",
       "    <tr>\n",
       "      <th>1859</th>\n",
       "      <td>01/23/2007</td>\n",
       "      <td>-0.002919</td>\n",
       "      <td>0.0</td>\n",
       "      <td>0.0</td>\n",
       "      <td>-0.002919</td>\n",
       "      <td>-0.002919</td>\n",
       "      <td>-0.002919</td>\n",
       "      <td>0.000000</td>\n",
       "      <td>0.000000</td>\n",
       "      <td>0.000000</td>\n",
       "      <td>0.000000</td>\n",
       "      <td>0.0</td>\n",
       "      <td>-0.007861</td>\n",
       "      <td>-0.002919</td>\n",
       "      <td>0.000000</td>\n",
       "    </tr>\n",
       "    <tr>\n",
       "      <th>1860</th>\n",
       "      <td>01/24/2007</td>\n",
       "      <td>0.015754</td>\n",
       "      <td>0.0</td>\n",
       "      <td>0.0</td>\n",
       "      <td>0.000000</td>\n",
       "      <td>0.015754</td>\n",
       "      <td>0.015754</td>\n",
       "      <td>0.015754</td>\n",
       "      <td>0.015754</td>\n",
       "      <td>0.000000</td>\n",
       "      <td>0.000000</td>\n",
       "      <td>0.0</td>\n",
       "      <td>-0.002919</td>\n",
       "      <td>0.015754</td>\n",
       "      <td>0.015754</td>\n",
       "    </tr>\n",
       "    <tr>\n",
       "      <th>1861</th>\n",
       "      <td>01/25/2007</td>\n",
       "      <td>-0.013176</td>\n",
       "      <td>0.0</td>\n",
       "      <td>0.0</td>\n",
       "      <td>0.000000</td>\n",
       "      <td>0.000000</td>\n",
       "      <td>-0.013176</td>\n",
       "      <td>-0.013176</td>\n",
       "      <td>-0.013176</td>\n",
       "      <td>-0.013176</td>\n",
       "      <td>-0.013176</td>\n",
       "      <td>0.0</td>\n",
       "      <td>0.015754</td>\n",
       "      <td>-0.013176</td>\n",
       "      <td>-0.013176</td>\n",
       "    </tr>\n",
       "  </tbody>\n",
       "</table>\n",
       "</div>"
      ],
      "text/plain": [
       "            Date   buyhold  bi_lstm_strategy1  bi_lstm_strategy2  \\\n",
       "1857  01/19/2007  0.000000                0.0                0.0   \n",
       "1858  01/22/2007 -0.007861                0.0                0.0   \n",
       "1859  01/23/2007 -0.002919                0.0                0.0   \n",
       "1860  01/24/2007  0.015754                0.0                0.0   \n",
       "1861  01/25/2007 -0.013176                0.0                0.0   \n",
       "\n",
       "      bi_lstm_auto_strategy1  bi_lstm_auto_strategy2  wavenet_strategy1  \\\n",
       "1857                0.000000                0.000000           0.000000   \n",
       "1858               -0.007861                0.000000           0.000000   \n",
       "1859               -0.002919               -0.002919          -0.002919   \n",
       "1860                0.000000                0.015754           0.015754   \n",
       "1861                0.000000                0.000000          -0.013176   \n",
       "\n",
       "      wavenet_strategy2  cnn_strategy1  cnn_strategy2  csc_strategy1  \\\n",
       "1857           0.000000       0.000000       0.000000       0.000000   \n",
       "1858           0.000000      -0.007861       0.000000       0.000000   \n",
       "1859           0.000000       0.000000       0.000000       0.000000   \n",
       "1860           0.015754       0.015754       0.000000       0.000000   \n",
       "1861          -0.013176      -0.013176      -0.013176      -0.013176   \n",
       "\n",
       "      csc_strategy2  trendStrategy  tcn_strategy1  tcn_strategy2  \n",
       "1857            0.0       0.000000       0.000000       0.000000  \n",
       "1858            0.0       0.000276       0.000000       0.000000  \n",
       "1859            0.0      -0.007861      -0.002919       0.000000  \n",
       "1860            0.0      -0.002919       0.015754       0.015754  \n",
       "1861            0.0       0.015754      -0.013176      -0.013176  "
      ]
     },
     "execution_count": 237,
     "metadata": {},
     "output_type": "execute_result"
    }
   ],
   "source": [
    "strategies = strategies.fillna(0)\n",
    "strategies.head()"
   ]
  },
  {
   "cell_type": "code",
   "execution_count": 238,
   "metadata": {},
   "outputs": [],
   "source": [
    "strategies['bi_lstm_strategy1'] = strategies['bi_lstm_strategy1'].cumsum()\n",
    "strategies['bi_lstm_strategy2'] = strategies['bi_lstm_strategy2'].cumsum()\n",
    "strategies['bi_lstm_auto_strategy1'] = strategies['bi_lstm_auto_strategy1'].cumsum()\n",
    "strategies['bi_lstm_auto_strategy2'] = strategies['bi_lstm_auto_strategy2'].cumsum()\n",
    "strategies['tcn_strategy1'] = strategies['wavenet_strategy1'].cumsum()\n",
    "strategies['tcn_strategy2'] = strategies['wavenet_strategy2'].cumsum()\n",
    "strategies['cnn_strategy1'] = strategies['cnn_strategy1'].cumsum()\n",
    "strategies['cnn_strategy2'] = strategies['cnn_strategy2'].cumsum()\n",
    "strategies['csc_strategy1'] = strategies['csc_strategy1'].cumsum()\n",
    "strategies['csc_strategy2'] = strategies['csc_strategy2'].cumsum()\n",
    "strategies['buyhold'] = strategies['buyhold'].cumsum()\n",
    "strategies['trendStrategy'] = strategies['trendStrategy'].cumsum()"
   ]
  },
  {
   "cell_type": "code",
   "execution_count": 239,
   "metadata": {},
   "outputs": [],
   "source": [
    "plt.rcParams.update({'font.size': 19})"
   ]
  },
  {
   "cell_type": "markdown",
   "metadata": {},
   "source": [
    "# Cumulative Returns Plot for Strategy 1"
   ]
  },
  {
   "cell_type": "code",
   "execution_count": 240,
   "metadata": {},
   "outputs": [
    {
     "data": {
      "image/png": "[encoded data removed]",
      "text/plain": [
       "<Figure size 1440x720 with 1 Axes>"
      ]
     },
     "metadata": {},
     "output_type": "display_data"
    }
   ],
   "source": [
    "plotstrategies1 = strategies.plot(x=\"Date\", y=[\"bi_lstm_strategy1\", \"tcn_strategy1\", \"csc_strategy1\", \"cnn_strategy1\", \"bi_lstm_auto_strategy1\", \"buyhold\", \"trendStrategy\"], figsize=(20,10))"
   ]
  },
  {
   "cell_type": "markdown",
   "metadata": {},
   "source": [
    "# Cumulative Returns Plot for Strategy 2"
   ]
  },
  {
   "cell_type": "code",
   "execution_count": 241,
   "metadata": {},
   "outputs": [
    {
     "data": {
      "image/png": "[encoded data removed]",
      "text/plain": [
       "<Figure size 1440x720 with 1 Axes>"
      ]
     },
     "metadata": {},
     "output_type": "display_data"
    }
   ],
   "source": [
    "plotstrategies2 = strategies.plot(x=\"Date\", y=[\"bi_lstm_strategy2\", \"tcn_strategy2\", \"csc_strategy2\", \"cnn_strategy2\", \"bi_lstm_auto_strategy2\", \"buyhold\", \"trendStrategy\"], figsize=(20,10))"
   ]
  },
  {
   "cell_type": "code",
   "execution_count": 242,
   "metadata": {},
   "outputs": [],
   "source": [
    "# Export Plot\n",
    "plotstrategies1.get_figure().savefig(\"period1_strategy1.png\")"
   ]
  },
  {
   "cell_type": "code",
   "execution_count": 243,
   "metadata": {},
   "outputs": [],
   "source": [
    "# Export plot\n",
    "plotstrategies2.get_figure().savefig(\"period1_strategy2.png\")"
   ]
  }
 ],
 "metadata": {
  "kernelspec": {
   "display_name": "Python 3",
   "language": "python",
   "name": "python3"
  },
  "language_info": {
   "codemirror_mode": {
    "name": "ipython",
    "version": 3
   },
   "file_extension": ".py",
   "mimetype": "text/x-python",
   "name": "python",
   "nbconvert_exporter": "python",
   "pygments_lexer": "ipython3",
   "version": "3.6.5"
  }
 },
 "nbformat": 4,
 "nbformat_minor": 2
}
